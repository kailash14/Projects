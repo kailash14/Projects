{
 "cells": [
  {
   "cell_type": "code",
   "execution_count": 3,
   "metadata": {
    "colab": {
     "base_uri": "https://localhost:8080/",
     "height": 35
    },
    "colab_type": "code",
    "id": "wCX8LB4Si5DR",
    "outputId": "1b6527d0-6041-4068-dae8-8b069c78dc52"
   },
   "outputs": [
    {
     "name": "stdout",
     "output_type": "stream",
     "text": [
      "Drive already mounted at /content/drive; to attempt to forcibly remount, call drive.mount(\"/content/drive\", force_remount=True).\n"
     ]
    }
   ],
   "source": [
    "#mounting the google drive\n",
    "from google.colab import drive\n",
    "drive.mount('/content/drive')"
   ]
  },
  {
   "cell_type": "code",
   "execution_count": 4,
   "metadata": {
    "colab": {
     "base_uri": "https://localhost:8080/",
     "height": 109
    },
    "colab_type": "code",
    "id": "qz85V5fji5G-",
    "outputId": "7bb911d8-c15f-4108-c846-9d578f11679c"
   },
   "outputs": [
    {
     "name": "stdout",
     "output_type": "stream",
     "text": [
      "Requirement already satisfied: pyunpack in /usr/local/lib/python3.6/dist-packages (0.1.2)\n",
      "Requirement already satisfied: easyprocess in /usr/local/lib/python3.6/dist-packages (from pyunpack) (0.2.7)\n",
      "Requirement already satisfied: patool in /usr/local/lib/python3.6/dist-packages (1.12)\n",
      "Requirement already satisfied: scipy==1.1.0 in /usr/local/lib/python3.6/dist-packages (1.1.0)\n",
      "Requirement already satisfied: numpy>=1.8.2 in /usr/local/lib/python3.6/dist-packages (from scipy==1.1.0) (1.16.4)\n"
     ]
    }
   ],
   "source": [
    "!pip install pyunpack\n",
    "!pip install patool\n",
    "!pip install scipy==1.1.0"
   ]
  },
  {
   "cell_type": "code",
   "execution_count": 0,
   "metadata": {
    "colab": {},
    "colab_type": "code",
    "id": "5bKCJblMi5K8"
   },
   "outputs": [],
   "source": [
    "import warnings\n",
    "warnings.filterwarnings(\"ignore\")\n",
    "\n",
    "import os\n",
    "import random\n",
    "import cv2\n",
    "import math\n",
    "import numpy as np\n",
    "import scipy\n",
    "import scipy.misc\n",
    "from scipy import pi\n",
    "from subprocess import call\n",
    "from datetime import datetime\n",
    "from itertools import islice\n",
    "import matplotlib.pyplot as plt \n",
    "import tensorflow as tf"
   ]
  },
  {
   "cell_type": "code",
   "execution_count": 0,
   "metadata": {
    "colab": {},
    "colab_type": "code",
    "id": "CEWGUZp0oUYp"
   },
   "outputs": [],
   "source": [
    "from pyunpack import Archive\n",
    "Archive('drive/My Drive/Autopilot-TensorFlow-master.rar').extractall('Data')"
   ]
  },
  {
   "cell_type": "code",
   "execution_count": 0,
   "metadata": {
    "colab": {},
    "colab_type": "code",
    "id": "hiGA8uaqi5O_"
   },
   "outputs": [],
   "source": [
    "#preparing The Dataset\n",
    "import scipy.misc\n",
    "import random\n",
    "\n",
    "xs = []\n",
    "ys = []\n",
    "\n",
    "#points to the end of the last batch\n",
    "train_batch_pointer = 0\n",
    "val_batch_pointer = 0\n",
    "\n",
    "#read data.txt\n",
    "with open(\"Data/Autopilot-TensorFlow-master/Autopilot-TensorFlow-master/driving_dataset/data.txt\") as f:\n",
    "    for line in f:\n",
    "        xs.append(\"Data/Autopilot-TensorFlow-master/Autopilot-TensorFlow-master/driving_dataset/\" + line.split()[0])\n",
    "        #the paper by Nvidia uses the inverse of the turning radius,\n",
    "        #but steering wheel angle is proportional to the inverse of turning radius\n",
    "        #so the steering wheel angle in radians is used as the output\n",
    "        ys.append(float(line.split()[1]) * scipy.pi / 180)\n",
    "\n",
    "#get number of images\n",
    "num_images = len(xs)\n",
    "\n",
    "\n",
    "train_xs = xs[:int(len(xs) * 0.7)]\n",
    "train_ys = ys[:int(len(xs) * 0.7)]\n",
    "\n",
    "val_xs = xs[-int(len(xs) * 0.3):]\n",
    "val_ys = ys[-int(len(xs) * 0.3):]\n",
    "\n",
    "num_train_images = len(train_xs)\n",
    "num_val_images = len(val_xs)\n",
    "\n",
    "def LoadTrainBatch(batch_size):\n",
    "    global train_batch_pointer\n",
    "    x_out = []\n",
    "    y_out = []\n",
    "    for i in range(0, batch_size):\n",
    "        x_out.append(scipy.misc.imresize(scipy.misc.imread(train_xs[(train_batch_pointer + i) % num_train_images])[-150:], [66, 200]) / 255.0)\n",
    "        y_out.append([train_ys[(train_batch_pointer + i) % num_train_images]])\n",
    "    train_batch_pointer += batch_size\n",
    "    return x_out, y_out\n",
    "\n",
    "def LoadValBatch(batch_size):\n",
    "    global val_batch_pointer\n",
    "    x_out = []\n",
    "    y_out = []\n",
    "    for i in range(0, batch_size):\n",
    "        x_out.append(scipy.misc.imresize(scipy.misc.imread(val_xs[(val_batch_pointer + i) % num_val_images])[-150:], [66, 200]) / 255.0)\n",
    "        y_out.append([val_ys[(val_batch_pointer + i) % num_val_images]])\n",
    "    val_batch_pointer += batch_size\n",
    "    return x_out, y_out\n"
   ]
  },
  {
   "cell_type": "code",
   "execution_count": 9,
   "metadata": {
    "colab": {
     "base_uri": "https://localhost:8080/",
     "height": 54
    },
    "colab_type": "code",
    "id": "8Xe5TBAZqnHg",
    "outputId": "1320ed1b-76f2-4595-ed95-917465f354b2"
   },
   "outputs": [
    {
     "name": "stdout",
     "output_type": "stream",
     "text": [
      "31784\n",
      "13621\n"
     ]
    }
   ],
   "source": [
    "print(num_train_images)\n",
    "print(num_val_images)"
   ]
  },
  {
   "cell_type": "code",
   "execution_count": 10,
   "metadata": {
    "colab": {
     "base_uri": "https://localhost:8080/",
     "height": 90
    },
    "colab_type": "code",
    "id": "c7b0gwGzi5TT",
    "outputId": "9c5ccc9e-9b04-4bae-8d9f-b1cf5a36e6f0"
   },
   "outputs": [
    {
     "name": "stderr",
     "output_type": "stream",
     "text": [
      "WARNING: Logging before flag parsing goes to stderr.\n",
      "W0814 19:25:58.819151 139790696757120 deprecation.py:506] From <ipython-input-10-7e66226e7030>:59: calling dropout (from tensorflow.python.ops.nn_ops) with keep_prob is deprecated and will be removed in a future version.\n",
      "Instructions for updating:\n",
      "Please use `rate` instead of `keep_prob`. Rate should be set to `rate = 1 - keep_prob`.\n"
     ]
    }
   ],
   "source": [
    "#model_architecture\n",
    "import tensorflow as tf\n",
    "import scipy\n",
    "\n",
    "def weight_variable(shape):\n",
    "  initial = tf.truncated_normal(shape, stddev=0.1)\n",
    "  return tf.Variable(initial)\n",
    "\n",
    "def bias_variable(shape):\n",
    "  initial = tf.constant(0.1, shape=shape)\n",
    "  return tf.Variable(initial)\n",
    "\n",
    "def conv2d(x, W, stride):\n",
    "  return tf.nn.conv2d(x, W, strides=[1, stride, stride, 1], padding='VALID')\n",
    "\n",
    "x = tf.placeholder(tf.float32, shape=[None, 66, 200, 3])\n",
    "y_ = tf.placeholder(tf.float32, shape=[None, 1])\n",
    "\n",
    "x_image = x\n",
    "\n",
    "#first convolutional layer\n",
    "W_conv1 = weight_variable([5, 5, 3, 24])\n",
    "b_conv1 = bias_variable([24])\n",
    "\n",
    "h_conv1 = tf.nn.relu(conv2d(x_image, W_conv1, 2) + b_conv1)\n",
    "\n",
    "#second convolutional layer\n",
    "W_conv2 = weight_variable([5, 5, 24, 36])\n",
    "b_conv2 = bias_variable([36])\n",
    "\n",
    "h_conv2 = tf.nn.relu(conv2d(h_conv1, W_conv2, 2) + b_conv2)\n",
    "\n",
    "#third convolutional layer\n",
    "W_conv3 = weight_variable([5, 5, 36, 48])\n",
    "b_conv3 = bias_variable([48])\n",
    "\n",
    "h_conv3 = tf.nn.relu(conv2d(h_conv2, W_conv3, 2) + b_conv3)\n",
    "\n",
    "#fourth convolutional layer\n",
    "W_conv4 = weight_variable([3, 3, 48, 64])\n",
    "b_conv4 = bias_variable([64])\n",
    "\n",
    "h_conv4 = tf.nn.relu(conv2d(h_conv3, W_conv4, 1) + b_conv4)\n",
    "\n",
    "#fifth convolutional layer\n",
    "W_conv5 = weight_variable([3, 3, 64, 64])\n",
    "b_conv5 = bias_variable([64])\n",
    "\n",
    "h_conv5 = tf.nn.relu(conv2d(h_conv4, W_conv5, 1) + b_conv5)\n",
    "\n",
    "#FCL 1\n",
    "W_fc1 = weight_variable([1152, 1164])\n",
    "b_fc1 = bias_variable([1164])\n",
    "\n",
    "h_conv5_flat = tf.reshape(h_conv5, [-1, 1152])\n",
    "h_fc1 = tf.nn.relu(tf.matmul(h_conv5_flat, W_fc1) + b_fc1)\n",
    "\n",
    "keep_prob = tf.placeholder(tf.float32)\n",
    "#h_fc1_drop = tf.nn.dropout(h_fc1, keep_prob)\n",
    "h_fc1_drop = tf.nn.dropout(h_fc1, keep_prob=0.5)\n",
    "\n",
    "#FCL 2\n",
    "W_fc2 = weight_variable([1164, 100])\n",
    "b_fc2 = bias_variable([100])\n",
    "\n",
    "h_fc2 = tf.nn.relu(tf.matmul(h_fc1_drop, W_fc2) + b_fc2)\n",
    "\n",
    "#h_fc2_drop = tf.nn.dropout(h_fc2, keep_prob)\n",
    "h_fc2_drop = tf.nn.dropout(h_fc2, keep_prob=0.5)\n",
    "\n",
    "\n",
    "#FCL 3\n",
    "W_fc3 = weight_variable([100, 50])\n",
    "b_fc3 = bias_variable([50])\n",
    "\n",
    "h_fc3 = tf.nn.relu(tf.matmul(h_fc2_drop, W_fc3) + b_fc3)\n",
    "\n",
    "h_fc3_drop = tf.nn.dropout(h_fc3, keep_prob)\n",
    "\n",
    "#FCL 3\n",
    "W_fc4 = weight_variable([50, 10])\n",
    "b_fc4 = bias_variable([10])\n",
    "\n",
    "h_fc4 = tf.nn.relu(tf.matmul(h_fc3_drop, W_fc4) + b_fc4)\n",
    "\n",
    "h_fc4_drop = tf.nn.dropout(h_fc4, keep_prob)\n",
    "\n",
    "#Output\n",
    "W_fc5 = weight_variable([10, 1])\n",
    "b_fc5 = bias_variable([1])\n",
    "\n",
    "y = tf.multiply(tf.tanh(tf.matmul(h_fc4_drop, W_fc5) + b_fc5), 2) #scale the atan output"
   ]
  },
  {
   "cell_type": "code",
   "execution_count": 11,
   "metadata": {
    "colab": {
     "base_uri": "https://localhost:8080/",
     "height": 1000
    },
    "colab_type": "code",
    "id": "U2n70sRFi5OP",
    "outputId": "187d7183-59b6-4ed2-a6ec-d4e02c2eaa58"
   },
   "outputs": [
    {
     "name": "stderr",
     "output_type": "stream",
     "text": [
      "W0814 19:26:08.745205 139790696757120 deprecation.py:506] From /usr/local/lib/python3.6/dist-packages/tensorflow/python/training/rmsprop.py:119: calling Ones.__init__ (from tensorflow.python.ops.init_ops) with dtype is deprecated and will be removed in a future version.\n",
      "Instructions for updating:\n",
      "Call initializer instance with the dtype argument instead of passing it to the constructor\n",
      "W0814 19:26:08.962972 139790696757120 deprecation.py:323] From /usr/local/lib/python3.6/dist-packages/tensorflow/python/util/tf_should_use.py:193: initialize_all_variables (from tensorflow.python.ops.variables) is deprecated and will be removed after 2017-03-02.\n",
      "Instructions for updating:\n",
      "Use `tf.global_variables_initializer` instead.\n",
      "W0814 19:26:17.021427 139790696757120 saver.py:1134] *******************************************************\n",
      "W0814 19:26:17.027651 139790696757120 saver.py:1135] TensorFlow's V1 checkpoint format has been deprecated.\n",
      "W0814 19:26:17.029453 139790696757120 saver.py:1136] Consider switching to the more efficient V2 format:\n",
      "W0814 19:26:17.030430 139790696757120 saver.py:1137]    `tf.train.Saver(write_version=tf.train.SaverDef.V2)`\n",
      "W0814 19:26:17.037505 139790696757120 saver.py:1138] now on by default.\n",
      "W0814 19:26:17.038595 139790696757120 saver.py:1139] *******************************************************\n"
     ]
    },
    {
     "name": "stdout",
     "output_type": "stream",
     "text": [
      "Epoch: 0, Step: 0, Loss: 8.63339\n",
      "Epoch: 0, Step: 10, Loss: 8.01928\n",
      "Epoch: 0, Step: 20, Loss: 7.36743\n",
      "Epoch: 0, Step: 30, Loss: 7.1731\n",
      "Epoch: 0, Step: 40, Loss: 6.75372\n",
      "Epoch: 0, Step: 50, Loss: 6.56871\n",
      "Epoch: 0, Step: 60, Loss: 6.6426\n",
      "Epoch: 0, Step: 70, Loss: 6.98294\n",
      "Epoch: 0, Step: 80, Loss: 6.68586\n",
      "Epoch: 0, Step: 90, Loss: 6.31866\n"
     ]
    },
    {
     "name": "stderr",
     "output_type": "stream",
     "text": [
      "W0814 19:27:00.585821 139790696757120 saver.py:1134] *******************************************************\n",
      "W0814 19:27:00.586978 139790696757120 saver.py:1135] TensorFlow's V1 checkpoint format has been deprecated.\n",
      "W0814 19:27:00.588450 139790696757120 saver.py:1136] Consider switching to the more efficient V2 format:\n",
      "W0814 19:27:00.590055 139790696757120 saver.py:1137]    `tf.train.Saver(write_version=tf.train.SaverDef.V2)`\n",
      "W0814 19:27:00.592093 139790696757120 saver.py:1138] now on by default.\n",
      "W0814 19:27:00.595180 139790696757120 saver.py:1139] *******************************************************\n"
     ]
    },
    {
     "name": "stdout",
     "output_type": "stream",
     "text": [
      "Epoch: 0, Step: 100, Loss: 6.27794\n",
      "Epoch: 0, Step: 110, Loss: 6.19002\n",
      "Epoch: 0, Step: 120, Loss: 6.19399\n",
      "Epoch: 0, Step: 130, Loss: 6.53036\n",
      "Epoch: 0, Step: 140, Loss: 7.04063\n",
      "Epoch: 0, Step: 150, Loss: 6.38338\n",
      "Epoch: 0, Step: 160, Loss: 7.07707\n",
      "Epoch: 0, Step: 170, Loss: 6.34055\n",
      "Epoch: 0, Step: 180, Loss: 6.63367\n",
      "Epoch: 0, Step: 190, Loss: 6.28891\n"
     ]
    },
    {
     "name": "stderr",
     "output_type": "stream",
     "text": [
      "W0814 19:27:42.315130 139790696757120 saver.py:1134] *******************************************************\n",
      "W0814 19:27:42.316096 139790696757120 saver.py:1135] TensorFlow's V1 checkpoint format has been deprecated.\n",
      "W0814 19:27:42.316954 139790696757120 saver.py:1136] Consider switching to the more efficient V2 format:\n",
      "W0814 19:27:42.321685 139790696757120 saver.py:1137]    `tf.train.Saver(write_version=tf.train.SaverDef.V2)`\n",
      "W0814 19:27:42.323593 139790696757120 saver.py:1138] now on by default.\n",
      "W0814 19:27:42.325153 139790696757120 saver.py:1139] *******************************************************\n"
     ]
    },
    {
     "name": "stdout",
     "output_type": "stream",
     "text": [
      "Epoch: 0, Step: 200, Loss: 5.84108\n",
      "Epoch: 0, Step: 210, Loss: 5.74105\n",
      "Epoch: 0, Step: 220, Loss: 5.68889\n",
      "Epoch: 0, Step: 230, Loss: 5.70548\n",
      "Epoch: 0, Step: 240, Loss: 6.57705\n",
      "Epoch: 0, Step: 250, Loss: 5.57588\n",
      "Epoch: 0, Step: 260, Loss: 7.75397\n",
      "Epoch: 0, Step: 270, Loss: 5.8084\n",
      "Epoch: 0, Step: 280, Loss: 6.40519\n",
      "Epoch: 0, Step: 290, Loss: 5.20667\n"
     ]
    },
    {
     "name": "stderr",
     "output_type": "stream",
     "text": [
      "W0814 19:28:24.765874 139790696757120 saver.py:1134] *******************************************************\n",
      "W0814 19:28:24.769622 139790696757120 saver.py:1135] TensorFlow's V1 checkpoint format has been deprecated.\n",
      "W0814 19:28:24.773513 139790696757120 saver.py:1136] Consider switching to the more efficient V2 format:\n",
      "W0814 19:28:24.775063 139790696757120 saver.py:1137]    `tf.train.Saver(write_version=tf.train.SaverDef.V2)`\n",
      "W0814 19:28:24.777565 139790696757120 saver.py:1138] now on by default.\n",
      "W0814 19:28:24.779389 139790696757120 saver.py:1139] *******************************************************\n"
     ]
    },
    {
     "name": "stdout",
     "output_type": "stream",
     "text": [
      "Epoch: 0, Step: 300, Loss: 5.04292\n",
      "Epoch: 0, Step: 310, Loss: 5.2053\n",
      "Epoch: 0, Step: 320, Loss: 6.12007\n",
      "Epoch: 0, Step: 330, Loss: 5.36551\n",
      "Epoch: 0, Step: 340, Loss: 4.96835\n",
      "Epoch: 0, Step: 350, Loss: 4.76325\n",
      "Epoch: 0, Step: 360, Loss: 4.73809\n",
      "Epoch: 0, Step: 370, Loss: 4.90618\n",
      "Epoch: 0, Step: 380, Loss: 4.81376\n",
      "Epoch: 0, Step: 390, Loss: 5.86474\n"
     ]
    },
    {
     "name": "stderr",
     "output_type": "stream",
     "text": [
      "W0814 19:29:07.219332 139790696757120 saver.py:1134] *******************************************************\n",
      "W0814 19:29:07.220228 139790696757120 saver.py:1135] TensorFlow's V1 checkpoint format has been deprecated.\n",
      "W0814 19:29:07.221454 139790696757120 saver.py:1136] Consider switching to the more efficient V2 format:\n",
      "W0814 19:29:07.222431 139790696757120 saver.py:1137]    `tf.train.Saver(write_version=tf.train.SaverDef.V2)`\n",
      "W0814 19:29:07.223355 139790696757120 saver.py:1138] now on by default.\n",
      "W0814 19:29:07.224229 139790696757120 saver.py:1139] *******************************************************\n"
     ]
    },
    {
     "name": "stdout",
     "output_type": "stream",
     "text": [
      "Epoch: 0, Step: 400, Loss: 5.16375\n",
      "Epoch: 0, Step: 410, Loss: 4.3561\n",
      "Epoch: 0, Step: 420, Loss: 4.26968\n",
      "Epoch: 0, Step: 430, Loss: 4.19723\n",
      "Epoch: 0, Step: 440, Loss: 4.14698\n",
      "Epoch: 0, Step: 450, Loss: 4.10939\n",
      "Model saved in file: ./save/model.ckpt\n"
     ]
    },
    {
     "name": "stderr",
     "output_type": "stream",
     "text": [
      "W0814 19:29:28.933919 139790696757120 saver.py:1134] *******************************************************\n",
      "W0814 19:29:28.934943 139790696757120 saver.py:1135] TensorFlow's V1 checkpoint format has been deprecated.\n",
      "W0814 19:29:28.935594 139790696757120 saver.py:1136] Consider switching to the more efficient V2 format:\n",
      "W0814 19:29:28.938269 139790696757120 saver.py:1137]    `tf.train.Saver(write_version=tf.train.SaverDef.V2)`\n",
      "W0814 19:29:28.940798 139790696757120 saver.py:1138] now on by default.\n",
      "W0814 19:29:28.942680 139790696757120 saver.py:1139] *******************************************************\n"
     ]
    },
    {
     "name": "stdout",
     "output_type": "stream",
     "text": [
      "Epoch: 1, Step: 100, Loss: 4.47568\n",
      "Epoch: 1, Step: 110, Loss: 4.53367\n",
      "Epoch: 1, Step: 120, Loss: 4.02301\n",
      "Epoch: 1, Step: 130, Loss: 3.85066\n",
      "Epoch: 1, Step: 140, Loss: 3.759\n",
      "Epoch: 1, Step: 150, Loss: 3.74495\n",
      "Epoch: 1, Step: 160, Loss: 4.05995\n",
      "Epoch: 1, Step: 170, Loss: 4.98692\n",
      "Epoch: 1, Step: 180, Loss: 4.25131\n",
      "Epoch: 1, Step: 190, Loss: 3.49831\n"
     ]
    },
    {
     "name": "stderr",
     "output_type": "stream",
     "text": [
      "W0814 19:30:09.459110 139790696757120 saver.py:1134] *******************************************************\n",
      "W0814 19:30:09.460479 139790696757120 saver.py:1135] TensorFlow's V1 checkpoint format has been deprecated.\n",
      "W0814 19:30:09.463316 139790696757120 saver.py:1136] Consider switching to the more efficient V2 format:\n",
      "W0814 19:30:09.466146 139790696757120 saver.py:1137]    `tf.train.Saver(write_version=tf.train.SaverDef.V2)`\n",
      "W0814 19:30:09.468778 139790696757120 saver.py:1138] now on by default.\n",
      "W0814 19:30:09.469528 139790696757120 saver.py:1139] *******************************************************\n"
     ]
    },
    {
     "name": "stdout",
     "output_type": "stream",
     "text": [
      "Epoch: 1, Step: 200, Loss: 3.37114\n",
      "Epoch: 1, Step: 210, Loss: 3.28976\n",
      "Epoch: 1, Step: 220, Loss: 3.22596\n",
      "Epoch: 1, Step: 230, Loss: 3.18445\n",
      "Epoch: 1, Step: 240, Loss: 3.14224\n",
      "Epoch: 1, Step: 250, Loss: 3.12466\n",
      "Epoch: 1, Step: 260, Loss: 3.01039\n",
      "Epoch: 1, Step: 270, Loss: 3.01336\n",
      "Epoch: 1, Step: 280, Loss: 3.03818\n",
      "Epoch: 1, Step: 290, Loss: 3.2178\n"
     ]
    },
    {
     "name": "stderr",
     "output_type": "stream",
     "text": [
      "W0814 19:30:50.439771 139790696757120 saver.py:1134] *******************************************************\n",
      "W0814 19:30:50.440996 139790696757120 saver.py:1135] TensorFlow's V1 checkpoint format has been deprecated.\n",
      "W0814 19:30:50.441895 139790696757120 saver.py:1136] Consider switching to the more efficient V2 format:\n",
      "W0814 19:30:50.448491 139790696757120 saver.py:1137]    `tf.train.Saver(write_version=tf.train.SaverDef.V2)`\n",
      "W0814 19:30:50.449521 139790696757120 saver.py:1138] now on by default.\n",
      "W0814 19:30:50.451068 139790696757120 saver.py:1139] *******************************************************\n"
     ]
    },
    {
     "name": "stdout",
     "output_type": "stream",
     "text": [
      "Epoch: 1, Step: 300, Loss: 3.01233\n",
      "Epoch: 1, Step: 310, Loss: 2.79099\n",
      "Epoch: 1, Step: 320, Loss: 2.7387\n",
      "Epoch: 1, Step: 330, Loss: 2.6883\n",
      "Epoch: 1, Step: 340, Loss: 2.68384\n",
      "Epoch: 1, Step: 350, Loss: 2.59677\n",
      "Epoch: 1, Step: 360, Loss: 4.38094\n",
      "Epoch: 1, Step: 370, Loss: 6.37204\n",
      "Epoch: 1, Step: 380, Loss: 2.46039\n",
      "Epoch: 1, Step: 390, Loss: 2.42955\n"
     ]
    },
    {
     "name": "stderr",
     "output_type": "stream",
     "text": [
      "W0814 19:31:30.794131 139790696757120 saver.py:1134] *******************************************************\n",
      "W0814 19:31:30.795292 139790696757120 saver.py:1135] TensorFlow's V1 checkpoint format has been deprecated.\n",
      "W0814 19:31:30.796116 139790696757120 saver.py:1136] Consider switching to the more efficient V2 format:\n",
      "W0814 19:31:30.799973 139790696757120 saver.py:1137]    `tf.train.Saver(write_version=tf.train.SaverDef.V2)`\n",
      "W0814 19:31:30.801555 139790696757120 saver.py:1138] now on by default.\n",
      "W0814 19:31:30.803498 139790696757120 saver.py:1139] *******************************************************\n"
     ]
    },
    {
     "name": "stdout",
     "output_type": "stream",
     "text": [
      "Epoch: 1, Step: 400, Loss: 2.38587\n",
      "Epoch: 1, Step: 410, Loss: 2.3143\n",
      "Epoch: 1, Step: 420, Loss: 2.26977\n",
      "Epoch: 1, Step: 430, Loss: 2.23883\n",
      "Epoch: 1, Step: 440, Loss: 2.1866\n",
      "Epoch: 1, Step: 450, Loss: 2.14201\n",
      "Epoch: 1, Step: 460, Loss: 2.10001\n",
      "Epoch: 1, Step: 470, Loss: 2.05567\n",
      "Epoch: 1, Step: 480, Loss: 2.01545\n",
      "Epoch: 1, Step: 490, Loss: 1.99315\n"
     ]
    },
    {
     "name": "stderr",
     "output_type": "stream",
     "text": [
      "W0814 19:32:10.675792 139790696757120 saver.py:1134] *******************************************************\n",
      "W0814 19:32:10.677147 139790696757120 saver.py:1135] TensorFlow's V1 checkpoint format has been deprecated.\n",
      "W0814 19:32:10.681279 139790696757120 saver.py:1136] Consider switching to the more efficient V2 format:\n",
      "W0814 19:32:10.684955 139790696757120 saver.py:1137]    `tf.train.Saver(write_version=tf.train.SaverDef.V2)`\n",
      "W0814 19:32:10.686497 139790696757120 saver.py:1138] now on by default.\n",
      "W0814 19:32:10.688787 139790696757120 saver.py:1139] *******************************************************\n"
     ]
    },
    {
     "name": "stdout",
     "output_type": "stream",
     "text": [
      "Epoch: 1, Step: 500, Loss: 1.94481\n",
      "Epoch: 1, Step: 510, Loss: 1.89385\n",
      "Epoch: 1, Step: 520, Loss: 1.84751\n",
      "Epoch: 1, Step: 530, Loss: 1.81325\n",
      "Epoch: 1, Step: 540, Loss: 1.80472\n",
      "Epoch: 1, Step: 550, Loss: 1.75508\n",
      "Model saved in file: ./save/model.ckpt\n"
     ]
    },
    {
     "name": "stderr",
     "output_type": "stream",
     "text": [
      "W0814 19:32:32.685122 139790696757120 saver.py:1134] *******************************************************\n",
      "W0814 19:32:32.686276 139790696757120 saver.py:1135] TensorFlow's V1 checkpoint format has been deprecated.\n",
      "W0814 19:32:32.687138 139790696757120 saver.py:1136] Consider switching to the more efficient V2 format:\n",
      "W0814 19:32:32.694468 139790696757120 saver.py:1137]    `tf.train.Saver(write_version=tf.train.SaverDef.V2)`\n",
      "W0814 19:32:32.695280 139790696757120 saver.py:1138] now on by default.\n",
      "W0814 19:32:32.696011 139790696757120 saver.py:1139] *******************************************************\n"
     ]
    },
    {
     "name": "stdout",
     "output_type": "stream",
     "text": [
      "Epoch: 2, Step: 200, Loss: 1.73882\n",
      "Epoch: 2, Step: 210, Loss: 1.71103\n",
      "Epoch: 2, Step: 220, Loss: 1.68096\n",
      "Epoch: 2, Step: 230, Loss: 1.65283\n",
      "Epoch: 2, Step: 240, Loss: 1.62622\n",
      "Epoch: 2, Step: 250, Loss: 1.60128\n",
      "Epoch: 2, Step: 260, Loss: 1.5819\n",
      "Epoch: 2, Step: 270, Loss: 1.55799\n",
      "Epoch: 2, Step: 280, Loss: 1.53118\n",
      "Epoch: 2, Step: 290, Loss: 1.50816\n"
     ]
    },
    {
     "name": "stderr",
     "output_type": "stream",
     "text": [
      "W0814 19:33:13.800838 139790696757120 saver.py:1134] *******************************************************\n",
      "W0814 19:33:13.801860 139790696757120 saver.py:1135] TensorFlow's V1 checkpoint format has been deprecated.\n",
      "W0814 19:33:13.802691 139790696757120 saver.py:1136] Consider switching to the more efficient V2 format:\n",
      "W0814 19:33:13.805922 139790696757120 saver.py:1137]    `tf.train.Saver(write_version=tf.train.SaverDef.V2)`\n",
      "W0814 19:33:13.809234 139790696757120 saver.py:1138] now on by default.\n",
      "W0814 19:33:13.810961 139790696757120 saver.py:1139] *******************************************************\n"
     ]
    },
    {
     "name": "stdout",
     "output_type": "stream",
     "text": [
      "Epoch: 2, Step: 300, Loss: 1.5197\n",
      "Epoch: 2, Step: 310, Loss: 1.47846\n",
      "Epoch: 2, Step: 320, Loss: 5.60267\n",
      "Epoch: 2, Step: 330, Loss: 3.00766\n",
      "Epoch: 2, Step: 340, Loss: 1.3696\n",
      "Epoch: 2, Step: 350, Loss: 1.3427\n",
      "Epoch: 2, Step: 360, Loss: 1.38525\n",
      "Epoch: 2, Step: 370, Loss: 1.33603\n",
      "Epoch: 2, Step: 380, Loss: 1.26851\n",
      "Epoch: 2, Step: 390, Loss: 1.29723\n"
     ]
    },
    {
     "name": "stderr",
     "output_type": "stream",
     "text": [
      "W0814 19:33:53.116106 139790696757120 saver.py:1134] *******************************************************\n",
      "W0814 19:33:53.117054 139790696757120 saver.py:1135] TensorFlow's V1 checkpoint format has been deprecated.\n",
      "W0814 19:33:53.118466 139790696757120 saver.py:1136] Consider switching to the more efficient V2 format:\n",
      "W0814 19:33:53.119436 139790696757120 saver.py:1137]    `tf.train.Saver(write_version=tf.train.SaverDef.V2)`\n",
      "W0814 19:33:53.120324 139790696757120 saver.py:1138] now on by default.\n",
      "W0814 19:33:53.121381 139790696757120 saver.py:1139] *******************************************************\n"
     ]
    },
    {
     "name": "stdout",
     "output_type": "stream",
     "text": [
      "Epoch: 2, Step: 400, Loss: 1.27164\n",
      "Epoch: 2, Step: 410, Loss: 1.19129\n",
      "Epoch: 2, Step: 420, Loss: 1.19736\n",
      "Epoch: 2, Step: 430, Loss: 1.14897\n",
      "Epoch: 2, Step: 440, Loss: 1.12709\n",
      "Epoch: 2, Step: 450, Loss: 1.0896\n",
      "Epoch: 2, Step: 460, Loss: 1.15541\n",
      "Epoch: 2, Step: 470, Loss: 1.08072\n",
      "Epoch: 2, Step: 480, Loss: 1.15515\n",
      "Epoch: 2, Step: 490, Loss: 1.07611\n"
     ]
    },
    {
     "name": "stderr",
     "output_type": "stream",
     "text": [
      "W0814 19:34:33.254342 139790696757120 saver.py:1134] *******************************************************\n",
      "W0814 19:34:33.255471 139790696757120 saver.py:1135] TensorFlow's V1 checkpoint format has been deprecated.\n",
      "W0814 19:34:33.262780 139790696757120 saver.py:1136] Consider switching to the more efficient V2 format:\n",
      "W0814 19:34:33.263749 139790696757120 saver.py:1137]    `tf.train.Saver(write_version=tf.train.SaverDef.V2)`\n",
      "W0814 19:34:33.266900 139790696757120 saver.py:1138] now on by default.\n",
      "W0814 19:34:33.270439 139790696757120 saver.py:1139] *******************************************************\n"
     ]
    },
    {
     "name": "stdout",
     "output_type": "stream",
     "text": [
      "Epoch: 2, Step: 500, Loss: 0.998884\n",
      "Epoch: 2, Step: 510, Loss: 0.968999\n",
      "Epoch: 2, Step: 520, Loss: 0.954777\n",
      "Epoch: 2, Step: 530, Loss: 0.937204\n",
      "Epoch: 2, Step: 540, Loss: 0.95651\n",
      "Epoch: 2, Step: 550, Loss: 0.906991\n",
      "Epoch: 2, Step: 560, Loss: 0.904549\n",
      "Epoch: 2, Step: 570, Loss: 0.898449\n",
      "Epoch: 2, Step: 580, Loss: 0.867998\n",
      "Epoch: 2, Step: 590, Loss: 0.854451\n"
     ]
    },
    {
     "name": "stderr",
     "output_type": "stream",
     "text": [
      "W0814 19:35:13.970913 139790696757120 saver.py:1134] *******************************************************\n",
      "W0814 19:35:13.971804 139790696757120 saver.py:1135] TensorFlow's V1 checkpoint format has been deprecated.\n",
      "W0814 19:35:13.975434 139790696757120 saver.py:1136] Consider switching to the more efficient V2 format:\n",
      "W0814 19:35:13.978664 139790696757120 saver.py:1137]    `tf.train.Saver(write_version=tf.train.SaverDef.V2)`\n",
      "W0814 19:35:13.984365 139790696757120 saver.py:1138] now on by default.\n",
      "W0814 19:35:13.986398 139790696757120 saver.py:1139] *******************************************************\n"
     ]
    },
    {
     "name": "stdout",
     "output_type": "stream",
     "text": [
      "Epoch: 2, Step: 600, Loss: 0.840279\n",
      "Epoch: 2, Step: 610, Loss: 0.833519\n",
      "Epoch: 2, Step: 620, Loss: 0.866631\n",
      "Epoch: 2, Step: 630, Loss: 0.824531\n",
      "Epoch: 2, Step: 640, Loss: 1.17419\n",
      "Epoch: 2, Step: 650, Loss: 0.788818\n",
      "Model saved in file: ./save/model.ckpt\n"
     ]
    },
    {
     "name": "stderr",
     "output_type": "stream",
     "text": [
      "W0814 19:35:35.924598 139790696757120 saver.py:1134] *******************************************************\n",
      "W0814 19:35:35.925602 139790696757120 saver.py:1135] TensorFlow's V1 checkpoint format has been deprecated.\n",
      "W0814 19:35:35.926470 139790696757120 saver.py:1136] Consider switching to the more efficient V2 format:\n",
      "W0814 19:35:35.931433 139790696757120 saver.py:1137]    `tf.train.Saver(write_version=tf.train.SaverDef.V2)`\n",
      "W0814 19:35:35.933303 139790696757120 saver.py:1138] now on by default.\n",
      "W0814 19:35:35.934995 139790696757120 saver.py:1139] *******************************************************\n"
     ]
    },
    {
     "name": "stdout",
     "output_type": "stream",
     "text": [
      "Epoch: 3, Step: 300, Loss: 0.797479\n",
      "Epoch: 3, Step: 310, Loss: 0.827357\n",
      "Epoch: 3, Step: 320, Loss: 1.19631\n",
      "Epoch: 3, Step: 330, Loss: 0.834644\n",
      "Epoch: 3, Step: 340, Loss: 0.790031\n",
      "Epoch: 3, Step: 350, Loss: 0.952794\n",
      "Epoch: 3, Step: 360, Loss: 0.860675\n",
      "Epoch: 3, Step: 370, Loss: 0.682489\n",
      "Epoch: 3, Step: 380, Loss: 0.707668\n",
      "Epoch: 3, Step: 390, Loss: 0.645841\n"
     ]
    },
    {
     "name": "stderr",
     "output_type": "stream",
     "text": [
      "W0814 19:36:15.732258 139790696757120 saver.py:1134] *******************************************************\n",
      "W0814 19:36:15.733323 139790696757120 saver.py:1135] TensorFlow's V1 checkpoint format has been deprecated.\n",
      "W0814 19:36:15.734444 139790696757120 saver.py:1136] Consider switching to the more efficient V2 format:\n",
      "W0814 19:36:15.735318 139790696757120 saver.py:1137]    `tf.train.Saver(write_version=tf.train.SaverDef.V2)`\n",
      "W0814 19:36:15.737044 139790696757120 saver.py:1138] now on by default.\n",
      "W0814 19:36:15.739082 139790696757120 saver.py:1139] *******************************************************\n"
     ]
    },
    {
     "name": "stdout",
     "output_type": "stream",
     "text": [
      "Epoch: 3, Step: 400, Loss: 0.674143\n",
      "Epoch: 3, Step: 410, Loss: 0.676597\n",
      "Epoch: 3, Step: 420, Loss: 1.5322\n",
      "Epoch: 3, Step: 430, Loss: 0.741059\n",
      "Epoch: 3, Step: 440, Loss: 1.40645\n",
      "Epoch: 3, Step: 450, Loss: 1.06922\n",
      "Epoch: 3, Step: 460, Loss: 0.925144\n",
      "Epoch: 3, Step: 470, Loss: 0.869056\n",
      "Epoch: 3, Step: 480, Loss: 0.559944\n",
      "Epoch: 3, Step: 490, Loss: 0.540798\n"
     ]
    },
    {
     "name": "stderr",
     "output_type": "stream",
     "text": [
      "W0814 19:36:56.178400 139790696757120 saver.py:1134] *******************************************************\n",
      "W0814 19:36:56.179348 139790696757120 saver.py:1135] TensorFlow's V1 checkpoint format has been deprecated.\n",
      "W0814 19:36:56.180254 139790696757120 saver.py:1136] Consider switching to the more efficient V2 format:\n",
      "W0814 19:36:56.184889 139790696757120 saver.py:1137]    `tf.train.Saver(write_version=tf.train.SaverDef.V2)`\n",
      "W0814 19:36:56.186933 139790696757120 saver.py:1138] now on by default.\n",
      "W0814 19:36:56.188615 139790696757120 saver.py:1139] *******************************************************\n"
     ]
    },
    {
     "name": "stdout",
     "output_type": "stream",
     "text": [
      "Epoch: 3, Step: 500, Loss: 0.547245\n",
      "Epoch: 3, Step: 510, Loss: 0.70924\n",
      "Epoch: 3, Step: 520, Loss: 0.995557\n",
      "Epoch: 3, Step: 530, Loss: 0.830908\n",
      "Epoch: 3, Step: 540, Loss: 2.19088\n",
      "Epoch: 3, Step: 550, Loss: 1.1188\n",
      "Epoch: 3, Step: 560, Loss: 1.69876\n",
      "Epoch: 3, Step: 570, Loss: 0.732892\n",
      "Epoch: 3, Step: 580, Loss: 0.494675\n",
      "Epoch: 3, Step: 590, Loss: 0.580815\n"
     ]
    },
    {
     "name": "stderr",
     "output_type": "stream",
     "text": [
      "W0814 19:37:36.882039 139790696757120 saver.py:1134] *******************************************************\n",
      "W0814 19:37:36.883064 139790696757120 saver.py:1135] TensorFlow's V1 checkpoint format has been deprecated.\n",
      "W0814 19:37:36.883832 139790696757120 saver.py:1136] Consider switching to the more efficient V2 format:\n",
      "W0814 19:37:36.888319 139790696757120 saver.py:1137]    `tf.train.Saver(write_version=tf.train.SaverDef.V2)`\n",
      "W0814 19:37:36.890362 139790696757120 saver.py:1138] now on by default.\n",
      "W0814 19:37:36.891272 139790696757120 saver.py:1139] *******************************************************\n"
     ]
    },
    {
     "name": "stdout",
     "output_type": "stream",
     "text": [
      "Epoch: 3, Step: 600, Loss: 1.50696\n",
      "Epoch: 3, Step: 610, Loss: 1.26203\n",
      "Epoch: 3, Step: 620, Loss: 0.559688\n",
      "Epoch: 3, Step: 630, Loss: 0.50317\n",
      "Epoch: 3, Step: 640, Loss: 0.508945\n",
      "Epoch: 3, Step: 650, Loss: 0.827524\n",
      "Epoch: 3, Step: 660, Loss: 0.57836\n",
      "Epoch: 3, Step: 670, Loss: 1.15843\n",
      "Epoch: 3, Step: 680, Loss: 1.00826\n",
      "Epoch: 3, Step: 690, Loss: 0.533462\n"
     ]
    },
    {
     "name": "stderr",
     "output_type": "stream",
     "text": [
      "W0814 19:38:16.295361 139790696757120 saver.py:1134] *******************************************************\n",
      "W0814 19:38:16.296333 139790696757120 saver.py:1135] TensorFlow's V1 checkpoint format has been deprecated.\n",
      "W0814 19:38:16.297240 139790696757120 saver.py:1136] Consider switching to the more efficient V2 format:\n",
      "W0814 19:38:16.301343 139790696757120 saver.py:1137]    `tf.train.Saver(write_version=tf.train.SaverDef.V2)`\n",
      "W0814 19:38:16.303446 139790696757120 saver.py:1138] now on by default.\n",
      "W0814 19:38:16.308326 139790696757120 saver.py:1139] *******************************************************\n"
     ]
    },
    {
     "name": "stdout",
     "output_type": "stream",
     "text": [
      "Epoch: 3, Step: 700, Loss: 0.411971\n",
      "Epoch: 3, Step: 710, Loss: 0.435366\n",
      "Epoch: 3, Step: 720, Loss: 0.421674\n",
      "Epoch: 3, Step: 730, Loss: 0.426044\n",
      "Epoch: 3, Step: 740, Loss: 0.826508\n",
      "Epoch: 3, Step: 750, Loss: 0.84446\n",
      "Model saved in file: ./save/model.ckpt\n"
     ]
    },
    {
     "name": "stderr",
     "output_type": "stream",
     "text": [
      "W0814 19:38:38.185289 139790696757120 saver.py:1134] *******************************************************\n",
      "W0814 19:38:38.186389 139790696757120 saver.py:1135] TensorFlow's V1 checkpoint format has been deprecated.\n",
      "W0814 19:38:38.187190 139790696757120 saver.py:1136] Consider switching to the more efficient V2 format:\n",
      "W0814 19:38:38.193626 139790696757120 saver.py:1137]    `tf.train.Saver(write_version=tf.train.SaverDef.V2)`\n",
      "W0814 19:38:38.197797 139790696757120 saver.py:1138] now on by default.\n",
      "W0814 19:38:38.199900 139790696757120 saver.py:1139] *******************************************************\n"
     ]
    },
    {
     "name": "stdout",
     "output_type": "stream",
     "text": [
      "Epoch: 4, Step: 400, Loss: 0.514382\n",
      "Epoch: 4, Step: 410, Loss: 0.38989\n",
      "Epoch: 4, Step: 420, Loss: 0.373192\n",
      "Epoch: 4, Step: 430, Loss: 0.380816\n",
      "Epoch: 4, Step: 440, Loss: 0.387617\n",
      "Epoch: 4, Step: 450, Loss: 1.17692\n",
      "Epoch: 4, Step: 460, Loss: 1.03968\n",
      "Epoch: 4, Step: 470, Loss: 0.390115\n",
      "Epoch: 4, Step: 480, Loss: 0.403706\n",
      "Epoch: 4, Step: 490, Loss: 0.352565\n"
     ]
    },
    {
     "name": "stderr",
     "output_type": "stream",
     "text": [
      "W0814 19:39:18.691718 139790696757120 saver.py:1134] *******************************************************\n",
      "W0814 19:39:18.692716 139790696757120 saver.py:1135] TensorFlow's V1 checkpoint format has been deprecated.\n",
      "W0814 19:39:18.693573 139790696757120 saver.py:1136] Consider switching to the more efficient V2 format:\n",
      "W0814 19:39:18.698324 139790696757120 saver.py:1137]    `tf.train.Saver(write_version=tf.train.SaverDef.V2)`\n",
      "W0814 19:39:18.700090 139790696757120 saver.py:1138] now on by default.\n",
      "W0814 19:39:18.701981 139790696757120 saver.py:1139] *******************************************************\n"
     ]
    },
    {
     "name": "stdout",
     "output_type": "stream",
     "text": [
      "Epoch: 4, Step: 500, Loss: 0.358123\n",
      "Epoch: 4, Step: 510, Loss: 0.357389\n",
      "Epoch: 4, Step: 520, Loss: 0.357002\n",
      "Epoch: 4, Step: 530, Loss: 0.434296\n",
      "Epoch: 4, Step: 540, Loss: 0.357621\n",
      "Epoch: 4, Step: 550, Loss: 0.359457\n",
      "Epoch: 4, Step: 560, Loss: 0.428695\n",
      "Epoch: 4, Step: 570, Loss: 0.682595\n",
      "Epoch: 4, Step: 580, Loss: 0.629681\n",
      "Epoch: 4, Step: 590, Loss: 0.345868\n"
     ]
    },
    {
     "name": "stderr",
     "output_type": "stream",
     "text": [
      "W0814 19:39:59.256162 139790696757120 saver.py:1134] *******************************************************\n",
      "W0814 19:39:59.257282 139790696757120 saver.py:1135] TensorFlow's V1 checkpoint format has been deprecated.\n",
      "W0814 19:39:59.258157 139790696757120 saver.py:1136] Consider switching to the more efficient V2 format:\n",
      "W0814 19:39:59.264965 139790696757120 saver.py:1137]    `tf.train.Saver(write_version=tf.train.SaverDef.V2)`\n",
      "W0814 19:39:59.267445 139790696757120 saver.py:1138] now on by default.\n",
      "W0814 19:39:59.268477 139790696757120 saver.py:1139] *******************************************************\n"
     ]
    },
    {
     "name": "stdout",
     "output_type": "stream",
     "text": [
      "Epoch: 4, Step: 600, Loss: 0.360056\n",
      "Epoch: 4, Step: 610, Loss: 0.357851\n",
      "Epoch: 4, Step: 620, Loss: 0.310316\n",
      "Epoch: 4, Step: 630, Loss: 0.307211\n",
      "Epoch: 4, Step: 640, Loss: 0.762058\n",
      "Epoch: 4, Step: 650, Loss: 4.86566\n",
      "Epoch: 4, Step: 660, Loss: 0.340362\n",
      "Epoch: 4, Step: 670, Loss: 0.301152\n",
      "Epoch: 4, Step: 680, Loss: 0.290358\n",
      "Epoch: 4, Step: 690, Loss: 0.286551\n"
     ]
    },
    {
     "name": "stderr",
     "output_type": "stream",
     "text": [
      "W0814 19:40:39.090997 139790696757120 saver.py:1134] *******************************************************\n",
      "W0814 19:40:39.092394 139790696757120 saver.py:1135] TensorFlow's V1 checkpoint format has been deprecated.\n",
      "W0814 19:40:39.098444 139790696757120 saver.py:1136] Consider switching to the more efficient V2 format:\n",
      "W0814 19:40:39.100509 139790696757120 saver.py:1137]    `tf.train.Saver(write_version=tf.train.SaverDef.V2)`\n",
      "W0814 19:40:39.101615 139790696757120 saver.py:1138] now on by default.\n",
      "W0814 19:40:39.104961 139790696757120 saver.py:1139] *******************************************************\n"
     ]
    },
    {
     "name": "stdout",
     "output_type": "stream",
     "text": [
      "Epoch: 4, Step: 700, Loss: 0.287139\n",
      "Epoch: 4, Step: 710, Loss: 0.282638\n",
      "Epoch: 4, Step: 720, Loss: 0.286075\n",
      "Epoch: 4, Step: 730, Loss: 0.282719\n",
      "Epoch: 4, Step: 740, Loss: 0.273584\n",
      "Epoch: 4, Step: 750, Loss: 0.28043\n",
      "Epoch: 4, Step: 760, Loss: 0.28278\n",
      "Epoch: 4, Step: 770, Loss: 0.272046\n",
      "Epoch: 4, Step: 780, Loss: 0.270744\n",
      "Epoch: 4, Step: 790, Loss: 0.272779\n"
     ]
    },
    {
     "name": "stderr",
     "output_type": "stream",
     "text": [
      "W0814 19:41:19.716827 139790696757120 saver.py:1134] *******************************************************\n",
      "W0814 19:41:19.717928 139790696757120 saver.py:1135] TensorFlow's V1 checkpoint format has been deprecated.\n",
      "W0814 19:41:19.719451 139790696757120 saver.py:1136] Consider switching to the more efficient V2 format:\n",
      "W0814 19:41:19.720655 139790696757120 saver.py:1137]    `tf.train.Saver(write_version=tf.train.SaverDef.V2)`\n",
      "W0814 19:41:19.721453 139790696757120 saver.py:1138] now on by default.\n",
      "W0814 19:41:19.722394 139790696757120 saver.py:1139] *******************************************************\n"
     ]
    },
    {
     "name": "stdout",
     "output_type": "stream",
     "text": [
      "Epoch: 4, Step: 800, Loss: 0.272126\n",
      "Epoch: 4, Step: 810, Loss: 0.269597\n",
      "Epoch: 4, Step: 820, Loss: 0.276144\n",
      "Epoch: 4, Step: 830, Loss: 0.283935\n",
      "Epoch: 4, Step: 840, Loss: 0.276347\n",
      "Epoch: 4, Step: 850, Loss: 0.279929\n",
      "Model saved in file: ./save/model.ckpt\n"
     ]
    },
    {
     "name": "stderr",
     "output_type": "stream",
     "text": [
      "W0814 19:41:42.362026 139790696757120 saver.py:1134] *******************************************************\n",
      "W0814 19:41:42.363149 139790696757120 saver.py:1135] TensorFlow's V1 checkpoint format has been deprecated.\n",
      "W0814 19:41:42.363951 139790696757120 saver.py:1136] Consider switching to the more efficient V2 format:\n",
      "W0814 19:41:42.368622 139790696757120 saver.py:1137]    `tf.train.Saver(write_version=tf.train.SaverDef.V2)`\n",
      "W0814 19:41:42.370955 139790696757120 saver.py:1138] now on by default.\n",
      "W0814 19:41:42.374871 139790696757120 saver.py:1139] *******************************************************\n"
     ]
    },
    {
     "name": "stdout",
     "output_type": "stream",
     "text": [
      "Epoch: 5, Step: 500, Loss: 0.282601\n",
      "Epoch: 5, Step: 510, Loss: 0.276496\n",
      "Epoch: 5, Step: 520, Loss: 0.271241\n",
      "Epoch: 5, Step: 530, Loss: 0.260015\n",
      "Epoch: 5, Step: 540, Loss: 0.252601\n",
      "Epoch: 5, Step: 550, Loss: 0.255523\n",
      "Epoch: 5, Step: 560, Loss: 0.24326\n",
      "Epoch: 5, Step: 570, Loss: 0.241738\n",
      "Epoch: 5, Step: 580, Loss: 0.274583\n",
      "Epoch: 5, Step: 590, Loss: 0.316346\n"
     ]
    },
    {
     "name": "stderr",
     "output_type": "stream",
     "text": [
      "W0814 19:42:21.983090 139790696757120 saver.py:1134] *******************************************************\n",
      "W0814 19:42:21.984136 139790696757120 saver.py:1135] TensorFlow's V1 checkpoint format has been deprecated.\n",
      "W0814 19:42:21.984941 139790696757120 saver.py:1136] Consider switching to the more efficient V2 format:\n",
      "W0814 19:42:21.989865 139790696757120 saver.py:1137]    `tf.train.Saver(write_version=tf.train.SaverDef.V2)`\n",
      "W0814 19:42:21.992175 139790696757120 saver.py:1138] now on by default.\n",
      "W0814 19:42:21.992974 139790696757120 saver.py:1139] *******************************************************\n"
     ]
    },
    {
     "name": "stdout",
     "output_type": "stream",
     "text": [
      "Epoch: 5, Step: 600, Loss: 2.90314\n",
      "Epoch: 5, Step: 610, Loss: 2.94545\n",
      "Epoch: 5, Step: 620, Loss: 0.249027\n",
      "Epoch: 5, Step: 630, Loss: 0.240179\n",
      "Epoch: 5, Step: 640, Loss: 0.252554\n",
      "Epoch: 5, Step: 650, Loss: 0.248387\n",
      "Epoch: 5, Step: 660, Loss: 0.270076\n",
      "Epoch: 5, Step: 670, Loss: 0.26565\n",
      "Epoch: 5, Step: 680, Loss: 0.346192\n",
      "Epoch: 5, Step: 690, Loss: 0.227317\n"
     ]
    },
    {
     "name": "stderr",
     "output_type": "stream",
     "text": [
      "W0814 19:43:02.197142 139790696757120 saver.py:1134] *******************************************************\n",
      "W0814 19:43:02.198184 139790696757120 saver.py:1135] TensorFlow's V1 checkpoint format has been deprecated.\n",
      "W0814 19:43:02.198971 139790696757120 saver.py:1136] Consider switching to the more efficient V2 format:\n",
      "W0814 19:43:02.204059 139790696757120 saver.py:1137]    `tf.train.Saver(write_version=tf.train.SaverDef.V2)`\n",
      "W0814 19:43:02.206338 139790696757120 saver.py:1138] now on by default.\n",
      "W0814 19:43:02.208053 139790696757120 saver.py:1139] *******************************************************\n"
     ]
    },
    {
     "name": "stdout",
     "output_type": "stream",
     "text": [
      "Epoch: 5, Step: 700, Loss: 0.237487\n",
      "Epoch: 5, Step: 710, Loss: 0.258798\n",
      "Epoch: 5, Step: 720, Loss: 0.384191\n",
      "Epoch: 5, Step: 730, Loss: 0.223191\n",
      "Epoch: 5, Step: 740, Loss: 0.306475\n",
      "Epoch: 5, Step: 750, Loss: 0.2513\n",
      "Epoch: 5, Step: 760, Loss: 0.30352\n",
      "Epoch: 5, Step: 770, Loss: 0.236466\n",
      "Epoch: 5, Step: 780, Loss: 0.348749\n",
      "Epoch: 5, Step: 790, Loss: 0.213447\n"
     ]
    },
    {
     "name": "stderr",
     "output_type": "stream",
     "text": [
      "W0814 19:43:43.032382 139790696757120 saver.py:1134] *******************************************************\n",
      "W0814 19:43:43.033525 139790696757120 saver.py:1135] TensorFlow's V1 checkpoint format has been deprecated.\n",
      "W0814 19:43:43.034351 139790696757120 saver.py:1136] Consider switching to the more efficient V2 format:\n",
      "W0814 19:43:43.037724 139790696757120 saver.py:1137]    `tf.train.Saver(write_version=tf.train.SaverDef.V2)`\n",
      "W0814 19:43:43.041151 139790696757120 saver.py:1138] now on by default.\n",
      "W0814 19:43:43.044767 139790696757120 saver.py:1139] *******************************************************\n"
     ]
    },
    {
     "name": "stdout",
     "output_type": "stream",
     "text": [
      "Epoch: 5, Step: 800, Loss: 0.210684\n",
      "Epoch: 5, Step: 810, Loss: 0.209744\n",
      "Epoch: 5, Step: 820, Loss: 0.214318\n",
      "Epoch: 5, Step: 830, Loss: 0.210715\n",
      "Epoch: 5, Step: 840, Loss: 0.206965\n",
      "Epoch: 5, Step: 850, Loss: 0.205707\n",
      "Epoch: 5, Step: 860, Loss: 0.223592\n",
      "Epoch: 5, Step: 870, Loss: 0.227149\n",
      "Epoch: 5, Step: 880, Loss: 0.253944\n",
      "Epoch: 5, Step: 890, Loss: 0.205991\n"
     ]
    },
    {
     "name": "stderr",
     "output_type": "stream",
     "text": [
      "W0814 19:44:22.814597 139790696757120 saver.py:1134] *******************************************************\n",
      "W0814 19:44:22.815662 139790696757120 saver.py:1135] TensorFlow's V1 checkpoint format has been deprecated.\n",
      "W0814 19:44:22.819823 139790696757120 saver.py:1136] Consider switching to the more efficient V2 format:\n",
      "W0814 19:44:22.822042 139790696757120 saver.py:1137]    `tf.train.Saver(write_version=tf.train.SaverDef.V2)`\n",
      "W0814 19:44:22.824977 139790696757120 saver.py:1138] now on by default.\n",
      "W0814 19:44:22.828440 139790696757120 saver.py:1139] *******************************************************\n"
     ]
    },
    {
     "name": "stdout",
     "output_type": "stream",
     "text": [
      "Epoch: 5, Step: 900, Loss: 0.206411\n",
      "Epoch: 5, Step: 910, Loss: 0.216809\n",
      "Epoch: 5, Step: 920, Loss: 0.346089\n",
      "Epoch: 5, Step: 930, Loss: 0.226286\n",
      "Epoch: 5, Step: 940, Loss: 0.236247\n",
      "Epoch: 5, Step: 950, Loss: 0.273679\n",
      "Model saved in file: ./save/model.ckpt\n"
     ]
    },
    {
     "name": "stderr",
     "output_type": "stream",
     "text": [
      "W0814 19:44:44.757964 139790696757120 saver.py:1134] *******************************************************\n",
      "W0814 19:44:44.758999 139790696757120 saver.py:1135] TensorFlow's V1 checkpoint format has been deprecated.\n",
      "W0814 19:44:44.760457 139790696757120 saver.py:1136] Consider switching to the more efficient V2 format:\n",
      "W0814 19:44:44.761362 139790696757120 saver.py:1137]    `tf.train.Saver(write_version=tf.train.SaverDef.V2)`\n",
      "W0814 19:44:44.762535 139790696757120 saver.py:1138] now on by default.\n",
      "W0814 19:44:44.763487 139790696757120 saver.py:1139] *******************************************************\n"
     ]
    },
    {
     "name": "stdout",
     "output_type": "stream",
     "text": [
      "Epoch: 6, Step: 600, Loss: 0.377737\n",
      "Epoch: 6, Step: 610, Loss: 0.336469\n",
      "Epoch: 6, Step: 620, Loss: 0.20297\n",
      "Epoch: 6, Step: 630, Loss: 0.336001\n",
      "Epoch: 6, Step: 640, Loss: 0.371783\n",
      "Epoch: 6, Step: 650, Loss: 0.219645\n",
      "Epoch: 6, Step: 660, Loss: 0.229453\n",
      "Epoch: 6, Step: 670, Loss: 0.203761\n",
      "Epoch: 6, Step: 680, Loss: 0.200281\n",
      "Epoch: 6, Step: 690, Loss: 0.192679\n"
     ]
    },
    {
     "name": "stderr",
     "output_type": "stream",
     "text": [
      "W0814 19:45:24.795619 139790696757120 saver.py:1134] *******************************************************\n",
      "W0814 19:45:24.796520 139790696757120 saver.py:1135] TensorFlow's V1 checkpoint format has been deprecated.\n",
      "W0814 19:45:24.797337 139790696757120 saver.py:1136] Consider switching to the more efficient V2 format:\n",
      "W0814 19:45:24.802158 139790696757120 saver.py:1137]    `tf.train.Saver(write_version=tf.train.SaverDef.V2)`\n",
      "W0814 19:45:24.803793 139790696757120 saver.py:1138] now on by default.\n",
      "W0814 19:45:24.805690 139790696757120 saver.py:1139] *******************************************************\n"
     ]
    },
    {
     "name": "stdout",
     "output_type": "stream",
     "text": [
      "Epoch: 6, Step: 700, Loss: 0.560527\n",
      "Epoch: 6, Step: 710, Loss: 0.299841\n",
      "Epoch: 6, Step: 720, Loss: 1.00542\n",
      "Epoch: 6, Step: 730, Loss: 0.677276\n",
      "Epoch: 6, Step: 740, Loss: 0.407677\n",
      "Epoch: 6, Step: 750, Loss: 0.766278\n",
      "Epoch: 6, Step: 760, Loss: 0.245616\n",
      "Epoch: 6, Step: 770, Loss: 0.191045\n",
      "Epoch: 6, Step: 780, Loss: 0.189057\n",
      "Epoch: 6, Step: 790, Loss: 0.242462\n"
     ]
    },
    {
     "name": "stderr",
     "output_type": "stream",
     "text": [
      "W0814 19:46:06.046000 139790696757120 saver.py:1134] *******************************************************\n",
      "W0814 19:46:06.046992 139790696757120 saver.py:1135] TensorFlow's V1 checkpoint format has been deprecated.\n",
      "W0814 19:46:06.047675 139790696757120 saver.py:1136] Consider switching to the more efficient V2 format:\n",
      "W0814 19:46:06.051519 139790696757120 saver.py:1137]    `tf.train.Saver(write_version=tf.train.SaverDef.V2)`\n",
      "W0814 19:46:06.053762 139790696757120 saver.py:1138] now on by default.\n",
      "W0814 19:46:06.055578 139790696757120 saver.py:1139] *******************************************************\n"
     ]
    },
    {
     "name": "stdout",
     "output_type": "stream",
     "text": [
      "Epoch: 6, Step: 800, Loss: 0.553916\n",
      "Epoch: 6, Step: 810, Loss: 0.783944\n",
      "Epoch: 6, Step: 820, Loss: 1.34483\n",
      "Epoch: 6, Step: 830, Loss: 1.18189\n",
      "Epoch: 6, Step: 840, Loss: 1.14298\n",
      "Epoch: 6, Step: 850, Loss: 0.51793\n",
      "Epoch: 6, Step: 860, Loss: 0.184309\n",
      "Epoch: 6, Step: 870, Loss: 0.223546\n",
      "Epoch: 6, Step: 880, Loss: 1.18877\n",
      "Epoch: 6, Step: 890, Loss: 1.46851\n"
     ]
    },
    {
     "name": "stderr",
     "output_type": "stream",
     "text": [
      "W0814 19:46:45.367787 139790696757120 saver.py:1134] *******************************************************\n",
      "W0814 19:46:45.368869 139790696757120 saver.py:1135] TensorFlow's V1 checkpoint format has been deprecated.\n",
      "W0814 19:46:45.374007 139790696757120 saver.py:1136] Consider switching to the more efficient V2 format:\n",
      "W0814 19:46:45.375109 139790696757120 saver.py:1137]    `tf.train.Saver(write_version=tf.train.SaverDef.V2)`\n",
      "W0814 19:46:45.375980 139790696757120 saver.py:1138] now on by default.\n",
      "W0814 19:46:45.376849 139790696757120 saver.py:1139] *******************************************************\n"
     ]
    },
    {
     "name": "stdout",
     "output_type": "stream",
     "text": [
      "Epoch: 6, Step: 900, Loss: 0.247898\n",
      "Epoch: 6, Step: 910, Loss: 0.263899\n",
      "Epoch: 6, Step: 920, Loss: 0.173581\n",
      "Epoch: 6, Step: 930, Loss: 0.404248\n",
      "Epoch: 6, Step: 940, Loss: 0.358142\n",
      "Epoch: 6, Step: 950, Loss: 0.799693\n",
      "Epoch: 6, Step: 960, Loss: 1.05872\n",
      "Epoch: 6, Step: 970, Loss: 0.374501\n",
      "Epoch: 6, Step: 980, Loss: 0.163534\n",
      "Epoch: 6, Step: 990, Loss: 0.16698\n"
     ]
    },
    {
     "name": "stderr",
     "output_type": "stream",
     "text": [
      "W0814 19:47:25.800010 139790696757120 saver.py:1134] *******************************************************\n",
      "W0814 19:47:25.801053 139790696757120 saver.py:1135] TensorFlow's V1 checkpoint format has been deprecated.\n",
      "W0814 19:47:25.802452 139790696757120 saver.py:1136] Consider switching to the more efficient V2 format:\n",
      "W0814 19:47:25.807015 139790696757120 saver.py:1137]    `tf.train.Saver(write_version=tf.train.SaverDef.V2)`\n",
      "W0814 19:47:25.809274 139790696757120 saver.py:1138] now on by default.\n",
      "W0814 19:47:25.813708 139790696757120 saver.py:1139] *******************************************************\n"
     ]
    },
    {
     "name": "stdout",
     "output_type": "stream",
     "text": [
      "Epoch: 6, Step: 1000, Loss: 0.187022\n",
      "Epoch: 6, Step: 1010, Loss: 0.246917\n",
      "Epoch: 6, Step: 1020, Loss: 0.346835\n",
      "Epoch: 6, Step: 1030, Loss: 0.498108\n",
      "Epoch: 6, Step: 1040, Loss: 0.286383\n",
      "Epoch: 6, Step: 1050, Loss: 0.188793\n",
      "Model saved in file: ./save/model.ckpt\n"
     ]
    },
    {
     "name": "stderr",
     "output_type": "stream",
     "text": [
      "W0814 19:47:47.984068 139790696757120 saver.py:1134] *******************************************************\n",
      "W0814 19:47:47.985142 139790696757120 saver.py:1135] TensorFlow's V1 checkpoint format has been deprecated.\n",
      "W0814 19:47:47.985969 139790696757120 saver.py:1136] Consider switching to the more efficient V2 format:\n",
      "W0814 19:47:47.989585 139790696757120 saver.py:1137]    `tf.train.Saver(write_version=tf.train.SaverDef.V2)`\n",
      "W0814 19:47:47.991930 139790696757120 saver.py:1138] now on by default.\n",
      "W0814 19:47:47.993506 139790696757120 saver.py:1139] *******************************************************\n"
     ]
    },
    {
     "name": "stdout",
     "output_type": "stream",
     "text": [
      "Epoch: 7, Step: 700, Loss: 0.163432\n",
      "Epoch: 7, Step: 710, Loss: 0.209818\n",
      "Epoch: 7, Step: 720, Loss: 0.348464\n",
      "Epoch: 7, Step: 730, Loss: 0.822007\n",
      "Epoch: 7, Step: 740, Loss: 1.20871\n",
      "Epoch: 7, Step: 750, Loss: 0.332226\n",
      "Epoch: 7, Step: 760, Loss: 0.335531\n",
      "Epoch: 7, Step: 770, Loss: 0.185886\n",
      "Epoch: 7, Step: 780, Loss: 0.174294\n",
      "Epoch: 7, Step: 790, Loss: 0.162384\n"
     ]
    },
    {
     "name": "stderr",
     "output_type": "stream",
     "text": [
      "W0814 19:48:28.197065 139790696757120 saver.py:1134] *******************************************************\n",
      "W0814 19:48:28.199241 139790696757120 saver.py:1135] TensorFlow's V1 checkpoint format has been deprecated.\n",
      "W0814 19:48:28.200180 139790696757120 saver.py:1136] Consider switching to the more efficient V2 format:\n",
      "W0814 19:48:28.201354 139790696757120 saver.py:1137]    `tf.train.Saver(write_version=tf.train.SaverDef.V2)`\n",
      "W0814 19:48:28.202121 139790696757120 saver.py:1138] now on by default.\n",
      "W0814 19:48:28.203046 139790696757120 saver.py:1139] *******************************************************\n"
     ]
    },
    {
     "name": "stdout",
     "output_type": "stream",
     "text": [
      "Epoch: 7, Step: 800, Loss: 0.159692\n",
      "Epoch: 7, Step: 810, Loss: 0.162198\n",
      "Epoch: 7, Step: 820, Loss: 0.174487\n",
      "Epoch: 7, Step: 830, Loss: 0.185204\n",
      "Epoch: 7, Step: 840, Loss: 0.28261\n",
      "Epoch: 7, Step: 850, Loss: 0.686774\n",
      "Epoch: 7, Step: 860, Loss: 0.262142\n",
      "Epoch: 7, Step: 870, Loss: 0.260868\n",
      "Epoch: 7, Step: 880, Loss: 0.15509\n",
      "Epoch: 7, Step: 890, Loss: 0.151838\n"
     ]
    },
    {
     "name": "stderr",
     "output_type": "stream",
     "text": [
      "W0814 19:49:08.004703 139790696757120 saver.py:1134] *******************************************************\n",
      "W0814 19:49:08.005741 139790696757120 saver.py:1135] TensorFlow's V1 checkpoint format has been deprecated.\n",
      "W0814 19:49:08.009454 139790696757120 saver.py:1136] Consider switching to the more efficient V2 format:\n",
      "W0814 19:49:08.012416 139790696757120 saver.py:1137]    `tf.train.Saver(write_version=tf.train.SaverDef.V2)`\n",
      "W0814 19:49:08.015856 139790696757120 saver.py:1138] now on by default.\n",
      "W0814 19:49:08.016644 139790696757120 saver.py:1139] *******************************************************\n"
     ]
    },
    {
     "name": "stdout",
     "output_type": "stream",
     "text": [
      "Epoch: 7, Step: 900, Loss: 0.168594\n",
      "Epoch: 7, Step: 910, Loss: 0.151336\n",
      "Epoch: 7, Step: 920, Loss: 0.217749\n",
      "Epoch: 7, Step: 930, Loss: 5.55915\n",
      "Epoch: 7, Step: 940, Loss: 0.317308\n",
      "Epoch: 7, Step: 950, Loss: 0.167843\n",
      "Epoch: 7, Step: 960, Loss: 0.16794\n",
      "Epoch: 7, Step: 970, Loss: 0.159357\n",
      "Epoch: 7, Step: 980, Loss: 0.173402\n",
      "Epoch: 7, Step: 990, Loss: 0.172823\n"
     ]
    },
    {
     "name": "stderr",
     "output_type": "stream",
     "text": [
      "W0814 19:49:48.367408 139790696757120 saver.py:1134] *******************************************************\n",
      "W0814 19:49:48.368464 139790696757120 saver.py:1135] TensorFlow's V1 checkpoint format has been deprecated.\n",
      "W0814 19:49:48.371509 139790696757120 saver.py:1136] Consider switching to the more efficient V2 format:\n",
      "W0814 19:49:48.373242 139790696757120 saver.py:1137]    `tf.train.Saver(write_version=tf.train.SaverDef.V2)`\n",
      "W0814 19:49:48.375249 139790696757120 saver.py:1138] now on by default.\n",
      "W0814 19:49:48.376297 139790696757120 saver.py:1139] *******************************************************\n"
     ]
    },
    {
     "name": "stdout",
     "output_type": "stream",
     "text": [
      "Epoch: 7, Step: 1000, Loss: 0.198836\n",
      "Epoch: 7, Step: 1010, Loss: 0.168609\n",
      "Epoch: 7, Step: 1020, Loss: 0.214309\n",
      "Epoch: 7, Step: 1030, Loss: 0.276424\n",
      "Epoch: 7, Step: 1040, Loss: 0.303542\n",
      "Epoch: 7, Step: 1050, Loss: 0.182528\n",
      "Epoch: 7, Step: 1060, Loss: 0.15893\n",
      "Epoch: 7, Step: 1070, Loss: 0.186914\n",
      "Epoch: 7, Step: 1080, Loss: 0.147414\n",
      "Epoch: 7, Step: 1090, Loss: 0.190097\n"
     ]
    },
    {
     "name": "stderr",
     "output_type": "stream",
     "text": [
      "W0814 19:50:29.216709 139790696757120 saver.py:1134] *******************************************************\n",
      "W0814 19:50:29.217797 139790696757120 saver.py:1135] TensorFlow's V1 checkpoint format has been deprecated.\n",
      "W0814 19:50:29.221423 139790696757120 saver.py:1136] Consider switching to the more efficient V2 format:\n",
      "W0814 19:50:29.224000 139790696757120 saver.py:1137]    `tf.train.Saver(write_version=tf.train.SaverDef.V2)`\n",
      "W0814 19:50:29.226239 139790696757120 saver.py:1138] now on by default.\n",
      "W0814 19:50:29.228218 139790696757120 saver.py:1139] *******************************************************\n"
     ]
    },
    {
     "name": "stdout",
     "output_type": "stream",
     "text": [
      "Epoch: 7, Step: 1100, Loss: 0.154862\n",
      "Epoch: 7, Step: 1110, Loss: 0.171851\n",
      "Epoch: 7, Step: 1120, Loss: 0.140926\n",
      "Epoch: 7, Step: 1130, Loss: 0.141667\n",
      "Epoch: 7, Step: 1140, Loss: 0.141645\n",
      "Epoch: 7, Step: 1150, Loss: 0.143404\n",
      "Model saved in file: ./save/model.ckpt\n"
     ]
    },
    {
     "name": "stderr",
     "output_type": "stream",
     "text": [
      "W0814 19:50:50.788780 139790696757120 saver.py:1134] *******************************************************\n",
      "W0814 19:50:50.789738 139790696757120 saver.py:1135] TensorFlow's V1 checkpoint format has been deprecated.\n",
      "W0814 19:50:50.790617 139790696757120 saver.py:1136] Consider switching to the more efficient V2 format:\n",
      "W0814 19:50:50.795073 139790696757120 saver.py:1137]    `tf.train.Saver(write_version=tf.train.SaverDef.V2)`\n",
      "W0814 19:50:50.796777 139790696757120 saver.py:1138] now on by default.\n",
      "W0814 19:50:50.798118 139790696757120 saver.py:1139] *******************************************************\n"
     ]
    },
    {
     "name": "stdout",
     "output_type": "stream",
     "text": [
      "Epoch: 8, Step: 800, Loss: 0.17219\n",
      "Epoch: 8, Step: 810, Loss: 0.174619\n",
      "Epoch: 8, Step: 820, Loss: 0.153191\n",
      "Epoch: 8, Step: 830, Loss: 0.140381\n",
      "Epoch: 8, Step: 840, Loss: 0.142969\n",
      "Epoch: 8, Step: 850, Loss: 0.143367\n",
      "Epoch: 8, Step: 860, Loss: 0.172599\n",
      "Epoch: 8, Step: 870, Loss: 0.217069\n",
      "Epoch: 8, Step: 880, Loss: 1.87577\n",
      "Epoch: 8, Step: 890, Loss: 4.51888\n"
     ]
    },
    {
     "name": "stderr",
     "output_type": "stream",
     "text": [
      "W0814 19:51:31.404971 139790696757120 saver.py:1134] *******************************************************\n",
      "W0814 19:51:31.405995 139790696757120 saver.py:1135] TensorFlow's V1 checkpoint format has been deprecated.\n",
      "W0814 19:51:31.406869 139790696757120 saver.py:1136] Consider switching to the more efficient V2 format:\n",
      "W0814 19:51:31.412273 139790696757120 saver.py:1137]    `tf.train.Saver(write_version=tf.train.SaverDef.V2)`\n",
      "W0814 19:51:31.414479 139790696757120 saver.py:1138] now on by default.\n",
      "W0814 19:51:31.416039 139790696757120 saver.py:1139] *******************************************************\n"
     ]
    },
    {
     "name": "stdout",
     "output_type": "stream",
     "text": [
      "Epoch: 8, Step: 900, Loss: 0.1644\n",
      "Epoch: 8, Step: 910, Loss: 0.136187\n",
      "Epoch: 8, Step: 920, Loss: 0.184799\n",
      "Epoch: 8, Step: 930, Loss: 0.166883\n",
      "Epoch: 8, Step: 940, Loss: 0.147018\n",
      "Epoch: 8, Step: 950, Loss: 0.143963\n",
      "Epoch: 8, Step: 960, Loss: 0.206624\n",
      "Epoch: 8, Step: 970, Loss: 0.143237\n",
      "Epoch: 8, Step: 980, Loss: 0.200338\n",
      "Epoch: 8, Step: 990, Loss: 0.176399\n"
     ]
    },
    {
     "name": "stderr",
     "output_type": "stream",
     "text": [
      "W0814 19:52:12.108541 139790696757120 saver.py:1134] *******************************************************\n",
      "W0814 19:52:12.109692 139790696757120 saver.py:1135] TensorFlow's V1 checkpoint format has been deprecated.\n",
      "W0814 19:52:12.112940 139790696757120 saver.py:1136] Consider switching to the more efficient V2 format:\n",
      "W0814 19:52:12.114526 139790696757120 saver.py:1137]    `tf.train.Saver(write_version=tf.train.SaverDef.V2)`\n",
      "W0814 19:52:12.117850 139790696757120 saver.py:1138] now on by default.\n",
      "W0814 19:52:12.119394 139790696757120 saver.py:1139] *******************************************************\n"
     ]
    },
    {
     "name": "stdout",
     "output_type": "stream",
     "text": [
      "Epoch: 8, Step: 1000, Loss: 0.146372\n",
      "Epoch: 8, Step: 1010, Loss: 0.140739\n",
      "Epoch: 8, Step: 1020, Loss: 0.142465\n",
      "Epoch: 8, Step: 1030, Loss: 0.14382\n",
      "Epoch: 8, Step: 1040, Loss: 0.224077\n",
      "Epoch: 8, Step: 1050, Loss: 0.222994\n",
      "Epoch: 8, Step: 1060, Loss: 0.154738\n",
      "Epoch: 8, Step: 1070, Loss: 0.156953\n",
      "Epoch: 8, Step: 1080, Loss: 0.156212\n",
      "Epoch: 8, Step: 1090, Loss: 0.175412\n"
     ]
    },
    {
     "name": "stderr",
     "output_type": "stream",
     "text": [
      "W0814 19:52:52.292732 139790696757120 saver.py:1134] *******************************************************\n",
      "W0814 19:52:52.293673 139790696757120 saver.py:1135] TensorFlow's V1 checkpoint format has been deprecated.\n",
      "W0814 19:52:52.294506 139790696757120 saver.py:1136] Consider switching to the more efficient V2 format:\n",
      "W0814 19:52:52.299531 139790696757120 saver.py:1137]    `tf.train.Saver(write_version=tf.train.SaverDef.V2)`\n",
      "W0814 19:52:52.301732 139790696757120 saver.py:1138] now on by default.\n",
      "W0814 19:52:52.303299 139790696757120 saver.py:1139] *******************************************************\n"
     ]
    },
    {
     "name": "stdout",
     "output_type": "stream",
     "text": [
      "Epoch: 8, Step: 1100, Loss: 0.188978\n",
      "Epoch: 8, Step: 1110, Loss: 0.134463\n",
      "Epoch: 8, Step: 1120, Loss: 0.142417\n",
      "Epoch: 8, Step: 1130, Loss: 0.192871\n",
      "Epoch: 8, Step: 1140, Loss: 0.143429\n",
      "Epoch: 8, Step: 1150, Loss: 0.136375\n",
      "Epoch: 8, Step: 1160, Loss: 0.158146\n",
      "Epoch: 8, Step: 1170, Loss: 0.163869\n",
      "Epoch: 8, Step: 1180, Loss: 0.129313\n",
      "Epoch: 8, Step: 1190, Loss: 0.163237\n"
     ]
    },
    {
     "name": "stderr",
     "output_type": "stream",
     "text": [
      "W0814 19:53:31.921349 139790696757120 saver.py:1134] *******************************************************\n",
      "W0814 19:53:31.922221 139790696757120 saver.py:1135] TensorFlow's V1 checkpoint format has been deprecated.\n",
      "W0814 19:53:31.922936 139790696757120 saver.py:1136] Consider switching to the more efficient V2 format:\n",
      "W0814 19:53:31.926248 139790696757120 saver.py:1137]    `tf.train.Saver(write_version=tf.train.SaverDef.V2)`\n",
      "W0814 19:53:31.928074 139790696757120 saver.py:1138] now on by default.\n",
      "W0814 19:53:31.929683 139790696757120 saver.py:1139] *******************************************************\n"
     ]
    },
    {
     "name": "stdout",
     "output_type": "stream",
     "text": [
      "Epoch: 8, Step: 1200, Loss: 0.363997\n",
      "Epoch: 8, Step: 1210, Loss: 0.237407\n",
      "Epoch: 8, Step: 1220, Loss: 0.131118\n",
      "Epoch: 8, Step: 1230, Loss: 0.161516\n",
      "Epoch: 8, Step: 1240, Loss: 0.468556\n",
      "Epoch: 8, Step: 1250, Loss: 0.268501\n",
      "Model saved in file: ./save/model.ckpt\n"
     ]
    },
    {
     "name": "stderr",
     "output_type": "stream",
     "text": [
      "W0814 19:53:54.110469 139790696757120 saver.py:1134] *******************************************************\n",
      "W0814 19:53:54.111487 139790696757120 saver.py:1135] TensorFlow's V1 checkpoint format has been deprecated.\n",
      "W0814 19:53:54.113590 139790696757120 saver.py:1136] Consider switching to the more efficient V2 format:\n",
      "W0814 19:53:54.115649 139790696757120 saver.py:1137]    `tf.train.Saver(write_version=tf.train.SaverDef.V2)`\n",
      "W0814 19:53:54.117975 139790696757120 saver.py:1138] now on by default.\n",
      "W0814 19:53:54.119973 139790696757120 saver.py:1139] *******************************************************\n"
     ]
    },
    {
     "name": "stdout",
     "output_type": "stream",
     "text": [
      "Epoch: 9, Step: 900, Loss: 0.14757\n",
      "Epoch: 9, Step: 910, Loss: 0.14254\n",
      "Epoch: 9, Step: 920, Loss: 0.178112\n",
      "Epoch: 9, Step: 930, Loss: 0.13438\n",
      "Epoch: 9, Step: 940, Loss: 0.193616\n",
      "Epoch: 9, Step: 950, Loss: 0.15675\n",
      "Epoch: 9, Step: 960, Loss: 0.140202\n",
      "Epoch: 9, Step: 970, Loss: 0.146057\n",
      "Epoch: 9, Step: 980, Loss: 0.710145\n",
      "Epoch: 9, Step: 990, Loss: 0.694601\n"
     ]
    },
    {
     "name": "stderr",
     "output_type": "stream",
     "text": [
      "W0814 19:54:35.589237 139790696757120 saver.py:1134] *******************************************************\n",
      "W0814 19:54:35.590296 139790696757120 saver.py:1135] TensorFlow's V1 checkpoint format has been deprecated.\n",
      "W0814 19:54:35.591141 139790696757120 saver.py:1136] Consider switching to the more efficient V2 format:\n",
      "W0814 19:54:35.595668 139790696757120 saver.py:1137]    `tf.train.Saver(write_version=tf.train.SaverDef.V2)`\n",
      "W0814 19:54:35.597129 139790696757120 saver.py:1138] now on by default.\n",
      "W0814 19:54:35.598814 139790696757120 saver.py:1139] *******************************************************\n"
     ]
    },
    {
     "name": "stdout",
     "output_type": "stream",
     "text": [
      "Epoch: 9, Step: 1000, Loss: 0.599492\n",
      "Epoch: 9, Step: 1010, Loss: 0.569283\n",
      "Epoch: 9, Step: 1020, Loss: 0.205087\n",
      "Epoch: 9, Step: 1030, Loss: 0.710698\n",
      "Epoch: 9, Step: 1040, Loss: 0.193354\n",
      "Epoch: 9, Step: 1050, Loss: 0.122919\n",
      "Epoch: 9, Step: 1060, Loss: 0.162049\n",
      "Epoch: 9, Step: 1070, Loss: 0.167864\n",
      "Epoch: 9, Step: 1080, Loss: 0.275327\n",
      "Epoch: 9, Step: 1090, Loss: 0.709086\n"
     ]
    },
    {
     "name": "stderr",
     "output_type": "stream",
     "text": [
      "W0814 19:55:15.330879 139790696757120 saver.py:1134] *******************************************************\n",
      "W0814 19:55:15.331930 139790696757120 saver.py:1135] TensorFlow's V1 checkpoint format has been deprecated.\n",
      "W0814 19:55:15.333450 139790696757120 saver.py:1136] Consider switching to the more efficient V2 format:\n",
      "W0814 19:55:15.338302 139790696757120 saver.py:1137]    `tf.train.Saver(write_version=tf.train.SaverDef.V2)`\n",
      "W0814 19:55:15.339519 139790696757120 saver.py:1138] now on by default.\n",
      "W0814 19:55:15.341652 139790696757120 saver.py:1139] *******************************************************\n"
     ]
    },
    {
     "name": "stdout",
     "output_type": "stream",
     "text": [
      "Epoch: 9, Step: 1100, Loss: 0.999867\n",
      "Epoch: 9, Step: 1110, Loss: 1.9006\n",
      "Epoch: 9, Step: 1120, Loss: 0.76143\n",
      "Epoch: 9, Step: 1130, Loss: 0.766305\n",
      "Epoch: 9, Step: 1140, Loss: 0.122765\n",
      "Epoch: 9, Step: 1150, Loss: 0.144415\n",
      "Epoch: 9, Step: 1160, Loss: 0.630365\n",
      "Epoch: 9, Step: 1170, Loss: 1.20754\n",
      "Epoch: 9, Step: 1180, Loss: 0.179989\n",
      "Epoch: 9, Step: 1190, Loss: 0.160284\n"
     ]
    },
    {
     "name": "stderr",
     "output_type": "stream",
     "text": [
      "W0814 19:55:56.012920 139790696757120 saver.py:1134] *******************************************************\n",
      "W0814 19:55:56.014014 139790696757120 saver.py:1135] TensorFlow's V1 checkpoint format has been deprecated.\n",
      "W0814 19:55:56.014858 139790696757120 saver.py:1136] Consider switching to the more efficient V2 format:\n",
      "W0814 19:55:56.018763 139790696757120 saver.py:1137]    `tf.train.Saver(write_version=tf.train.SaverDef.V2)`\n",
      "W0814 19:55:56.020428 139790696757120 saver.py:1138] now on by default.\n",
      "W0814 19:55:56.022265 139790696757120 saver.py:1139] *******************************************************\n"
     ]
    },
    {
     "name": "stdout",
     "output_type": "stream",
     "text": [
      "Epoch: 9, Step: 1200, Loss: 0.129538\n",
      "Epoch: 9, Step: 1210, Loss: 0.189679\n",
      "Epoch: 9, Step: 1220, Loss: 0.327235\n",
      "Epoch: 9, Step: 1230, Loss: 0.358427\n",
      "Epoch: 9, Step: 1240, Loss: 0.65514\n",
      "Epoch: 9, Step: 1250, Loss: 0.227596\n",
      "Epoch: 9, Step: 1260, Loss: 0.121355\n",
      "Epoch: 9, Step: 1270, Loss: 0.155945\n",
      "Epoch: 9, Step: 1280, Loss: 0.123553\n",
      "Epoch: 9, Step: 1290, Loss: 0.174311\n"
     ]
    },
    {
     "name": "stderr",
     "output_type": "stream",
     "text": [
      "W0814 19:56:37.463818 139790696757120 saver.py:1134] *******************************************************\n",
      "W0814 19:56:37.464860 139790696757120 saver.py:1135] TensorFlow's V1 checkpoint format has been deprecated.\n",
      "W0814 19:56:37.469800 139790696757120 saver.py:1136] Consider switching to the more efficient V2 format:\n",
      "W0814 19:56:37.471622 139790696757120 saver.py:1137]    `tf.train.Saver(write_version=tf.train.SaverDef.V2)`\n",
      "W0814 19:56:37.473455 139790696757120 saver.py:1138] now on by default.\n",
      "W0814 19:56:37.474696 139790696757120 saver.py:1139] *******************************************************\n"
     ]
    },
    {
     "name": "stdout",
     "output_type": "stream",
     "text": [
      "Epoch: 9, Step: 1300, Loss: 0.274435\n",
      "Epoch: 9, Step: 1310, Loss: 0.203065\n",
      "Epoch: 9, Step: 1320, Loss: 0.344023\n",
      "Epoch: 9, Step: 1330, Loss: 0.16029\n",
      "Epoch: 9, Step: 1340, Loss: 0.116277\n",
      "Epoch: 9, Step: 1350, Loss: 0.131203\n",
      "Model saved in file: ./save/model.ckpt\n"
     ]
    },
    {
     "name": "stderr",
     "output_type": "stream",
     "text": [
      "W0814 19:56:59.473741 139790696757120 saver.py:1134] *******************************************************\n",
      "W0814 19:56:59.474821 139790696757120 saver.py:1135] TensorFlow's V1 checkpoint format has been deprecated.\n",
      "W0814 19:56:59.479457 139790696757120 saver.py:1136] Consider switching to the more efficient V2 format:\n",
      "W0814 19:56:59.481537 139790696757120 saver.py:1137]    `tf.train.Saver(write_version=tf.train.SaverDef.V2)`\n",
      "W0814 19:56:59.482948 139790696757120 saver.py:1138] now on by default.\n",
      "W0814 19:56:59.484031 139790696757120 saver.py:1139] *******************************************************\n"
     ]
    },
    {
     "name": "stdout",
     "output_type": "stream",
     "text": [
      "Epoch: 10, Step: 1000, Loss: 0.163097\n",
      "Epoch: 10, Step: 1010, Loss: 0.462126\n",
      "Epoch: 10, Step: 1020, Loss: 0.911952\n",
      "Epoch: 10, Step: 1030, Loss: 0.194036\n",
      "Epoch: 10, Step: 1040, Loss: 0.220632\n",
      "Epoch: 10, Step: 1050, Loss: 0.120055\n",
      "Epoch: 10, Step: 1060, Loss: 0.11421\n",
      "Epoch: 10, Step: 1070, Loss: 0.114379\n",
      "Epoch: 10, Step: 1080, Loss: 0.119987\n",
      "Epoch: 10, Step: 1090, Loss: 0.136988\n"
     ]
    },
    {
     "name": "stderr",
     "output_type": "stream",
     "text": [
      "W0814 19:57:39.328126 139790696757120 saver.py:1134] *******************************************************\n",
      "W0814 19:57:39.329209 139790696757120 saver.py:1135] TensorFlow's V1 checkpoint format has been deprecated.\n",
      "W0814 19:57:39.330026 139790696757120 saver.py:1136] Consider switching to the more efficient V2 format:\n",
      "W0814 19:57:39.334304 139790696757120 saver.py:1137]    `tf.train.Saver(write_version=tf.train.SaverDef.V2)`\n",
      "W0814 19:57:39.336521 139790696757120 saver.py:1138] now on by default.\n",
      "W0814 19:57:39.338341 139790696757120 saver.py:1139] *******************************************************\n"
     ]
    },
    {
     "name": "stdout",
     "output_type": "stream",
     "text": [
      "Epoch: 10, Step: 1100, Loss: 0.15602\n",
      "Epoch: 10, Step: 1110, Loss: 0.125488\n",
      "Epoch: 10, Step: 1120, Loss: 0.144676\n",
      "Epoch: 10, Step: 1130, Loss: 0.495702\n",
      "Epoch: 10, Step: 1140, Loss: 0.171277\n",
      "Epoch: 10, Step: 1150, Loss: 0.302433\n",
      "Epoch: 10, Step: 1160, Loss: 0.133408\n",
      "Epoch: 10, Step: 1170, Loss: 0.115282\n",
      "Epoch: 10, Step: 1180, Loss: 0.120425\n",
      "Epoch: 10, Step: 1190, Loss: 0.115346\n"
     ]
    },
    {
     "name": "stderr",
     "output_type": "stream",
     "text": [
      "W0814 19:58:20.081264 139790696757120 saver.py:1134] *******************************************************\n",
      "W0814 19:58:20.082254 139790696757120 saver.py:1135] TensorFlow's V1 checkpoint format has been deprecated.\n",
      "W0814 19:58:20.084522 139790696757120 saver.py:1136] Consider switching to the more efficient V2 format:\n",
      "W0814 19:58:20.089427 139790696757120 saver.py:1137]    `tf.train.Saver(write_version=tf.train.SaverDef.V2)`\n",
      "W0814 19:58:20.091699 139790696757120 saver.py:1138] now on by default.\n",
      "W0814 19:58:20.092389 139790696757120 saver.py:1139] *******************************************************\n"
     ]
    },
    {
     "name": "stdout",
     "output_type": "stream",
     "text": [
      "Epoch: 10, Step: 1200, Loss: 0.17714\n",
      "Epoch: 10, Step: 1210, Loss: 3.93523\n",
      "Epoch: 10, Step: 1220, Loss: 0.691239\n",
      "Epoch: 10, Step: 1230, Loss: 0.188606\n",
      "Epoch: 10, Step: 1240, Loss: 0.301129\n",
      "Epoch: 10, Step: 1250, Loss: 0.224773\n",
      "Epoch: 10, Step: 1260, Loss: 0.14716\n",
      "Epoch: 10, Step: 1270, Loss: 0.231131\n",
      "Epoch: 10, Step: 1280, Loss: 0.243004\n",
      "Epoch: 10, Step: 1290, Loss: 0.109295\n"
     ]
    },
    {
     "name": "stderr",
     "output_type": "stream",
     "text": [
      "W0814 19:59:01.470259 139790696757120 saver.py:1134] *******************************************************\n",
      "W0814 19:59:01.471320 139790696757120 saver.py:1135] TensorFlow's V1 checkpoint format has been deprecated.\n",
      "W0814 19:59:01.472148 139790696757120 saver.py:1136] Consider switching to the more efficient V2 format:\n",
      "W0814 19:59:01.476045 139790696757120 saver.py:1137]    `tf.train.Saver(write_version=tf.train.SaverDef.V2)`\n",
      "W0814 19:59:01.478949 139790696757120 saver.py:1138] now on by default.\n",
      "W0814 19:59:01.480054 139790696757120 saver.py:1139] *******************************************************\n"
     ]
    },
    {
     "name": "stdout",
     "output_type": "stream",
     "text": [
      "Epoch: 10, Step: 1300, Loss: 0.188039\n",
      "Epoch: 10, Step: 1310, Loss: 0.188095\n",
      "Epoch: 10, Step: 1320, Loss: 0.159006\n",
      "Epoch: 10, Step: 1330, Loss: 0.124636\n",
      "Epoch: 10, Step: 1340, Loss: 0.168935\n",
      "Epoch: 10, Step: 1350, Loss: 0.127968\n",
      "Epoch: 10, Step: 1360, Loss: 0.105938\n",
      "Epoch: 10, Step: 1370, Loss: 0.107955\n",
      "Epoch: 10, Step: 1380, Loss: 0.132351\n",
      "Epoch: 10, Step: 1390, Loss: 0.137887\n"
     ]
    },
    {
     "name": "stderr",
     "output_type": "stream",
     "text": [
      "W0814 19:59:41.477090 139790696757120 saver.py:1134] *******************************************************\n",
      "W0814 19:59:41.478023 139790696757120 saver.py:1135] TensorFlow's V1 checkpoint format has been deprecated.\n",
      "W0814 19:59:41.478876 139790696757120 saver.py:1136] Consider switching to the more efficient V2 format:\n",
      "W0814 19:59:41.483770 139790696757120 saver.py:1137]    `tf.train.Saver(write_version=tf.train.SaverDef.V2)`\n",
      "W0814 19:59:41.486340 139790696757120 saver.py:1138] now on by default.\n",
      "W0814 19:59:41.487929 139790696757120 saver.py:1139] *******************************************************\n"
     ]
    },
    {
     "name": "stdout",
     "output_type": "stream",
     "text": [
      "Epoch: 10, Step: 1400, Loss: 0.110525\n",
      "Epoch: 10, Step: 1410, Loss: 0.112263\n",
      "Epoch: 10, Step: 1420, Loss: 0.106977\n",
      "Epoch: 10, Step: 1430, Loss: 0.10835\n",
      "Epoch: 10, Step: 1440, Loss: 0.116712\n",
      "Epoch: 10, Step: 1450, Loss: 0.119812\n",
      "Model saved in file: ./save/model.ckpt\n"
     ]
    },
    {
     "name": "stderr",
     "output_type": "stream",
     "text": [
      "W0814 20:00:03.745433 139790696757120 saver.py:1134] *******************************************************\n",
      "W0814 20:00:03.746279 139790696757120 saver.py:1135] TensorFlow's V1 checkpoint format has been deprecated.\n",
      "W0814 20:00:03.747124 139790696757120 saver.py:1136] Consider switching to the more efficient V2 format:\n",
      "W0814 20:00:03.751087 139790696757120 saver.py:1137]    `tf.train.Saver(write_version=tf.train.SaverDef.V2)`\n",
      "W0814 20:00:03.753698 139790696757120 saver.py:1138] now on by default.\n",
      "W0814 20:00:03.755271 139790696757120 saver.py:1139] *******************************************************\n"
     ]
    },
    {
     "name": "stdout",
     "output_type": "stream",
     "text": [
      "Epoch: 11, Step: 1100, Loss: 0.105291\n",
      "Epoch: 11, Step: 1110, Loss: 0.104519\n",
      "Epoch: 11, Step: 1120, Loss: 0.116059\n",
      "Epoch: 11, Step: 1130, Loss: 0.149442\n",
      "Epoch: 11, Step: 1140, Loss: 0.224737\n",
      "Epoch: 11, Step: 1150, Loss: 0.298175\n",
      "Epoch: 11, Step: 1160, Loss: 0.270679\n",
      "Epoch: 11, Step: 1170, Loss: 5.04435\n",
      "Epoch: 11, Step: 1180, Loss: 0.222778\n",
      "Epoch: 11, Step: 1190, Loss: 0.214318\n"
     ]
    },
    {
     "name": "stderr",
     "output_type": "stream",
     "text": [
      "W0814 20:00:44.640334 139790696757120 saver.py:1134] *******************************************************\n",
      "W0814 20:00:44.641317 139790696757120 saver.py:1135] TensorFlow's V1 checkpoint format has been deprecated.\n",
      "W0814 20:00:44.642415 139790696757120 saver.py:1136] Consider switching to the more efficient V2 format:\n",
      "W0814 20:00:44.647053 139790696757120 saver.py:1137]    `tf.train.Saver(write_version=tf.train.SaverDef.V2)`\n",
      "W0814 20:00:44.648859 139790696757120 saver.py:1138] now on by default.\n",
      "W0814 20:00:44.650749 139790696757120 saver.py:1139] *******************************************************\n"
     ]
    },
    {
     "name": "stdout",
     "output_type": "stream",
     "text": [
      "Epoch: 11, Step: 1200, Loss: 0.117053\n",
      "Epoch: 11, Step: 1210, Loss: 0.160058\n",
      "Epoch: 11, Step: 1220, Loss: 0.128065\n",
      "Epoch: 11, Step: 1230, Loss: 0.128385\n",
      "Epoch: 11, Step: 1240, Loss: 0.387462\n",
      "Epoch: 11, Step: 1250, Loss: 0.132861\n",
      "Epoch: 11, Step: 1260, Loss: 0.102542\n",
      "Epoch: 11, Step: 1270, Loss: 0.125328\n",
      "Epoch: 11, Step: 1280, Loss: 0.12177\n",
      "Epoch: 11, Step: 1290, Loss: 0.10444\n"
     ]
    },
    {
     "name": "stderr",
     "output_type": "stream",
     "text": [
      "W0814 20:01:25.419636 139790696757120 saver.py:1134] *******************************************************\n",
      "W0814 20:01:25.420785 139790696757120 saver.py:1135] TensorFlow's V1 checkpoint format has been deprecated.\n",
      "W0814 20:01:25.425700 139790696757120 saver.py:1136] Consider switching to the more efficient V2 format:\n",
      "W0814 20:01:25.427818 139790696757120 saver.py:1137]    `tf.train.Saver(write_version=tf.train.SaverDef.V2)`\n",
      "W0814 20:01:25.429062 139790696757120 saver.py:1138] now on by default.\n",
      "W0814 20:01:25.430084 139790696757120 saver.py:1139] *******************************************************\n"
     ]
    },
    {
     "name": "stdout",
     "output_type": "stream",
     "text": [
      "Epoch: 11, Step: 1300, Loss: 0.178995\n",
      "Epoch: 11, Step: 1310, Loss: 0.393129\n",
      "Epoch: 11, Step: 1320, Loss: 0.20171\n",
      "Epoch: 11, Step: 1330, Loss: 0.145393\n",
      "Epoch: 11, Step: 1340, Loss: 0.190086\n",
      "Epoch: 11, Step: 1350, Loss: 0.214567\n",
      "Epoch: 11, Step: 1360, Loss: 0.107058\n",
      "Epoch: 11, Step: 1370, Loss: 0.100345\n",
      "Epoch: 11, Step: 1380, Loss: 0.101014\n",
      "Epoch: 11, Step: 1390, Loss: 0.101015\n"
     ]
    },
    {
     "name": "stderr",
     "output_type": "stream",
     "text": [
      "W0814 20:02:05.458525 139790696757120 saver.py:1134] *******************************************************\n",
      "W0814 20:02:05.460330 139790696757120 saver.py:1135] TensorFlow's V1 checkpoint format has been deprecated.\n",
      "W0814 20:02:05.467833 139790696757120 saver.py:1136] Consider switching to the more efficient V2 format:\n",
      "W0814 20:02:05.472322 139790696757120 saver.py:1137]    `tf.train.Saver(write_version=tf.train.SaverDef.V2)`\n",
      "W0814 20:02:05.473327 139790696757120 saver.py:1138] now on by default.\n",
      "W0814 20:02:05.474223 139790696757120 saver.py:1139] *******************************************************\n"
     ]
    },
    {
     "name": "stdout",
     "output_type": "stream",
     "text": [
      "Epoch: 11, Step: 1400, Loss: 0.101361\n",
      "Epoch: 11, Step: 1410, Loss: 0.107559\n",
      "Epoch: 11, Step: 1420, Loss: 0.107148\n",
      "Epoch: 11, Step: 1430, Loss: 0.102597\n",
      "Epoch: 11, Step: 1440, Loss: 0.101504\n",
      "Epoch: 11, Step: 1450, Loss: 0.137232\n",
      "Epoch: 11, Step: 1460, Loss: 0.125565\n",
      "Epoch: 11, Step: 1470, Loss: 0.111619\n",
      "Epoch: 11, Step: 1480, Loss: 0.16758\n",
      "Epoch: 11, Step: 1490, Loss: 0.348246\n"
     ]
    },
    {
     "name": "stderr",
     "output_type": "stream",
     "text": [
      "W0814 20:02:46.186459 139790696757120 saver.py:1134] *******************************************************\n",
      "W0814 20:02:46.187406 139790696757120 saver.py:1135] TensorFlow's V1 checkpoint format has been deprecated.\n",
      "W0814 20:02:46.192391 139790696757120 saver.py:1136] Consider switching to the more efficient V2 format:\n",
      "W0814 20:02:46.194162 139790696757120 saver.py:1137]    `tf.train.Saver(write_version=tf.train.SaverDef.V2)`\n",
      "W0814 20:02:46.195265 139790696757120 saver.py:1138] now on by default.\n",
      "W0814 20:02:46.196090 139790696757120 saver.py:1139] *******************************************************\n"
     ]
    },
    {
     "name": "stdout",
     "output_type": "stream",
     "text": [
      "Epoch: 11, Step: 1500, Loss: 0.124441\n",
      "Epoch: 11, Step: 1510, Loss: 0.107569\n",
      "Epoch: 11, Step: 1520, Loss: 0.108417\n",
      "Epoch: 11, Step: 1530, Loss: 0.154345\n",
      "Epoch: 11, Step: 1540, Loss: 0.11127\n",
      "Epoch: 11, Step: 1550, Loss: 0.17343\n",
      "Model saved in file: ./save/model.ckpt\n"
     ]
    },
    {
     "name": "stderr",
     "output_type": "stream",
     "text": [
      "W0814 20:03:09.038340 139790696757120 saver.py:1134] *******************************************************\n",
      "W0814 20:03:09.039458 139790696757120 saver.py:1135] TensorFlow's V1 checkpoint format has been deprecated.\n",
      "W0814 20:03:09.041773 139790696757120 saver.py:1136] Consider switching to the more efficient V2 format:\n",
      "W0814 20:03:09.047281 139790696757120 saver.py:1137]    `tf.train.Saver(write_version=tf.train.SaverDef.V2)`\n",
      "W0814 20:03:09.048119 139790696757120 saver.py:1138] now on by default.\n",
      "W0814 20:03:09.048892 139790696757120 saver.py:1139] *******************************************************\n"
     ]
    },
    {
     "name": "stdout",
     "output_type": "stream",
     "text": [
      "Epoch: 12, Step: 1200, Loss: 0.805431\n",
      "Epoch: 12, Step: 1210, Loss: 0.239627\n",
      "Epoch: 12, Step: 1220, Loss: 0.144466\n",
      "Epoch: 12, Step: 1230, Loss: 0.106826\n",
      "Epoch: 12, Step: 1240, Loss: 0.104398\n",
      "Epoch: 12, Step: 1250, Loss: 0.117778\n",
      "Epoch: 12, Step: 1260, Loss: 0.590096\n",
      "Epoch: 12, Step: 1270, Loss: 0.475431\n",
      "Epoch: 12, Step: 1280, Loss: 0.480012\n",
      "Epoch: 12, Step: 1290, Loss: 0.636151\n"
     ]
    },
    {
     "name": "stderr",
     "output_type": "stream",
     "text": [
      "W0814 20:03:48.871030 139790696757120 saver.py:1134] *******************************************************\n",
      "W0814 20:03:48.872179 139790696757120 saver.py:1135] TensorFlow's V1 checkpoint format has been deprecated.\n",
      "W0814 20:03:48.872951 139790696757120 saver.py:1136] Consider switching to the more efficient V2 format:\n",
      "W0814 20:03:48.877953 139790696757120 saver.py:1137]    `tf.train.Saver(write_version=tf.train.SaverDef.V2)`\n",
      "W0814 20:03:48.879460 139790696757120 saver.py:1138] now on by default.\n",
      "W0814 20:03:48.884956 139790696757120 saver.py:1139] *******************************************************\n"
     ]
    },
    {
     "name": "stdout",
     "output_type": "stream",
     "text": [
      "Epoch: 12, Step: 1300, Loss: 0.154293\n",
      "Epoch: 12, Step: 1310, Loss: 0.289421\n",
      "Epoch: 12, Step: 1320, Loss: 0.162795\n",
      "Epoch: 12, Step: 1330, Loss: 0.0996593\n",
      "Epoch: 12, Step: 1340, Loss: 0.101114\n",
      "Epoch: 12, Step: 1350, Loss: 0.136612\n",
      "Epoch: 12, Step: 1360, Loss: 0.236878\n",
      "Epoch: 12, Step: 1370, Loss: 0.697562\n",
      "Epoch: 12, Step: 1380, Loss: 0.295249\n",
      "Epoch: 12, Step: 1390, Loss: 1.99553\n"
     ]
    },
    {
     "name": "stderr",
     "output_type": "stream",
     "text": [
      "W0814 20:04:29.454544 139790696757120 saver.py:1134] *******************************************************\n",
      "W0814 20:04:29.455640 139790696757120 saver.py:1135] TensorFlow's V1 checkpoint format has been deprecated.\n",
      "W0814 20:04:29.456485 139790696757120 saver.py:1136] Consider switching to the more efficient V2 format:\n",
      "W0814 20:04:29.461091 139790696757120 saver.py:1137]    `tf.train.Saver(write_version=tf.train.SaverDef.V2)`\n",
      "W0814 20:04:29.463057 139790696757120 saver.py:1138] now on by default.\n",
      "W0814 20:04:29.464338 139790696757120 saver.py:1139] *******************************************************\n"
     ]
    },
    {
     "name": "stdout",
     "output_type": "stream",
     "text": [
      "Epoch: 12, Step: 1400, Loss: 0.4232\n",
      "Epoch: 12, Step: 1410, Loss: 1.04195\n",
      "Epoch: 12, Step: 1420, Loss: 0.162212\n",
      "Epoch: 12, Step: 1430, Loss: 0.127841\n",
      "Epoch: 12, Step: 1440, Loss: 0.482895\n",
      "Epoch: 12, Step: 1450, Loss: 1.16135\n",
      "Epoch: 12, Step: 1460, Loss: 0.414571\n",
      "Epoch: 12, Step: 1470, Loss: 0.191722\n",
      "Epoch: 12, Step: 1480, Loss: 0.156557\n",
      "Epoch: 12, Step: 1490, Loss: 0.119263\n"
     ]
    },
    {
     "name": "stderr",
     "output_type": "stream",
     "text": [
      "W0814 20:05:10.763527 139790696757120 saver.py:1134] *******************************************************\n",
      "W0814 20:05:10.765475 139790696757120 saver.py:1135] TensorFlow's V1 checkpoint format has been deprecated.\n",
      "W0814 20:05:10.766461 139790696757120 saver.py:1136] Consider switching to the more efficient V2 format:\n",
      "W0814 20:05:10.767308 139790696757120 saver.py:1137]    `tf.train.Saver(write_version=tf.train.SaverDef.V2)`\n",
      "W0814 20:05:10.768164 139790696757120 saver.py:1138] now on by default.\n",
      "W0814 20:05:10.769077 139790696757120 saver.py:1139] *******************************************************\n"
     ]
    },
    {
     "name": "stdout",
     "output_type": "stream",
     "text": [
      "Epoch: 12, Step: 1500, Loss: 0.302426\n",
      "Epoch: 12, Step: 1510, Loss: 0.431604\n",
      "Epoch: 12, Step: 1520, Loss: 1.53932\n",
      "Epoch: 12, Step: 1530, Loss: 0.267719\n",
      "Epoch: 12, Step: 1540, Loss: 0.0990497\n",
      "Epoch: 12, Step: 1550, Loss: 0.107592\n",
      "Epoch: 12, Step: 1560, Loss: 0.0985216\n",
      "Epoch: 12, Step: 1570, Loss: 0.10875\n",
      "Epoch: 12, Step: 1580, Loss: 0.290504\n",
      "Epoch: 12, Step: 1590, Loss: 0.723946\n"
     ]
    },
    {
     "name": "stderr",
     "output_type": "stream",
     "text": [
      "W0814 20:05:50.904782 139790696757120 saver.py:1134] *******************************************************\n",
      "W0814 20:05:50.905824 139790696757120 saver.py:1135] TensorFlow's V1 checkpoint format has been deprecated.\n",
      "W0814 20:05:50.908443 139790696757120 saver.py:1136] Consider switching to the more efficient V2 format:\n",
      "W0814 20:05:50.911597 139790696757120 saver.py:1137]    `tf.train.Saver(write_version=tf.train.SaverDef.V2)`\n",
      "W0814 20:05:50.913212 139790696757120 saver.py:1138] now on by default.\n",
      "W0814 20:05:50.914585 139790696757120 saver.py:1139] *******************************************************\n"
     ]
    },
    {
     "name": "stdout",
     "output_type": "stream",
     "text": [
      "Epoch: 12, Step: 1600, Loss: 0.291099\n",
      "Epoch: 12, Step: 1610, Loss: 0.110278\n",
      "Epoch: 12, Step: 1620, Loss: 0.0990463\n",
      "Epoch: 12, Step: 1630, Loss: 0.107676\n",
      "Epoch: 12, Step: 1640, Loss: 0.105236\n",
      "Epoch: 12, Step: 1650, Loss: 0.283681\n",
      "Model saved in file: ./save/model.ckpt\n"
     ]
    },
    {
     "name": "stderr",
     "output_type": "stream",
     "text": [
      "W0814 20:06:12.752621 139790696757120 saver.py:1134] *******************************************************\n",
      "W0814 20:06:12.753592 139790696757120 saver.py:1135] TensorFlow's V1 checkpoint format has been deprecated.\n",
      "W0814 20:06:12.754411 139790696757120 saver.py:1136] Consider switching to the more efficient V2 format:\n",
      "W0814 20:06:12.758341 139790696757120 saver.py:1137]    `tf.train.Saver(write_version=tf.train.SaverDef.V2)`\n",
      "W0814 20:06:12.760072 139790696757120 saver.py:1138] now on by default.\n",
      "W0814 20:06:12.761861 139790696757120 saver.py:1139] *******************************************************\n"
     ]
    },
    {
     "name": "stdout",
     "output_type": "stream",
     "text": [
      "Epoch: 13, Step: 1300, Loss: 0.878588\n",
      "Epoch: 13, Step: 1310, Loss: 0.316554\n",
      "Epoch: 13, Step: 1320, Loss: 0.200197\n",
      "Epoch: 13, Step: 1330, Loss: 0.103869\n",
      "Epoch: 13, Step: 1340, Loss: 0.0956711\n",
      "Epoch: 13, Step: 1350, Loss: 0.0921967\n",
      "Epoch: 13, Step: 1360, Loss: 0.0979524\n",
      "Epoch: 13, Step: 1370, Loss: 0.093527\n",
      "Epoch: 13, Step: 1380, Loss: 0.151221\n",
      "Epoch: 13, Step: 1390, Loss: 0.128401\n"
     ]
    },
    {
     "name": "stderr",
     "output_type": "stream",
     "text": [
      "W0814 20:06:53.185056 139790696757120 saver.py:1134] *******************************************************\n",
      "W0814 20:06:53.186028 139790696757120 saver.py:1135] TensorFlow's V1 checkpoint format has been deprecated.\n",
      "W0814 20:06:53.186827 139790696757120 saver.py:1136] Consider switching to the more efficient V2 format:\n",
      "W0814 20:06:53.191902 139790696757120 saver.py:1137]    `tf.train.Saver(write_version=tf.train.SaverDef.V2)`\n",
      "W0814 20:06:53.193282 139790696757120 saver.py:1138] now on by default.\n",
      "W0814 20:06:53.194720 139790696757120 saver.py:1139] *******************************************************\n"
     ]
    },
    {
     "name": "stdout",
     "output_type": "stream",
     "text": [
      "Epoch: 13, Step: 1400, Loss: 0.161108\n",
      "Epoch: 13, Step: 1410, Loss: 0.396739\n",
      "Epoch: 13, Step: 1420, Loss: 0.372928\n",
      "Epoch: 13, Step: 1430, Loss: 0.520739\n",
      "Epoch: 13, Step: 1440, Loss: 0.0951912\n",
      "Epoch: 13, Step: 1450, Loss: 0.144114\n",
      "Epoch: 13, Step: 1460, Loss: 0.0919646\n",
      "Epoch: 13, Step: 1470, Loss: 0.0982055\n",
      "Epoch: 13, Step: 1480, Loss: 0.0933243\n",
      "Epoch: 13, Step: 1490, Loss: 3.62527\n"
     ]
    },
    {
     "name": "stderr",
     "output_type": "stream",
     "text": [
      "W0814 20:07:34.131174 139790696757120 saver.py:1134] *******************************************************\n",
      "W0814 20:07:34.132242 139790696757120 saver.py:1135] TensorFlow's V1 checkpoint format has been deprecated.\n",
      "W0814 20:07:34.133106 139790696757120 saver.py:1136] Consider switching to the more efficient V2 format:\n",
      "W0814 20:07:34.138543 139790696757120 saver.py:1137]    `tf.train.Saver(write_version=tf.train.SaverDef.V2)`\n",
      "W0814 20:07:34.140142 139790696757120 saver.py:1138] now on by default.\n",
      "W0814 20:07:34.145648 139790696757120 saver.py:1139] *******************************************************\n"
     ]
    },
    {
     "name": "stdout",
     "output_type": "stream",
     "text": [
      "Epoch: 13, Step: 1500, Loss: 2.57838\n",
      "Epoch: 13, Step: 1510, Loss: 0.147846\n",
      "Epoch: 13, Step: 1520, Loss: 0.114603\n",
      "Epoch: 13, Step: 1530, Loss: 0.130269\n",
      "Epoch: 13, Step: 1540, Loss: 0.0999342\n",
      "Epoch: 13, Step: 1550, Loss: 0.0921117\n",
      "Epoch: 13, Step: 1560, Loss: 0.147374\n",
      "Epoch: 13, Step: 1570, Loss: 0.137906\n",
      "Epoch: 13, Step: 1580, Loss: 0.10865\n",
      "Epoch: 13, Step: 1590, Loss: 0.107849\n"
     ]
    },
    {
     "name": "stderr",
     "output_type": "stream",
     "text": [
      "W0814 20:08:13.309964 139790696757120 saver.py:1134] *******************************************************\n",
      "W0814 20:08:13.311033 139790696757120 saver.py:1135] TensorFlow's V1 checkpoint format has been deprecated.\n",
      "W0814 20:08:13.311826 139790696757120 saver.py:1136] Consider switching to the more efficient V2 format:\n",
      "W0814 20:08:13.316976 139790696757120 saver.py:1137]    `tf.train.Saver(write_version=tf.train.SaverDef.V2)`\n",
      "W0814 20:08:13.318758 139790696757120 saver.py:1138] now on by default.\n",
      "W0814 20:08:13.320280 139790696757120 saver.py:1139] *******************************************************\n"
     ]
    },
    {
     "name": "stdout",
     "output_type": "stream",
     "text": [
      "Epoch: 13, Step: 1600, Loss: 0.100643\n",
      "Epoch: 13, Step: 1610, Loss: 0.13465\n",
      "Epoch: 13, Step: 1620, Loss: 0.11911\n",
      "Epoch: 13, Step: 1630, Loss: 0.149773\n",
      "Epoch: 13, Step: 1640, Loss: 0.103709\n",
      "Epoch: 13, Step: 1650, Loss: 0.0940319\n",
      "Epoch: 13, Step: 1660, Loss: 0.0922209\n",
      "Epoch: 13, Step: 1670, Loss: 0.110029\n",
      "Epoch: 13, Step: 1680, Loss: 0.0903608\n",
      "Epoch: 13, Step: 1690, Loss: 0.0933223\n"
     ]
    },
    {
     "name": "stderr",
     "output_type": "stream",
     "text": [
      "W0814 20:08:53.622746 139790696757120 saver.py:1134] *******************************************************\n",
      "W0814 20:08:53.623945 139790696757120 saver.py:1135] TensorFlow's V1 checkpoint format has been deprecated.\n",
      "W0814 20:08:53.624797 139790696757120 saver.py:1136] Consider switching to the more efficient V2 format:\n",
      "W0814 20:08:53.629563 139790696757120 saver.py:1137]    `tf.train.Saver(write_version=tf.train.SaverDef.V2)`\n",
      "W0814 20:08:53.631307 139790696757120 saver.py:1138] now on by default.\n",
      "W0814 20:08:53.632917 139790696757120 saver.py:1139] *******************************************************\n"
     ]
    },
    {
     "name": "stdout",
     "output_type": "stream",
     "text": [
      "Epoch: 13, Step: 1700, Loss: 0.141067\n",
      "Epoch: 13, Step: 1710, Loss: 0.0954803\n",
      "Epoch: 13, Step: 1720, Loss: 0.180603\n",
      "Epoch: 13, Step: 1730, Loss: 0.125469\n",
      "Epoch: 13, Step: 1740, Loss: 0.0912017\n",
      "Epoch: 13, Step: 1750, Loss: 0.10641\n",
      "Model saved in file: ./save/model.ckpt\n"
     ]
    },
    {
     "name": "stderr",
     "output_type": "stream",
     "text": [
      "W0814 20:09:15.829525 139790696757120 saver.py:1134] *******************************************************\n",
      "W0814 20:09:15.830537 139790696757120 saver.py:1135] TensorFlow's V1 checkpoint format has been deprecated.\n",
      "W0814 20:09:15.831289 139790696757120 saver.py:1136] Consider switching to the more efficient V2 format:\n",
      "W0814 20:09:15.835416 139790696757120 saver.py:1137]    `tf.train.Saver(write_version=tf.train.SaverDef.V2)`\n",
      "W0814 20:09:15.837659 139790696757120 saver.py:1138] now on by default.\n",
      "W0814 20:09:15.839046 139790696757120 saver.py:1139] *******************************************************\n"
     ]
    },
    {
     "name": "stdout",
     "output_type": "stream",
     "text": [
      "Epoch: 14, Step: 1400, Loss: 0.13262\n",
      "Epoch: 14, Step: 1410, Loss: 0.132169\n",
      "Epoch: 14, Step: 1420, Loss: 0.0939375\n",
      "Epoch: 14, Step: 1430, Loss: 0.281732\n",
      "Epoch: 14, Step: 1440, Loss: 0.151139\n",
      "Epoch: 14, Step: 1450, Loss: 5.8913\n",
      "Epoch: 14, Step: 1460, Loss: 0.473474\n",
      "Epoch: 14, Step: 1470, Loss: 0.0909936\n",
      "Epoch: 14, Step: 1480, Loss: 0.0985705\n",
      "Epoch: 14, Step: 1490, Loss: 0.110066\n"
     ]
    },
    {
     "name": "stderr",
     "output_type": "stream",
     "text": [
      "W0814 20:09:56.166835 139790696757120 saver.py:1134] *******************************************************\n",
      "W0814 20:09:56.168146 139790696757120 saver.py:1135] TensorFlow's V1 checkpoint format has been deprecated.\n",
      "W0814 20:09:56.172550 139790696757120 saver.py:1136] Consider switching to the more efficient V2 format:\n",
      "W0814 20:09:56.175150 139790696757120 saver.py:1137]    `tf.train.Saver(write_version=tf.train.SaverDef.V2)`\n",
      "W0814 20:09:56.179954 139790696757120 saver.py:1138] now on by default.\n",
      "W0814 20:09:56.180815 139790696757120 saver.py:1139] *******************************************************\n"
     ]
    },
    {
     "name": "stdout",
     "output_type": "stream",
     "text": [
      "Epoch: 14, Step: 1500, Loss: 0.156249\n",
      "Epoch: 14, Step: 1510, Loss: 0.115237\n",
      "Epoch: 14, Step: 1520, Loss: 0.15192\n",
      "Epoch: 14, Step: 1530, Loss: 0.142451\n",
      "Epoch: 14, Step: 1540, Loss: 0.0917379\n",
      "Epoch: 14, Step: 1550, Loss: 0.0964954\n",
      "Epoch: 14, Step: 1560, Loss: 0.123574\n",
      "Epoch: 14, Step: 1570, Loss: 0.0989945\n",
      "Epoch: 14, Step: 1580, Loss: 0.105286\n",
      "Epoch: 14, Step: 1590, Loss: 0.208087\n"
     ]
    },
    {
     "name": "stderr",
     "output_type": "stream",
     "text": [
      "W0814 20:10:35.674257 139790696757120 saver.py:1134] *******************************************************\n",
      "W0814 20:10:35.675236 139790696757120 saver.py:1135] TensorFlow's V1 checkpoint format has been deprecated.\n",
      "W0814 20:10:35.676311 139790696757120 saver.py:1136] Consider switching to the more efficient V2 format:\n",
      "W0814 20:10:35.682445 139790696757120 saver.py:1137]    `tf.train.Saver(write_version=tf.train.SaverDef.V2)`\n",
      "W0814 20:10:35.684637 139790696757120 saver.py:1138] now on by default.\n",
      "W0814 20:10:35.686026 139790696757120 saver.py:1139] *******************************************************\n"
     ]
    },
    {
     "name": "stdout",
     "output_type": "stream",
     "text": [
      "Epoch: 14, Step: 1600, Loss: 0.151424\n",
      "Epoch: 14, Step: 1610, Loss: 0.214799\n",
      "Epoch: 14, Step: 1620, Loss: 0.113442\n",
      "Epoch: 14, Step: 1630, Loss: 0.145369\n",
      "Epoch: 14, Step: 1640, Loss: 0.0989923\n",
      "Epoch: 14, Step: 1650, Loss: 0.0957791\n",
      "Epoch: 14, Step: 1660, Loss: 0.191542\n",
      "Epoch: 14, Step: 1670, Loss: 0.129661\n",
      "Epoch: 14, Step: 1680, Loss: 0.132644\n",
      "Epoch: 14, Step: 1690, Loss: 0.105926\n"
     ]
    },
    {
     "name": "stderr",
     "output_type": "stream",
     "text": [
      "W0814 20:11:15.861731 139790696757120 saver.py:1134] *******************************************************\n",
      "W0814 20:11:15.862806 139790696757120 saver.py:1135] TensorFlow's V1 checkpoint format has been deprecated.\n",
      "W0814 20:11:15.863679 139790696757120 saver.py:1136] Consider switching to the more efficient V2 format:\n",
      "W0814 20:11:15.868545 139790696757120 saver.py:1137]    `tf.train.Saver(write_version=tf.train.SaverDef.V2)`\n",
      "W0814 20:11:15.870957 139790696757120 saver.py:1138] now on by default.\n",
      "W0814 20:11:15.872330 139790696757120 saver.py:1139] *******************************************************\n"
     ]
    },
    {
     "name": "stdout",
     "output_type": "stream",
     "text": [
      "Epoch: 14, Step: 1700, Loss: 0.0921774\n",
      "Epoch: 14, Step: 1710, Loss: 0.14089\n",
      "Epoch: 14, Step: 1720, Loss: 0.0962848\n",
      "Epoch: 14, Step: 1730, Loss: 0.233801\n",
      "Epoch: 14, Step: 1740, Loss: 0.256263\n",
      "Epoch: 14, Step: 1750, Loss: 0.0879577\n",
      "Epoch: 14, Step: 1760, Loss: 0.159795\n",
      "Epoch: 14, Step: 1770, Loss: 0.607862\n",
      "Epoch: 14, Step: 1780, Loss: 0.089753\n",
      "Epoch: 14, Step: 1790, Loss: 0.107005\n"
     ]
    },
    {
     "name": "stderr",
     "output_type": "stream",
     "text": [
      "W0814 20:11:56.730278 139790696757120 saver.py:1134] *******************************************************\n",
      "W0814 20:11:56.731359 139790696757120 saver.py:1135] TensorFlow's V1 checkpoint format has been deprecated.\n",
      "W0814 20:11:56.732126 139790696757120 saver.py:1136] Consider switching to the more efficient V2 format:\n",
      "W0814 20:11:56.736330 139790696757120 saver.py:1137]    `tf.train.Saver(write_version=tf.train.SaverDef.V2)`\n",
      "W0814 20:11:56.737917 139790696757120 saver.py:1138] now on by default.\n",
      "W0814 20:11:56.740072 139790696757120 saver.py:1139] *******************************************************\n"
     ]
    },
    {
     "name": "stdout",
     "output_type": "stream",
     "text": [
      "Epoch: 14, Step: 1800, Loss: 0.0997888\n",
      "Epoch: 14, Step: 1810, Loss: 0.384615\n",
      "Epoch: 14, Step: 1820, Loss: 0.155867\n",
      "Epoch: 14, Step: 1830, Loss: 0.127659\n",
      "Epoch: 14, Step: 1840, Loss: 0.109362\n",
      "Epoch: 14, Step: 1850, Loss: 0.16822\n",
      "Model saved in file: ./save/model.ckpt\n"
     ]
    },
    {
     "name": "stderr",
     "output_type": "stream",
     "text": [
      "W0814 20:12:18.260500 139790696757120 saver.py:1134] *******************************************************\n",
      "W0814 20:12:18.261634 139790696757120 saver.py:1135] TensorFlow's V1 checkpoint format has been deprecated.\n",
      "W0814 20:12:18.264276 139790696757120 saver.py:1136] Consider switching to the more efficient V2 format:\n",
      "W0814 20:12:18.265842 139790696757120 saver.py:1137]    `tf.train.Saver(write_version=tf.train.SaverDef.V2)`\n",
      "W0814 20:12:18.267394 139790696757120 saver.py:1138] now on by default.\n",
      "W0814 20:12:18.268962 139790696757120 saver.py:1139] *******************************************************\n"
     ]
    },
    {
     "name": "stdout",
     "output_type": "stream",
     "text": [
      "Epoch: 15, Step: 1500, Loss: 0.125562\n",
      "Epoch: 15, Step: 1510, Loss: 0.0957897\n",
      "Epoch: 15, Step: 1520, Loss: 0.18344\n",
      "Epoch: 15, Step: 1530, Loss: 0.183876\n",
      "Epoch: 15, Step: 1540, Loss: 0.189682\n",
      "Epoch: 15, Step: 1550, Loss: 0.770632\n",
      "Epoch: 15, Step: 1560, Loss: 0.361027\n",
      "Epoch: 15, Step: 1570, Loss: 0.85942\n",
      "Epoch: 15, Step: 1580, Loss: 0.312066\n",
      "Epoch: 15, Step: 1590, Loss: 0.29358\n"
     ]
    },
    {
     "name": "stderr",
     "output_type": "stream",
     "text": [
      "W0814 20:12:58.563885 139790696757120 saver.py:1134] *******************************************************\n",
      "W0814 20:12:58.565013 139790696757120 saver.py:1135] TensorFlow's V1 checkpoint format has been deprecated.\n",
      "W0814 20:12:58.565910 139790696757120 saver.py:1136] Consider switching to the more efficient V2 format:\n",
      "W0814 20:12:58.569879 139790696757120 saver.py:1137]    `tf.train.Saver(write_version=tf.train.SaverDef.V2)`\n",
      "W0814 20:12:58.572128 139790696757120 saver.py:1138] now on by default.\n",
      "W0814 20:12:58.573341 139790696757120 saver.py:1139] *******************************************************\n"
     ]
    },
    {
     "name": "stdout",
     "output_type": "stream",
     "text": [
      "Epoch: 15, Step: 1600, Loss: 0.177661\n",
      "Epoch: 15, Step: 1610, Loss: 0.0899984\n",
      "Epoch: 15, Step: 1620, Loss: 0.0978552\n",
      "Epoch: 15, Step: 1630, Loss: 0.11017\n",
      "Epoch: 15, Step: 1640, Loss: 0.187516\n",
      "Epoch: 15, Step: 1650, Loss: 0.268104\n",
      "Epoch: 15, Step: 1660, Loss: 0.13718\n",
      "Epoch: 15, Step: 1670, Loss: 1.33236\n",
      "Epoch: 15, Step: 1680, Loss: 0.292695\n",
      "Epoch: 15, Step: 1690, Loss: 0.862827\n"
     ]
    },
    {
     "name": "stderr",
     "output_type": "stream",
     "text": [
      "W0814 20:13:39.118608 139790696757120 saver.py:1134] *******************************************************\n",
      "W0814 20:13:39.119690 139790696757120 saver.py:1135] TensorFlow's V1 checkpoint format has been deprecated.\n",
      "W0814 20:13:39.120568 139790696757120 saver.py:1136] Consider switching to the more efficient V2 format:\n",
      "W0814 20:13:39.123693 139790696757120 saver.py:1137]    `tf.train.Saver(write_version=tf.train.SaverDef.V2)`\n",
      "W0814 20:13:39.126933 139790696757120 saver.py:1138] now on by default.\n",
      "W0814 20:13:39.129401 139790696757120 saver.py:1139] *******************************************************\n"
     ]
    },
    {
     "name": "stdout",
     "output_type": "stream",
     "text": [
      "Epoch: 15, Step: 1700, Loss: 0.459862\n",
      "Epoch: 15, Step: 1710, Loss: 0.118948\n",
      "Epoch: 15, Step: 1720, Loss: 0.142017\n",
      "Epoch: 15, Step: 1730, Loss: 0.421603\n",
      "Epoch: 15, Step: 1740, Loss: 0.773015\n",
      "Epoch: 15, Step: 1750, Loss: 0.165311\n",
      "Epoch: 15, Step: 1760, Loss: 0.106629\n",
      "Epoch: 15, Step: 1770, Loss: 0.150412\n",
      "Epoch: 15, Step: 1780, Loss: 0.477009\n",
      "Epoch: 15, Step: 1790, Loss: 0.190202\n"
     ]
    },
    {
     "name": "stderr",
     "output_type": "stream",
     "text": [
      "W0814 20:14:19.550329 139790696757120 saver.py:1134] *******************************************************\n",
      "W0814 20:14:19.551385 139790696757120 saver.py:1135] TensorFlow's V1 checkpoint format has been deprecated.\n",
      "W0814 20:14:19.552201 139790696757120 saver.py:1136] Consider switching to the more efficient V2 format:\n",
      "W0814 20:14:19.557076 139790696757120 saver.py:1137]    `tf.train.Saver(write_version=tf.train.SaverDef.V2)`\n",
      "W0814 20:14:19.559817 139790696757120 saver.py:1138] now on by default.\n",
      "W0814 20:14:19.561100 139790696757120 saver.py:1139] *******************************************************\n"
     ]
    },
    {
     "name": "stdout",
     "output_type": "stream",
     "text": [
      "Epoch: 15, Step: 1800, Loss: 0.477319\n",
      "Epoch: 15, Step: 1810, Loss: 0.244921\n",
      "Epoch: 15, Step: 1820, Loss: 0.108635\n",
      "Epoch: 15, Step: 1830, Loss: 0.121557\n",
      "Epoch: 15, Step: 1840, Loss: 0.122811\n",
      "Epoch: 15, Step: 1850, Loss: 0.0893393\n",
      "Epoch: 15, Step: 1860, Loss: 0.136047\n",
      "Epoch: 15, Step: 1870, Loss: 0.415719\n",
      "Epoch: 15, Step: 1880, Loss: 0.332749\n",
      "Epoch: 15, Step: 1890, Loss: 0.194478\n"
     ]
    },
    {
     "name": "stderr",
     "output_type": "stream",
     "text": [
      "W0814 20:14:59.323971 139790696757120 saver.py:1134] *******************************************************\n",
      "W0814 20:14:59.325045 139790696757120 saver.py:1135] TensorFlow's V1 checkpoint format has been deprecated.\n",
      "W0814 20:14:59.325854 139790696757120 saver.py:1136] Consider switching to the more efficient V2 format:\n",
      "W0814 20:14:59.328032 139790696757120 saver.py:1137]    `tf.train.Saver(write_version=tf.train.SaverDef.V2)`\n",
      "W0814 20:14:59.328814 139790696757120 saver.py:1138] now on by default.\n",
      "W0814 20:14:59.329573 139790696757120 saver.py:1139] *******************************************************\n"
     ]
    },
    {
     "name": "stdout",
     "output_type": "stream",
     "text": [
      "Epoch: 15, Step: 1900, Loss: 0.0980283\n",
      "Epoch: 15, Step: 1910, Loss: 0.107559\n",
      "Epoch: 15, Step: 1920, Loss: 0.0959402\n",
      "Epoch: 15, Step: 1930, Loss: 0.203057\n",
      "Epoch: 15, Step: 1940, Loss: 0.414122\n",
      "Epoch: 15, Step: 1950, Loss: 0.214629\n",
      "Model saved in file: ./save/model.ckpt\n"
     ]
    },
    {
     "name": "stderr",
     "output_type": "stream",
     "text": [
      "W0814 20:15:21.192807 139790696757120 saver.py:1134] *******************************************************\n",
      "W0814 20:15:21.193783 139790696757120 saver.py:1135] TensorFlow's V1 checkpoint format has been deprecated.\n",
      "W0814 20:15:21.194585 139790696757120 saver.py:1136] Consider switching to the more efficient V2 format:\n",
      "W0814 20:15:21.199607 139790696757120 saver.py:1137]    `tf.train.Saver(write_version=tf.train.SaverDef.V2)`\n",
      "W0814 20:15:21.200611 139790696757120 saver.py:1138] now on by default.\n",
      "W0814 20:15:21.202551 139790696757120 saver.py:1139] *******************************************************\n"
     ]
    },
    {
     "name": "stdout",
     "output_type": "stream",
     "text": [
      "Epoch: 16, Step: 1600, Loss: 0.131723\n",
      "Epoch: 16, Step: 1610, Loss: 0.155653\n",
      "Epoch: 16, Step: 1620, Loss: 0.106845\n",
      "Epoch: 16, Step: 1630, Loss: 0.0819334\n",
      "Epoch: 16, Step: 1640, Loss: 0.0855822\n",
      "Epoch: 16, Step: 1650, Loss: 0.0965113\n",
      "Epoch: 16, Step: 1660, Loss: 0.248903\n",
      "Epoch: 16, Step: 1670, Loss: 0.0792845\n",
      "Epoch: 16, Step: 1680, Loss: 0.183898\n",
      "Epoch: 16, Step: 1690, Loss: 0.56913\n"
     ]
    },
    {
     "name": "stderr",
     "output_type": "stream",
     "text": [
      "W0814 20:16:02.220591 139790696757120 saver.py:1134] *******************************************************\n",
      "W0814 20:16:02.221681 139790696757120 saver.py:1135] TensorFlow's V1 checkpoint format has been deprecated.\n",
      "W0814 20:16:02.227253 139790696757120 saver.py:1136] Consider switching to the more efficient V2 format:\n",
      "W0814 20:16:02.228242 139790696757120 saver.py:1137]    `tf.train.Saver(write_version=tf.train.SaverDef.V2)`\n",
      "W0814 20:16:02.229053 139790696757120 saver.py:1138] now on by default.\n",
      "W0814 20:16:02.231130 139790696757120 saver.py:1139] *******************************************************\n"
     ]
    },
    {
     "name": "stdout",
     "output_type": "stream",
     "text": [
      "Epoch: 16, Step: 1700, Loss: 0.309192\n",
      "Epoch: 16, Step: 1710, Loss: 0.343842\n",
      "Epoch: 16, Step: 1720, Loss: 0.0958889\n",
      "Epoch: 16, Step: 1730, Loss: 0.0882691\n",
      "Epoch: 16, Step: 1740, Loss: 0.0906127\n",
      "Epoch: 16, Step: 1750, Loss: 0.0926089\n",
      "Epoch: 16, Step: 1760, Loss: 0.103291\n",
      "Epoch: 16, Step: 1770, Loss: 1.24358\n",
      "Epoch: 16, Step: 1780, Loss: 3.64653\n",
      "Epoch: 16, Step: 1790, Loss: 0.114721\n"
     ]
    },
    {
     "name": "stderr",
     "output_type": "stream",
     "text": [
      "W0814 20:16:41.658300 139790696757120 saver.py:1134] *******************************************************\n",
      "W0814 20:16:41.659452 139790696757120 saver.py:1135] TensorFlow's V1 checkpoint format has been deprecated.\n",
      "W0814 20:16:41.660111 139790696757120 saver.py:1136] Consider switching to the more efficient V2 format:\n",
      "W0814 20:16:41.665045 139790696757120 saver.py:1137]    `tf.train.Saver(write_version=tf.train.SaverDef.V2)`\n",
      "W0814 20:16:41.667865 139790696757120 saver.py:1138] now on by default.\n",
      "W0814 20:16:41.673305 139790696757120 saver.py:1139] *******************************************************\n"
     ]
    },
    {
     "name": "stdout",
     "output_type": "stream",
     "text": [
      "Epoch: 16, Step: 1800, Loss: 0.130032\n",
      "Epoch: 16, Step: 1810, Loss: 0.107775\n",
      "Epoch: 16, Step: 1820, Loss: 0.0801184\n",
      "Epoch: 16, Step: 1830, Loss: 0.0857612\n",
      "Epoch: 16, Step: 1840, Loss: 0.0823828\n",
      "Epoch: 16, Step: 1850, Loss: 0.0986835\n",
      "Epoch: 16, Step: 1860, Loss: 0.0904623\n",
      "Epoch: 16, Step: 1870, Loss: 0.0975332\n",
      "Epoch: 16, Step: 1880, Loss: 0.092724\n",
      "Epoch: 16, Step: 1890, Loss: 0.137526\n"
     ]
    },
    {
     "name": "stderr",
     "output_type": "stream",
     "text": [
      "W0814 20:17:21.758176 139790696757120 saver.py:1134] *******************************************************\n",
      "W0814 20:17:21.759199 139790696757120 saver.py:1135] TensorFlow's V1 checkpoint format has been deprecated.\n",
      "W0814 20:17:21.760003 139790696757120 saver.py:1136] Consider switching to the more efficient V2 format:\n",
      "W0814 20:17:21.765655 139790696757120 saver.py:1137]    `tf.train.Saver(write_version=tf.train.SaverDef.V2)`\n",
      "W0814 20:17:21.767156 139790696757120 saver.py:1138] now on by default.\n",
      "W0814 20:17:21.768137 139790696757120 saver.py:1139] *******************************************************\n"
     ]
    },
    {
     "name": "stdout",
     "output_type": "stream",
     "text": [
      "Epoch: 16, Step: 1900, Loss: 0.0951042\n",
      "Epoch: 16, Step: 1910, Loss: 0.106404\n",
      "Epoch: 16, Step: 1920, Loss: 0.1658\n",
      "Epoch: 16, Step: 1930, Loss: 0.192397\n",
      "Epoch: 16, Step: 1940, Loss: 0.134772\n",
      "Epoch: 16, Step: 1950, Loss: 0.133127\n",
      "Epoch: 16, Step: 1960, Loss: 0.0876612\n",
      "Epoch: 16, Step: 1970, Loss: 0.0767432\n",
      "Epoch: 16, Step: 1980, Loss: 0.239425\n",
      "Epoch: 16, Step: 1990, Loss: 0.0887713\n"
     ]
    },
    {
     "name": "stderr",
     "output_type": "stream",
     "text": [
      "W0814 20:18:02.300834 139790696757120 saver.py:1134] *******************************************************\n",
      "W0814 20:18:02.301851 139790696757120 saver.py:1135] TensorFlow's V1 checkpoint format has been deprecated.\n",
      "W0814 20:18:02.306532 139790696757120 saver.py:1136] Consider switching to the more efficient V2 format:\n",
      "W0814 20:18:02.307986 139790696757120 saver.py:1137]    `tf.train.Saver(write_version=tf.train.SaverDef.V2)`\n",
      "W0814 20:18:02.308833 139790696757120 saver.py:1138] now on by default.\n",
      "W0814 20:18:02.309738 139790696757120 saver.py:1139] *******************************************************\n"
     ]
    },
    {
     "name": "stdout",
     "output_type": "stream",
     "text": [
      "Epoch: 16, Step: 2000, Loss: 0.121891\n",
      "Epoch: 16, Step: 2010, Loss: 0.247454\n",
      "Epoch: 16, Step: 2020, Loss: 0.078979\n",
      "Epoch: 16, Step: 2030, Loss: 0.0750439\n",
      "Epoch: 16, Step: 2040, Loss: 0.0784861\n",
      "Epoch: 16, Step: 2050, Loss: 0.0765112\n",
      "Model saved in file: ./save/model.ckpt\n"
     ]
    },
    {
     "name": "stderr",
     "output_type": "stream",
     "text": [
      "W0814 20:18:24.088812 139790696757120 saver.py:1134] *******************************************************\n",
      "W0814 20:18:24.089846 139790696757120 saver.py:1135] TensorFlow's V1 checkpoint format has been deprecated.\n",
      "W0814 20:18:24.090686 139790696757120 saver.py:1136] Consider switching to the more efficient V2 format:\n",
      "W0814 20:18:24.096323 139790696757120 saver.py:1137]    `tf.train.Saver(write_version=tf.train.SaverDef.V2)`\n",
      "W0814 20:18:24.097130 139790696757120 saver.py:1138] now on by default.\n",
      "W0814 20:18:24.099081 139790696757120 saver.py:1139] *******************************************************\n"
     ]
    },
    {
     "name": "stdout",
     "output_type": "stream",
     "text": [
      "Epoch: 17, Step: 1700, Loss: 0.0773604\n",
      "Epoch: 17, Step: 1710, Loss: 0.102961\n",
      "Epoch: 17, Step: 1720, Loss: 0.156805\n",
      "Epoch: 17, Step: 1730, Loss: 3.16536\n",
      "Epoch: 17, Step: 1740, Loss: 1.77962\n",
      "Epoch: 17, Step: 1750, Loss: 0.104339\n",
      "Epoch: 17, Step: 1760, Loss: 0.189793\n",
      "Epoch: 17, Step: 1770, Loss: 0.266635\n",
      "Epoch: 17, Step: 1780, Loss: 0.242773\n",
      "Epoch: 17, Step: 1790, Loss: 0.105458\n"
     ]
    },
    {
     "name": "stderr",
     "output_type": "stream",
     "text": [
      "W0814 20:19:03.455653 139790696757120 saver.py:1134] *******************************************************\n",
      "W0814 20:19:03.456671 139790696757120 saver.py:1135] TensorFlow's V1 checkpoint format has been deprecated.\n",
      "W0814 20:19:03.457482 139790696757120 saver.py:1136] Consider switching to the more efficient V2 format:\n",
      "W0814 20:19:03.464326 139790696757120 saver.py:1137]    `tf.train.Saver(write_version=tf.train.SaverDef.V2)`\n",
      "W0814 20:19:03.465132 139790696757120 saver.py:1138] now on by default.\n",
      "W0814 20:19:03.471428 139790696757120 saver.py:1139] *******************************************************\n"
     ]
    },
    {
     "name": "stdout",
     "output_type": "stream",
     "text": [
      "Epoch: 17, Step: 1800, Loss: 0.242774\n",
      "Epoch: 17, Step: 1810, Loss: 0.303941\n",
      "Epoch: 17, Step: 1820, Loss: 0.078083\n",
      "Epoch: 17, Step: 1830, Loss: 0.0855868\n",
      "Epoch: 17, Step: 1840, Loss: 0.0934978\n",
      "Epoch: 17, Step: 1850, Loss: 0.102448\n",
      "Epoch: 17, Step: 1860, Loss: 0.133006\n",
      "Epoch: 17, Step: 1870, Loss: 0.763234\n",
      "Epoch: 17, Step: 1880, Loss: 0.173809\n",
      "Epoch: 17, Step: 1890, Loss: 0.26876\n"
     ]
    },
    {
     "name": "stderr",
     "output_type": "stream",
     "text": [
      "W0814 20:19:43.463759 139790696757120 saver.py:1134] *******************************************************\n",
      "W0814 20:19:43.464761 139790696757120 saver.py:1135] TensorFlow's V1 checkpoint format has been deprecated.\n",
      "W0814 20:19:43.465558 139790696757120 saver.py:1136] Consider switching to the more efficient V2 format:\n",
      "W0814 20:19:43.469875 139790696757120 saver.py:1137]    `tf.train.Saver(write_version=tf.train.SaverDef.V2)`\n",
      "W0814 20:19:43.472708 139790696757120 saver.py:1138] now on by default.\n",
      "W0814 20:19:43.474061 139790696757120 saver.py:1139] *******************************************************\n"
     ]
    },
    {
     "name": "stdout",
     "output_type": "stream",
     "text": [
      "Epoch: 17, Step: 1900, Loss: 0.180071\n",
      "Epoch: 17, Step: 1910, Loss: 0.424887\n",
      "Epoch: 17, Step: 1920, Loss: 0.269617\n",
      "Epoch: 17, Step: 1930, Loss: 0.217281\n",
      "Epoch: 17, Step: 1940, Loss: 0.389055\n",
      "Epoch: 17, Step: 1950, Loss: 0.258012\n",
      "Epoch: 17, Step: 1960, Loss: 0.109188\n",
      "Epoch: 17, Step: 1970, Loss: 0.125775\n",
      "Epoch: 17, Step: 1980, Loss: 0.095923\n",
      "Epoch: 17, Step: 1990, Loss: 0.0911026\n"
     ]
    },
    {
     "name": "stderr",
     "output_type": "stream",
     "text": [
      "W0814 20:20:24.194074 139790696757120 saver.py:1134] *******************************************************\n",
      "W0814 20:20:24.195155 139790696757120 saver.py:1135] TensorFlow's V1 checkpoint format has been deprecated.\n",
      "W0814 20:20:24.199763 139790696757120 saver.py:1136] Consider switching to the more efficient V2 format:\n",
      "W0814 20:20:24.201240 139790696757120 saver.py:1137]    `tf.train.Saver(write_version=tf.train.SaverDef.V2)`\n",
      "W0814 20:20:24.202833 139790696757120 saver.py:1138] now on by default.\n",
      "W0814 20:20:24.204509 139790696757120 saver.py:1139] *******************************************************\n"
     ]
    },
    {
     "name": "stdout",
     "output_type": "stream",
     "text": [
      "Epoch: 17, Step: 2000, Loss: 0.0846974\n",
      "Epoch: 17, Step: 2010, Loss: 0.0890824\n",
      "Epoch: 17, Step: 2020, Loss: 0.0944957\n",
      "Epoch: 17, Step: 2030, Loss: 0.140749\n",
      "Epoch: 17, Step: 2040, Loss: 0.152824\n",
      "Epoch: 17, Step: 2050, Loss: 0.35665\n",
      "Epoch: 17, Step: 2060, Loss: 0.0788097\n",
      "Epoch: 17, Step: 2070, Loss: 0.0932297\n",
      "Epoch: 17, Step: 2080, Loss: 0.210562\n",
      "Epoch: 17, Step: 2090, Loss: 0.218887\n"
     ]
    },
    {
     "name": "stderr",
     "output_type": "stream",
     "text": [
      "W0814 20:21:03.799052 139790696757120 saver.py:1134] *******************************************************\n",
      "W0814 20:21:03.800135 139790696757120 saver.py:1135] TensorFlow's V1 checkpoint format has been deprecated.\n",
      "W0814 20:21:03.800865 139790696757120 saver.py:1136] Consider switching to the more efficient V2 format:\n",
      "W0814 20:21:03.803458 139790696757120 saver.py:1137]    `tf.train.Saver(write_version=tf.train.SaverDef.V2)`\n",
      "W0814 20:21:03.808563 139790696757120 saver.py:1138] now on by default.\n",
      "W0814 20:21:03.810782 139790696757120 saver.py:1139] *******************************************************\n"
     ]
    },
    {
     "name": "stdout",
     "output_type": "stream",
     "text": [
      "Epoch: 17, Step: 2100, Loss: 0.139472\n",
      "Epoch: 17, Step: 2110, Loss: 0.100033\n",
      "Epoch: 17, Step: 2120, Loss: 0.110685\n",
      "Epoch: 17, Step: 2130, Loss: 0.200792\n",
      "Epoch: 17, Step: 2140, Loss: 0.089408\n",
      "Epoch: 17, Step: 2150, Loss: 0.108022\n",
      "Model saved in file: ./save/model.ckpt\n"
     ]
    },
    {
     "name": "stderr",
     "output_type": "stream",
     "text": [
      "W0814 20:21:26.059277 139790696757120 saver.py:1134] *******************************************************\n",
      "W0814 20:21:26.060299 139790696757120 saver.py:1135] TensorFlow's V1 checkpoint format has been deprecated.\n",
      "W0814 20:21:26.061144 139790696757120 saver.py:1136] Consider switching to the more efficient V2 format:\n",
      "W0814 20:21:26.065028 139790696757120 saver.py:1137]    `tf.train.Saver(write_version=tf.train.SaverDef.V2)`\n",
      "W0814 20:21:26.067107 139790696757120 saver.py:1138] now on by default.\n",
      "W0814 20:21:26.068769 139790696757120 saver.py:1139] *******************************************************\n"
     ]
    },
    {
     "name": "stdout",
     "output_type": "stream",
     "text": [
      "Epoch: 18, Step: 1800, Loss: 0.0825147\n",
      "Epoch: 18, Step: 1810, Loss: 0.0860703\n",
      "Epoch: 18, Step: 1820, Loss: 0.094005\n",
      "Epoch: 18, Step: 1830, Loss: 0.370797\n",
      "Epoch: 18, Step: 1840, Loss: 0.298787\n",
      "Epoch: 18, Step: 1850, Loss: 0.57392\n",
      "Epoch: 18, Step: 1860, Loss: 0.244955\n",
      "Epoch: 18, Step: 1870, Loss: 0.142065\n",
      "Epoch: 18, Step: 1880, Loss: 0.125585\n",
      "Epoch: 18, Step: 1890, Loss: 0.103859\n"
     ]
    },
    {
     "name": "stderr",
     "output_type": "stream",
     "text": [
      "W0814 20:22:07.139271 139790696757120 saver.py:1134] *******************************************************\n",
      "W0814 20:22:07.140335 139790696757120 saver.py:1135] TensorFlow's V1 checkpoint format has been deprecated.\n",
      "W0814 20:22:07.141054 139790696757120 saver.py:1136] Consider switching to the more efficient V2 format:\n",
      "W0814 20:22:07.145867 139790696757120 saver.py:1137]    `tf.train.Saver(write_version=tf.train.SaverDef.V2)`\n",
      "W0814 20:22:07.147684 139790696757120 saver.py:1138] now on by default.\n",
      "W0814 20:22:07.149620 139790696757120 saver.py:1139] *******************************************************\n"
     ]
    },
    {
     "name": "stdout",
     "output_type": "stream",
     "text": [
      "Epoch: 18, Step: 1900, Loss: 0.0891476\n",
      "Epoch: 18, Step: 1910, Loss: 0.121747\n",
      "Epoch: 18, Step: 1920, Loss: 0.128387\n",
      "Epoch: 18, Step: 1930, Loss: 0.38732\n",
      "Epoch: 18, Step: 1940, Loss: 0.266334\n",
      "Epoch: 18, Step: 1950, Loss: 1.71387\n",
      "Epoch: 18, Step: 1960, Loss: 0.722894\n",
      "Epoch: 18, Step: 1970, Loss: 1.19926\n",
      "Epoch: 18, Step: 1980, Loss: 0.314584\n",
      "Epoch: 18, Step: 1990, Loss: 0.0750892\n"
     ]
    },
    {
     "name": "stderr",
     "output_type": "stream",
     "text": [
      "W0814 20:22:47.788483 139790696757120 saver.py:1134] *******************************************************\n",
      "W0814 20:22:47.789444 139790696757120 saver.py:1135] TensorFlow's V1 checkpoint format has been deprecated.\n",
      "W0814 20:22:47.793883 139790696757120 saver.py:1136] Consider switching to the more efficient V2 format:\n",
      "W0814 20:22:47.795947 139790696757120 saver.py:1137]    `tf.train.Saver(write_version=tf.train.SaverDef.V2)`\n",
      "W0814 20:22:47.799718 139790696757120 saver.py:1138] now on by default.\n",
      "W0814 20:22:47.803350 139790696757120 saver.py:1139] *******************************************************\n"
     ]
    },
    {
     "name": "stdout",
     "output_type": "stream",
     "text": [
      "Epoch: 18, Step: 2000, Loss: 0.222883\n",
      "Epoch: 18, Step: 2010, Loss: 1.18087\n",
      "Epoch: 18, Step: 2020, Loss: 0.852314\n",
      "Epoch: 18, Step: 2030, Loss: 0.131071\n",
      "Epoch: 18, Step: 2040, Loss: 0.0968116\n",
      "Epoch: 18, Step: 2050, Loss: 0.118986\n",
      "Epoch: 18, Step: 2060, Loss: 0.43758\n",
      "Epoch: 18, Step: 2070, Loss: 0.185664\n",
      "Epoch: 18, Step: 2080, Loss: 0.715307\n",
      "Epoch: 18, Step: 2090, Loss: 0.452718\n"
     ]
    },
    {
     "name": "stderr",
     "output_type": "stream",
     "text": [
      "W0814 20:23:27.925939 139790696757120 saver.py:1134] *******************************************************\n",
      "W0814 20:23:27.926948 139790696757120 saver.py:1135] TensorFlow's V1 checkpoint format has been deprecated.\n",
      "W0814 20:23:27.928460 139790696757120 saver.py:1136] Consider switching to the more efficient V2 format:\n",
      "W0814 20:23:27.930523 139790696757120 saver.py:1137]    `tf.train.Saver(write_version=tf.train.SaverDef.V2)`\n",
      "W0814 20:23:27.931511 139790696757120 saver.py:1138] now on by default.\n",
      "W0814 20:23:27.932472 139790696757120 saver.py:1139] *******************************************************\n"
     ]
    },
    {
     "name": "stdout",
     "output_type": "stream",
     "text": [
      "Epoch: 18, Step: 2100, Loss: 0.15982\n",
      "Epoch: 18, Step: 2110, Loss: 0.0729397\n",
      "Epoch: 18, Step: 2120, Loss: 0.0755742\n",
      "Epoch: 18, Step: 2130, Loss: 0.0756966\n",
      "Epoch: 18, Step: 2140, Loss: 0.0848999\n",
      "Epoch: 18, Step: 2150, Loss: 0.54367\n",
      "Epoch: 18, Step: 2160, Loss: 0.188129\n",
      "Epoch: 18, Step: 2170, Loss: 0.135387\n",
      "Epoch: 18, Step: 2180, Loss: 0.0851042\n",
      "Epoch: 18, Step: 2190, Loss: 0.0910519\n"
     ]
    },
    {
     "name": "stderr",
     "output_type": "stream",
     "text": [
      "W0814 20:24:08.813651 139790696757120 saver.py:1134] *******************************************************\n",
      "W0814 20:24:08.814705 139790696757120 saver.py:1135] TensorFlow's V1 checkpoint format has been deprecated.\n",
      "W0814 20:24:08.815465 139790696757120 saver.py:1136] Consider switching to the more efficient V2 format:\n",
      "W0814 20:24:08.818496 139790696757120 saver.py:1137]    `tf.train.Saver(write_version=tf.train.SaverDef.V2)`\n",
      "W0814 20:24:08.820453 139790696757120 saver.py:1138] now on by default.\n",
      "W0814 20:24:08.821959 139790696757120 saver.py:1139] *******************************************************\n"
     ]
    },
    {
     "name": "stdout",
     "output_type": "stream",
     "text": [
      "Epoch: 18, Step: 2200, Loss: 0.103262\n",
      "Epoch: 18, Step: 2210, Loss: 0.105947\n",
      "Epoch: 18, Step: 2220, Loss: 0.472823\n",
      "Epoch: 18, Step: 2230, Loss: 1.09979\n",
      "Epoch: 18, Step: 2240, Loss: 0.122595\n",
      "Epoch: 18, Step: 2250, Loss: 0.0981167\n",
      "Model saved in file: ./save/model.ckpt\n"
     ]
    },
    {
     "name": "stderr",
     "output_type": "stream",
     "text": [
      "W0814 20:24:31.364407 139790696757120 saver.py:1134] *******************************************************\n",
      "W0814 20:24:31.365345 139790696757120 saver.py:1135] TensorFlow's V1 checkpoint format has been deprecated.\n",
      "W0814 20:24:31.366454 139790696757120 saver.py:1136] Consider switching to the more efficient V2 format:\n",
      "W0814 20:24:31.371316 139790696757120 saver.py:1137]    `tf.train.Saver(write_version=tf.train.SaverDef.V2)`\n",
      "W0814 20:24:31.373283 139790696757120 saver.py:1138] now on by default.\n",
      "W0814 20:24:31.374697 139790696757120 saver.py:1139] *******************************************************\n"
     ]
    },
    {
     "name": "stdout",
     "output_type": "stream",
     "text": [
      "Epoch: 19, Step: 1900, Loss: 0.245554\n",
      "Epoch: 19, Step: 1910, Loss: 0.0725518\n",
      "Epoch: 19, Step: 1920, Loss: 0.077172\n",
      "Epoch: 19, Step: 1930, Loss: 0.0873741\n",
      "Epoch: 19, Step: 1940, Loss: 0.125756\n",
      "Epoch: 19, Step: 1950, Loss: 0.078862\n",
      "Epoch: 19, Step: 1960, Loss: 0.0802732\n",
      "Epoch: 19, Step: 1970, Loss: 0.235336\n",
      "Epoch: 19, Step: 1980, Loss: 0.323539\n",
      "Epoch: 19, Step: 1990, Loss: 0.302183\n"
     ]
    },
    {
     "name": "stderr",
     "output_type": "stream",
     "text": [
      "W0814 20:25:11.184850 139790696757120 saver.py:1134] *******************************************************\n",
      "W0814 20:25:11.185991 139790696757120 saver.py:1135] TensorFlow's V1 checkpoint format has been deprecated.\n",
      "W0814 20:25:11.186833 139790696757120 saver.py:1136] Consider switching to the more efficient V2 format:\n",
      "W0814 20:25:11.193443 139790696757120 saver.py:1137]    `tf.train.Saver(write_version=tf.train.SaverDef.V2)`\n",
      "W0814 20:25:11.195395 139790696757120 saver.py:1138] now on by default.\n",
      "W0814 20:25:11.196937 139790696757120 saver.py:1139] *******************************************************\n"
     ]
    },
    {
     "name": "stdout",
     "output_type": "stream",
     "text": [
      "Epoch: 19, Step: 2000, Loss: 0.111068\n",
      "Epoch: 19, Step: 2010, Loss: 0.131208\n",
      "Epoch: 19, Step: 2020, Loss: 0.106593\n",
      "Epoch: 19, Step: 2030, Loss: 0.0925694\n",
      "Epoch: 19, Step: 2040, Loss: 0.0727274\n",
      "Epoch: 19, Step: 2050, Loss: 0.334643\n",
      "Epoch: 19, Step: 2060, Loss: 4.77283\n",
      "Epoch: 19, Step: 2070, Loss: 0.159824\n",
      "Epoch: 19, Step: 2080, Loss: 0.100175\n",
      "Epoch: 19, Step: 2090, Loss: 0.0922012\n"
     ]
    },
    {
     "name": "stderr",
     "output_type": "stream",
     "text": [
      "W0814 20:25:51.471032 139790696757120 saver.py:1134] *******************************************************\n",
      "W0814 20:25:51.472033 139790696757120 saver.py:1135] TensorFlow's V1 checkpoint format has been deprecated.\n",
      "W0814 20:25:51.472868 139790696757120 saver.py:1136] Consider switching to the more efficient V2 format:\n",
      "W0814 20:25:51.477137 139790696757120 saver.py:1137]    `tf.train.Saver(write_version=tf.train.SaverDef.V2)`\n",
      "W0814 20:25:51.479279 139790696757120 saver.py:1138] now on by default.\n",
      "W0814 20:25:51.481062 139790696757120 saver.py:1139] *******************************************************\n"
     ]
    },
    {
     "name": "stdout",
     "output_type": "stream",
     "text": [
      "Epoch: 19, Step: 2100, Loss: 0.107786\n",
      "Epoch: 19, Step: 2110, Loss: 0.0806693\n",
      "Epoch: 19, Step: 2120, Loss: 0.147018\n",
      "Epoch: 19, Step: 2130, Loss: 0.319834\n",
      "Epoch: 19, Step: 2140, Loss: 0.19431\n",
      "Epoch: 19, Step: 2150, Loss: 0.0953663\n",
      "Epoch: 19, Step: 2160, Loss: 0.153369\n",
      "Epoch: 19, Step: 2170, Loss: 0.242999\n",
      "Epoch: 19, Step: 2180, Loss: 0.0850141\n",
      "Epoch: 19, Step: 2190, Loss: 0.18455\n"
     ]
    },
    {
     "name": "stderr",
     "output_type": "stream",
     "text": [
      "W0814 20:26:32.258479 139790696757120 saver.py:1134] *******************************************************\n",
      "W0814 20:26:32.259712 139790696757120 saver.py:1135] TensorFlow's V1 checkpoint format has been deprecated.\n",
      "W0814 20:26:32.263776 139790696757120 saver.py:1136] Consider switching to the more efficient V2 format:\n",
      "W0814 20:26:32.265679 139790696757120 saver.py:1137]    `tf.train.Saver(write_version=tf.train.SaverDef.V2)`\n",
      "W0814 20:26:32.266882 139790696757120 saver.py:1138] now on by default.\n",
      "W0814 20:26:32.270856 139790696757120 saver.py:1139] *******************************************************\n"
     ]
    },
    {
     "name": "stdout",
     "output_type": "stream",
     "text": [
      "Epoch: 19, Step: 2200, Loss: 0.204784\n",
      "Epoch: 19, Step: 2210, Loss: 0.109024\n",
      "Epoch: 19, Step: 2220, Loss: 0.142057\n",
      "Epoch: 19, Step: 2230, Loss: 0.0713279\n",
      "Epoch: 19, Step: 2240, Loss: 0.0688872\n",
      "Epoch: 19, Step: 2250, Loss: 0.0700047\n",
      "Epoch: 19, Step: 2260, Loss: 0.069942\n",
      "Epoch: 19, Step: 2270, Loss: 0.0679548\n",
      "Epoch: 19, Step: 2280, Loss: 0.0843393\n",
      "Epoch: 19, Step: 2290, Loss: 0.0730048\n"
     ]
    },
    {
     "name": "stderr",
     "output_type": "stream",
     "text": [
      "W0814 20:27:12.312720 139790696757120 saver.py:1134] *******************************************************\n",
      "W0814 20:27:12.313700 139790696757120 saver.py:1135] TensorFlow's V1 checkpoint format has been deprecated.\n",
      "W0814 20:27:12.317232 139790696757120 saver.py:1136] Consider switching to the more efficient V2 format:\n",
      "W0814 20:27:12.319335 139790696757120 saver.py:1137]    `tf.train.Saver(write_version=tf.train.SaverDef.V2)`\n",
      "W0814 20:27:12.321074 139790696757120 saver.py:1138] now on by default.\n",
      "W0814 20:27:12.322413 139790696757120 saver.py:1139] *******************************************************\n"
     ]
    },
    {
     "name": "stdout",
     "output_type": "stream",
     "text": [
      "Epoch: 19, Step: 2300, Loss: 0.0796396\n",
      "Epoch: 19, Step: 2310, Loss: 0.0752523\n",
      "Epoch: 19, Step: 2320, Loss: 0.17131\n",
      "Epoch: 19, Step: 2330, Loss: 0.119435\n",
      "Epoch: 19, Step: 2340, Loss: 0.10174\n",
      "Epoch: 19, Step: 2350, Loss: 0.0767837\n",
      "Model saved in file: ./save/model.ckpt\n"
     ]
    },
    {
     "name": "stderr",
     "output_type": "stream",
     "text": [
      "W0814 20:27:34.132313 139790696757120 saver.py:1134] *******************************************************\n",
      "W0814 20:27:34.133299 139790696757120 saver.py:1135] TensorFlow's V1 checkpoint format has been deprecated.\n",
      "W0814 20:27:34.134070 139790696757120 saver.py:1136] Consider switching to the more efficient V2 format:\n",
      "W0814 20:27:34.139806 139790696757120 saver.py:1137]    `tf.train.Saver(write_version=tf.train.SaverDef.V2)`\n",
      "W0814 20:27:34.144105 139790696757120 saver.py:1138] now on by default.\n",
      "W0814 20:27:34.144992 139790696757120 saver.py:1139] *******************************************************\n"
     ]
    },
    {
     "name": "stdout",
     "output_type": "stream",
     "text": [
      "Epoch: 20, Step: 2000, Loss: 0.21627\n",
      "Epoch: 20, Step: 2010, Loss: 2.8418\n",
      "Epoch: 20, Step: 2020, Loss: 3.7621\n",
      "Epoch: 20, Step: 2030, Loss: 0.14114\n",
      "Epoch: 20, Step: 2040, Loss: 0.0744699\n",
      "Epoch: 20, Step: 2050, Loss: 0.0913818\n",
      "Epoch: 20, Step: 2060, Loss: 0.0703731\n",
      "Epoch: 20, Step: 2070, Loss: 0.0833903\n",
      "Epoch: 20, Step: 2080, Loss: 0.101904\n",
      "Epoch: 20, Step: 2090, Loss: 0.236378\n"
     ]
    },
    {
     "name": "stderr",
     "output_type": "stream",
     "text": [
      "W0814 20:28:14.208169 139790696757120 saver.py:1134] *******************************************************\n",
      "W0814 20:28:14.209269 139790696757120 saver.py:1135] TensorFlow's V1 checkpoint format has been deprecated.\n",
      "W0814 20:28:14.210453 139790696757120 saver.py:1136] Consider switching to the more efficient V2 format:\n",
      "W0814 20:28:14.211431 139790696757120 saver.py:1137]    `tf.train.Saver(write_version=tf.train.SaverDef.V2)`\n",
      "W0814 20:28:14.212254 139790696757120 saver.py:1138] now on by default.\n",
      "W0814 20:28:14.213257 139790696757120 saver.py:1139] *******************************************************\n"
     ]
    },
    {
     "name": "stdout",
     "output_type": "stream",
     "text": [
      "Epoch: 20, Step: 2100, Loss: 0.160407\n",
      "Epoch: 20, Step: 2110, Loss: 0.165372\n",
      "Epoch: 20, Step: 2120, Loss: 0.123883\n",
      "Epoch: 20, Step: 2130, Loss: 0.470823\n",
      "Epoch: 20, Step: 2140, Loss: 0.0811028\n",
      "Epoch: 20, Step: 2150, Loss: 0.226156\n",
      "Epoch: 20, Step: 2160, Loss: 0.20974\n",
      "Epoch: 20, Step: 2170, Loss: 0.220594\n",
      "Epoch: 20, Step: 2180, Loss: 0.114191\n",
      "Epoch: 20, Step: 2190, Loss: 0.0803681\n"
     ]
    },
    {
     "name": "stderr",
     "output_type": "stream",
     "text": [
      "W0814 20:28:55.111529 139790696757120 saver.py:1134] *******************************************************\n",
      "W0814 20:28:55.112424 139790696757120 saver.py:1135] TensorFlow's V1 checkpoint format has been deprecated.\n",
      "W0814 20:28:55.115992 139790696757120 saver.py:1136] Consider switching to the more efficient V2 format:\n",
      "W0814 20:28:55.118964 139790696757120 saver.py:1137]    `tf.train.Saver(write_version=tf.train.SaverDef.V2)`\n",
      "W0814 20:28:55.121039 139790696757120 saver.py:1138] now on by default.\n",
      "W0814 20:28:55.122599 139790696757120 saver.py:1139] *******************************************************\n"
     ]
    },
    {
     "name": "stdout",
     "output_type": "stream",
     "text": [
      "Epoch: 20, Step: 2200, Loss: 0.120297\n",
      "Epoch: 20, Step: 2210, Loss: 0.076785\n",
      "Epoch: 20, Step: 2220, Loss: 0.0715436\n",
      "Epoch: 20, Step: 2230, Loss: 0.0701513\n",
      "Epoch: 20, Step: 2240, Loss: 0.0794141\n",
      "Epoch: 20, Step: 2250, Loss: 0.100498\n",
      "Epoch: 20, Step: 2260, Loss: 0.0733844\n",
      "Epoch: 20, Step: 2270, Loss: 0.0836801\n",
      "Epoch: 20, Step: 2280, Loss: 0.106276\n",
      "Epoch: 20, Step: 2290, Loss: 0.318572\n"
     ]
    },
    {
     "name": "stderr",
     "output_type": "stream",
     "text": [
      "W0814 20:29:34.377535 139790696757120 saver.py:1134] *******************************************************\n",
      "W0814 20:29:34.378606 139790696757120 saver.py:1135] TensorFlow's V1 checkpoint format has been deprecated.\n",
      "W0814 20:29:34.379390 139790696757120 saver.py:1136] Consider switching to the more efficient V2 format:\n",
      "W0814 20:29:34.382853 139790696757120 saver.py:1137]    `tf.train.Saver(write_version=tf.train.SaverDef.V2)`\n",
      "W0814 20:29:34.385418 139790696757120 saver.py:1138] now on by default.\n",
      "W0814 20:29:34.387105 139790696757120 saver.py:1139] *******************************************************\n"
     ]
    },
    {
     "name": "stdout",
     "output_type": "stream",
     "text": [
      "Epoch: 20, Step: 2300, Loss: 0.100896\n",
      "Epoch: 20, Step: 2310, Loss: 0.0787944\n",
      "Epoch: 20, Step: 2320, Loss: 0.0982164\n",
      "Epoch: 20, Step: 2330, Loss: 0.274492\n",
      "Epoch: 20, Step: 2340, Loss: 0.103808\n",
      "Epoch: 20, Step: 2350, Loss: 0.0776054\n",
      "Epoch: 20, Step: 2360, Loss: 0.125903\n",
      "Epoch: 20, Step: 2370, Loss: 0.155914\n",
      "Epoch: 20, Step: 2380, Loss: 0.142065\n",
      "Epoch: 20, Step: 2390, Loss: 0.0746456\n"
     ]
    },
    {
     "name": "stderr",
     "output_type": "stream",
     "text": [
      "W0814 20:30:14.861960 139790696757120 saver.py:1134] *******************************************************\n",
      "W0814 20:30:14.863121 139790696757120 saver.py:1135] TensorFlow's V1 checkpoint format has been deprecated.\n",
      "W0814 20:30:14.863969 139790696757120 saver.py:1136] Consider switching to the more efficient V2 format:\n",
      "W0814 20:30:14.869812 139790696757120 saver.py:1137]    `tf.train.Saver(write_version=tf.train.SaverDef.V2)`\n",
      "W0814 20:30:14.871393 139790696757120 saver.py:1138] now on by default.\n",
      "W0814 20:30:14.873053 139790696757120 saver.py:1139] *******************************************************\n"
     ]
    },
    {
     "name": "stdout",
     "output_type": "stream",
     "text": [
      "Epoch: 20, Step: 2400, Loss: 0.0707139\n",
      "Epoch: 20, Step: 2410, Loss: 0.222806\n",
      "Epoch: 20, Step: 2420, Loss: 0.252584\n",
      "Epoch: 20, Step: 2430, Loss: 0.0853032\n",
      "Epoch: 20, Step: 2440, Loss: 0.0761571\n",
      "Epoch: 20, Step: 2450, Loss: 0.108407\n",
      "Model saved in file: ./save/model.ckpt\n"
     ]
    },
    {
     "name": "stderr",
     "output_type": "stream",
     "text": [
      "W0814 20:30:37.177812 139790696757120 saver.py:1134] *******************************************************\n",
      "W0814 20:30:37.178871 139790696757120 saver.py:1135] TensorFlow's V1 checkpoint format has been deprecated.\n",
      "W0814 20:30:37.179546 139790696757120 saver.py:1136] Consider switching to the more efficient V2 format:\n",
      "W0814 20:30:37.184636 139790696757120 saver.py:1137]    `tf.train.Saver(write_version=tf.train.SaverDef.V2)`\n",
      "W0814 20:30:37.185861 139790696757120 saver.py:1138] now on by default.\n",
      "W0814 20:30:37.187252 139790696757120 saver.py:1139] *******************************************************\n"
     ]
    },
    {
     "name": "stdout",
     "output_type": "stream",
     "text": [
      "Epoch: 21, Step: 2100, Loss: 0.115803\n",
      "Epoch: 21, Step: 2110, Loss: 0.338878\n",
      "Epoch: 21, Step: 2120, Loss: 0.293339\n",
      "Epoch: 21, Step: 2130, Loss: 0.401629\n",
      "Epoch: 21, Step: 2140, Loss: 0.167686\n",
      "Epoch: 21, Step: 2150, Loss: 0.217262\n",
      "Epoch: 21, Step: 2160, Loss: 0.358273\n",
      "Epoch: 21, Step: 2170, Loss: 0.119736\n",
      "Epoch: 21, Step: 2180, Loss: 0.0694939\n",
      "Epoch: 21, Step: 2190, Loss: 0.083584\n"
     ]
    },
    {
     "name": "stderr",
     "output_type": "stream",
     "text": [
      "W0814 20:31:17.871111 139790696757120 saver.py:1134] *******************************************************\n",
      "W0814 20:31:17.872073 139790696757120 saver.py:1135] TensorFlow's V1 checkpoint format has been deprecated.\n",
      "W0814 20:31:17.872939 139790696757120 saver.py:1136] Consider switching to the more efficient V2 format:\n",
      "W0814 20:31:17.874935 139790696757120 saver.py:1137]    `tf.train.Saver(write_version=tf.train.SaverDef.V2)`\n",
      "W0814 20:31:17.877353 139790696757120 saver.py:1138] now on by default.\n",
      "W0814 20:31:17.879216 139790696757120 saver.py:1139] *******************************************************\n"
     ]
    },
    {
     "name": "stdout",
     "output_type": "stream",
     "text": [
      "Epoch: 21, Step: 2200, Loss: 0.228648\n",
      "Epoch: 21, Step: 2210, Loss: 0.172347\n",
      "Epoch: 21, Step: 2220, Loss: 0.251737\n",
      "Epoch: 21, Step: 2230, Loss: 1.01864\n",
      "Epoch: 21, Step: 2240, Loss: 0.799346\n",
      "Epoch: 21, Step: 2250, Loss: 0.488111\n",
      "Epoch: 21, Step: 2260, Loss: 0.229254\n",
      "Epoch: 21, Step: 2270, Loss: 0.0711875\n",
      "Epoch: 21, Step: 2280, Loss: 0.100281\n",
      "Epoch: 21, Step: 2290, Loss: 0.557093\n"
     ]
    },
    {
     "name": "stderr",
     "output_type": "stream",
     "text": [
      "W0814 20:31:57.964492 139790696757120 saver.py:1134] *******************************************************\n",
      "W0814 20:31:57.965516 139790696757120 saver.py:1135] TensorFlow's V1 checkpoint format has been deprecated.\n",
      "W0814 20:31:57.966231 139790696757120 saver.py:1136] Consider switching to the more efficient V2 format:\n",
      "W0814 20:31:57.971126 139790696757120 saver.py:1137]    `tf.train.Saver(write_version=tf.train.SaverDef.V2)`\n",
      "W0814 20:31:57.973664 139790696757120 saver.py:1138] now on by default.\n",
      "W0814 20:31:57.979836 139790696757120 saver.py:1139] *******************************************************\n"
     ]
    },
    {
     "name": "stdout",
     "output_type": "stream",
     "text": [
      "Epoch: 21, Step: 2300, Loss: 0.942225\n",
      "Epoch: 21, Step: 2310, Loss: 0.110385\n",
      "Epoch: 21, Step: 2320, Loss: 0.139567\n",
      "Epoch: 21, Step: 2330, Loss: 0.0706486\n",
      "Epoch: 21, Step: 2340, Loss: 0.206438\n",
      "Epoch: 21, Step: 2350, Loss: 0.263351\n",
      "Epoch: 21, Step: 2360, Loss: 0.125709\n",
      "Epoch: 21, Step: 2370, Loss: 0.237233\n",
      "Epoch: 21, Step: 2380, Loss: 0.0933254\n",
      "Epoch: 21, Step: 2390, Loss: 0.0754347\n"
     ]
    },
    {
     "name": "stderr",
     "output_type": "stream",
     "text": [
      "W0814 20:32:38.778130 139790696757120 saver.py:1134] *******************************************************\n",
      "W0814 20:32:38.779153 139790696757120 saver.py:1135] TensorFlow's V1 checkpoint format has been deprecated.\n",
      "W0814 20:32:38.779941 139790696757120 saver.py:1136] Consider switching to the more efficient V2 format:\n",
      "W0814 20:32:38.784804 139790696757120 saver.py:1137]    `tf.train.Saver(write_version=tf.train.SaverDef.V2)`\n",
      "W0814 20:32:38.787227 139790696757120 saver.py:1138] now on by default.\n",
      "W0814 20:32:38.788103 139790696757120 saver.py:1139] *******************************************************\n"
     ]
    },
    {
     "name": "stdout",
     "output_type": "stream",
     "text": [
      "Epoch: 21, Step: 2400, Loss: 0.0914956\n",
      "Epoch: 21, Step: 2410, Loss: 0.128272\n",
      "Epoch: 21, Step: 2420, Loss: 0.102226\n",
      "Epoch: 21, Step: 2430, Loss: 0.108048\n",
      "Epoch: 21, Step: 2440, Loss: 0.0879757\n",
      "Epoch: 21, Step: 2450, Loss: 0.0894615\n",
      "Epoch: 21, Step: 2460, Loss: 0.0892695\n",
      "Epoch: 21, Step: 2470, Loss: 0.0853475\n",
      "Epoch: 21, Step: 2480, Loss: 0.0700462\n",
      "Epoch: 21, Step: 2490, Loss: 0.178731\n"
     ]
    },
    {
     "name": "stderr",
     "output_type": "stream",
     "text": [
      "W0814 20:33:19.921263 139790696757120 saver.py:1134] *******************************************************\n",
      "W0814 20:33:19.922231 139790696757120 saver.py:1135] TensorFlow's V1 checkpoint format has been deprecated.\n",
      "W0814 20:33:19.923174 139790696757120 saver.py:1136] Consider switching to the more efficient V2 format:\n",
      "W0814 20:33:19.928152 139790696757120 saver.py:1137]    `tf.train.Saver(write_version=tf.train.SaverDef.V2)`\n",
      "W0814 20:33:19.929871 139790696757120 saver.py:1138] now on by default.\n",
      "W0814 20:33:19.931557 139790696757120 saver.py:1139] *******************************************************\n"
     ]
    },
    {
     "name": "stdout",
     "output_type": "stream",
     "text": [
      "Epoch: 21, Step: 2500, Loss: 0.278435\n",
      "Epoch: 21, Step: 2510, Loss: 0.455367\n",
      "Epoch: 21, Step: 2520, Loss: 0.112432\n",
      "Epoch: 21, Step: 2530, Loss: 0.168744\n",
      "Epoch: 21, Step: 2540, Loss: 0.075632\n",
      "Epoch: 21, Step: 2550, Loss: 0.0682202\n",
      "Model saved in file: ./save/model.ckpt\n"
     ]
    },
    {
     "name": "stderr",
     "output_type": "stream",
     "text": [
      "W0814 20:33:41.489216 139790696757120 saver.py:1134] *******************************************************\n",
      "W0814 20:33:41.490325 139790696757120 saver.py:1135] TensorFlow's V1 checkpoint format has been deprecated.\n",
      "W0814 20:33:41.491050 139790696757120 saver.py:1136] Consider switching to the more efficient V2 format:\n",
      "W0814 20:33:41.495982 139790696757120 saver.py:1137]    `tf.train.Saver(write_version=tf.train.SaverDef.V2)`\n",
      "W0814 20:33:41.498795 139790696757120 saver.py:1138] now on by default.\n",
      "W0814 20:33:41.500732 139790696757120 saver.py:1139] *******************************************************\n"
     ]
    },
    {
     "name": "stdout",
     "output_type": "stream",
     "text": [
      "Epoch: 22, Step: 2200, Loss: 0.0750843\n",
      "Epoch: 22, Step: 2210, Loss: 0.0755924\n",
      "Epoch: 22, Step: 2220, Loss: 0.0691006\n",
      "Epoch: 22, Step: 2230, Loss: 0.0851028\n",
      "Epoch: 22, Step: 2240, Loss: 0.0740313\n",
      "Epoch: 22, Step: 2250, Loss: 0.0965143\n",
      "Epoch: 22, Step: 2260, Loss: 0.356248\n",
      "Epoch: 22, Step: 2270, Loss: 0.122941\n",
      "Epoch: 22, Step: 2280, Loss: 0.228193\n",
      "Epoch: 22, Step: 2290, Loss: 0.0749776\n"
     ]
    },
    {
     "name": "stderr",
     "output_type": "stream",
     "text": [
      "W0814 20:34:21.985395 139790696757120 saver.py:1134] *******************************************************\n",
      "W0814 20:34:21.986447 139790696757120 saver.py:1135] TensorFlow's V1 checkpoint format has been deprecated.\n",
      "W0814 20:34:21.987431 139790696757120 saver.py:1136] Consider switching to the more efficient V2 format:\n",
      "W0814 20:34:21.988336 139790696757120 saver.py:1137]    `tf.train.Saver(write_version=tf.train.SaverDef.V2)`\n",
      "W0814 20:34:21.989514 139790696757120 saver.py:1138] now on by default.\n",
      "W0814 20:34:21.990771 139790696757120 saver.py:1139] *******************************************************\n"
     ]
    },
    {
     "name": "stdout",
     "output_type": "stream",
     "text": [
      "Epoch: 22, Step: 2300, Loss: 0.0714372\n",
      "Epoch: 22, Step: 2310, Loss: 0.0745953\n",
      "Epoch: 22, Step: 2320, Loss: 0.0755904\n",
      "Epoch: 22, Step: 2330, Loss: 0.0870851\n",
      "Epoch: 22, Step: 2340, Loss: 4.69125\n",
      "Epoch: 22, Step: 2350, Loss: 0.212035\n",
      "Epoch: 22, Step: 2360, Loss: 0.134379\n",
      "Epoch: 22, Step: 2370, Loss: 0.13184\n",
      "Epoch: 22, Step: 2380, Loss: 0.129333\n",
      "Epoch: 22, Step: 2390, Loss: 0.105964\n"
     ]
    },
    {
     "name": "stderr",
     "output_type": "stream",
     "text": [
      "W0814 20:35:02.706630 139790696757120 saver.py:1134] *******************************************************\n",
      "W0814 20:35:02.707639 139790696757120 saver.py:1135] TensorFlow's V1 checkpoint format has been deprecated.\n",
      "W0814 20:35:02.712097 139790696757120 saver.py:1136] Consider switching to the more efficient V2 format:\n",
      "W0814 20:35:02.718446 139790696757120 saver.py:1137]    `tf.train.Saver(write_version=tf.train.SaverDef.V2)`\n",
      "W0814 20:35:02.726114 139790696757120 saver.py:1138] now on by default.\n",
      "W0814 20:35:02.727555 139790696757120 saver.py:1139] *******************************************************\n"
     ]
    },
    {
     "name": "stdout",
     "output_type": "stream",
     "text": [
      "Epoch: 22, Step: 2400, Loss: 0.446114\n",
      "Epoch: 22, Step: 2410, Loss: 0.524134\n",
      "Epoch: 22, Step: 2420, Loss: 0.315799\n",
      "Epoch: 22, Step: 2430, Loss: 0.530778\n",
      "Epoch: 22, Step: 2440, Loss: 0.0883843\n",
      "Epoch: 22, Step: 2450, Loss: 0.096148\n",
      "Epoch: 22, Step: 2460, Loss: 0.126492\n",
      "Epoch: 22, Step: 2470, Loss: 0.0781303\n",
      "Epoch: 22, Step: 2480, Loss: 0.0708186\n",
      "Epoch: 22, Step: 2490, Loss: 0.0864311\n"
     ]
    },
    {
     "name": "stderr",
     "output_type": "stream",
     "text": [
      "W0814 20:35:43.008941 139790696757120 saver.py:1134] *******************************************************\n",
      "W0814 20:35:43.009951 139790696757120 saver.py:1135] TensorFlow's V1 checkpoint format has been deprecated.\n",
      "W0814 20:35:43.010792 139790696757120 saver.py:1136] Consider switching to the more efficient V2 format:\n",
      "W0814 20:35:43.016066 139790696757120 saver.py:1137]    `tf.train.Saver(write_version=tf.train.SaverDef.V2)`\n",
      "W0814 20:35:43.017810 139790696757120 saver.py:1138] now on by default.\n",
      "W0814 20:35:43.018680 139790696757120 saver.py:1139] *******************************************************\n"
     ]
    },
    {
     "name": "stdout",
     "output_type": "stream",
     "text": [
      "Epoch: 22, Step: 2500, Loss: 0.0673964\n",
      "Epoch: 22, Step: 2510, Loss: 0.0813717\n",
      "Epoch: 22, Step: 2520, Loss: 0.127116\n",
      "Epoch: 22, Step: 2530, Loss: 0.0771924\n",
      "Epoch: 22, Step: 2540, Loss: 0.0703075\n",
      "Epoch: 22, Step: 2550, Loss: 0.0655302\n",
      "Epoch: 22, Step: 2560, Loss: 0.0630572\n",
      "Epoch: 22, Step: 2570, Loss: 0.073928\n",
      "Epoch: 22, Step: 2580, Loss: 0.0822612\n",
      "Epoch: 22, Step: 2590, Loss: 0.0701216\n"
     ]
    },
    {
     "name": "stderr",
     "output_type": "stream",
     "text": [
      "W0814 20:36:22.797269 139790696757120 saver.py:1134] *******************************************************\n",
      "W0814 20:36:22.798213 139790696757120 saver.py:1135] TensorFlow's V1 checkpoint format has been deprecated.\n",
      "W0814 20:36:22.799010 139790696757120 saver.py:1136] Consider switching to the more efficient V2 format:\n",
      "W0814 20:36:22.802309 139790696757120 saver.py:1137]    `tf.train.Saver(write_version=tf.train.SaverDef.V2)`\n",
      "W0814 20:36:22.804915 139790696757120 saver.py:1138] now on by default.\n",
      "W0814 20:36:22.806434 139790696757120 saver.py:1139] *******************************************************\n"
     ]
    },
    {
     "name": "stdout",
     "output_type": "stream",
     "text": [
      "Epoch: 22, Step: 2600, Loss: 0.0660544\n",
      "Epoch: 22, Step: 2610, Loss: 0.0890132\n",
      "Epoch: 22, Step: 2620, Loss: 0.0846169\n",
      "Epoch: 22, Step: 2630, Loss: 0.0838733\n",
      "Epoch: 22, Step: 2640, Loss: 0.225538\n",
      "Epoch: 22, Step: 2650, Loss: 1.36597\n",
      "Model saved in file: ./save/model.ckpt\n"
     ]
    },
    {
     "name": "stderr",
     "output_type": "stream",
     "text": [
      "W0814 20:36:44.815646 139790696757120 saver.py:1134] *******************************************************\n",
      "W0814 20:36:44.816768 139790696757120 saver.py:1135] TensorFlow's V1 checkpoint format has been deprecated.\n",
      "W0814 20:36:44.820455 139790696757120 saver.py:1136] Consider switching to the more efficient V2 format:\n",
      "W0814 20:36:44.822815 139790696757120 saver.py:1137]    `tf.train.Saver(write_version=tf.train.SaverDef.V2)`\n",
      "W0814 20:36:44.824209 139790696757120 saver.py:1138] now on by default.\n",
      "W0814 20:36:44.825413 139790696757120 saver.py:1139] *******************************************************\n"
     ]
    },
    {
     "name": "stdout",
     "output_type": "stream",
     "text": [
      "Epoch: 23, Step: 2300, Loss: 5.35461\n",
      "Epoch: 23, Step: 2310, Loss: 0.172804\n",
      "Epoch: 23, Step: 2320, Loss: 0.244575\n",
      "Epoch: 23, Step: 2330, Loss: 0.211779\n",
      "Epoch: 23, Step: 2340, Loss: 0.0943694\n",
      "Epoch: 23, Step: 2350, Loss: 0.0906054\n",
      "Epoch: 23, Step: 2360, Loss: 0.35286\n",
      "Epoch: 23, Step: 2370, Loss: 0.641926\n",
      "Epoch: 23, Step: 2380, Loss: 0.0925564\n",
      "Epoch: 23, Step: 2390, Loss: 0.196726\n"
     ]
    },
    {
     "name": "stderr",
     "output_type": "stream",
     "text": [
      "W0814 20:37:25.729177 139790696757120 saver.py:1134] *******************************************************\n",
      "W0814 20:37:25.730577 139790696757120 saver.py:1135] TensorFlow's V1 checkpoint format has been deprecated.\n",
      "W0814 20:37:25.732715 139790696757120 saver.py:1136] Consider switching to the more efficient V2 format:\n",
      "W0814 20:37:25.734917 139790696757120 saver.py:1137]    `tf.train.Saver(write_version=tf.train.SaverDef.V2)`\n",
      "W0814 20:37:25.737422 139790696757120 saver.py:1138] now on by default.\n",
      "W0814 20:37:25.739431 139790696757120 saver.py:1139] *******************************************************\n"
     ]
    },
    {
     "name": "stdout",
     "output_type": "stream",
     "text": [
      "Epoch: 23, Step: 2400, Loss: 0.0897336\n",
      "Epoch: 23, Step: 2410, Loss: 0.0850055\n",
      "Epoch: 23, Step: 2420, Loss: 0.0719655\n",
      "Epoch: 23, Step: 2430, Loss: 0.0989752\n",
      "Epoch: 23, Step: 2440, Loss: 0.124014\n",
      "Epoch: 23, Step: 2450, Loss: 0.126423\n",
      "Epoch: 23, Step: 2460, Loss: 0.0784466\n",
      "Epoch: 23, Step: 2470, Loss: 0.13255\n",
      "Epoch: 23, Step: 2480, Loss: 0.161703\n",
      "Epoch: 23, Step: 2490, Loss: 0.0848185\n"
     ]
    },
    {
     "name": "stderr",
     "output_type": "stream",
     "text": [
      "W0814 20:38:05.060166 139790696757120 saver.py:1134] *******************************************************\n",
      "W0814 20:38:05.061234 139790696757120 saver.py:1135] TensorFlow's V1 checkpoint format has been deprecated.\n",
      "W0814 20:38:05.062462 139790696757120 saver.py:1136] Consider switching to the more efficient V2 format:\n",
      "W0814 20:38:05.067035 139790696757120 saver.py:1137]    `tf.train.Saver(write_version=tf.train.SaverDef.V2)`\n",
      "W0814 20:38:05.068324 139790696757120 saver.py:1138] now on by default.\n",
      "W0814 20:38:05.070202 139790696757120 saver.py:1139] *******************************************************\n"
     ]
    },
    {
     "name": "stdout",
     "output_type": "stream",
     "text": [
      "Epoch: 23, Step: 2500, Loss: 0.106144\n",
      "Epoch: 23, Step: 2510, Loss: 0.0737045\n",
      "Epoch: 23, Step: 2520, Loss: 0.0670846\n",
      "Epoch: 23, Step: 2530, Loss: 0.0634383\n",
      "Epoch: 23, Step: 2540, Loss: 0.063511\n",
      "Epoch: 23, Step: 2550, Loss: 0.0660448\n",
      "Epoch: 23, Step: 2560, Loss: 0.0636906\n",
      "Epoch: 23, Step: 2570, Loss: 0.0864048\n",
      "Epoch: 23, Step: 2580, Loss: 0.115365\n",
      "Epoch: 23, Step: 2590, Loss: 0.0661306\n"
     ]
    },
    {
     "name": "stderr",
     "output_type": "stream",
     "text": [
      "W0814 20:38:45.234352 139790696757120 saver.py:1134] *******************************************************\n",
      "W0814 20:38:45.235275 139790696757120 saver.py:1135] TensorFlow's V1 checkpoint format has been deprecated.\n",
      "W0814 20:38:45.236061 139790696757120 saver.py:1136] Consider switching to the more efficient V2 format:\n",
      "W0814 20:38:45.239526 139790696757120 saver.py:1137]    `tf.train.Saver(write_version=tf.train.SaverDef.V2)`\n",
      "W0814 20:38:45.240302 139790696757120 saver.py:1138] now on by default.\n",
      "W0814 20:38:45.241197 139790696757120 saver.py:1139] *******************************************************\n"
     ]
    },
    {
     "name": "stdout",
     "output_type": "stream",
     "text": [
      "Epoch: 23, Step: 2600, Loss: 0.0721467\n",
      "Epoch: 23, Step: 2610, Loss: 0.22442\n",
      "Epoch: 23, Step: 2620, Loss: 0.127915\n",
      "Epoch: 23, Step: 2630, Loss: 0.132602\n",
      "Epoch: 23, Step: 2640, Loss: 0.0761779\n",
      "Epoch: 23, Step: 2650, Loss: 0.124132\n",
      "Epoch: 23, Step: 2660, Loss: 0.163211\n",
      "Epoch: 23, Step: 2670, Loss: 0.066408\n",
      "Epoch: 23, Step: 2680, Loss: 0.0828347\n",
      "Epoch: 23, Step: 2690, Loss: 0.250059\n"
     ]
    },
    {
     "name": "stderr",
     "output_type": "stream",
     "text": [
      "W0814 20:39:26.033536 139790696757120 saver.py:1134] *******************************************************\n",
      "W0814 20:39:26.034611 139790696757120 saver.py:1135] TensorFlow's V1 checkpoint format has been deprecated.\n",
      "W0814 20:39:26.039447 139790696757120 saver.py:1136] Consider switching to the more efficient V2 format:\n",
      "W0814 20:39:26.040637 139790696757120 saver.py:1137]    `tf.train.Saver(write_version=tf.train.SaverDef.V2)`\n",
      "W0814 20:39:26.042211 139790696757120 saver.py:1138] now on by default.\n",
      "W0814 20:39:26.046099 139790696757120 saver.py:1139] *******************************************************\n"
     ]
    },
    {
     "name": "stdout",
     "output_type": "stream",
     "text": [
      "Epoch: 23, Step: 2700, Loss: 0.255382\n",
      "Epoch: 23, Step: 2710, Loss: 0.273155\n",
      "Epoch: 23, Step: 2720, Loss: 0.0620679\n",
      "Epoch: 23, Step: 2730, Loss: 0.0951088\n",
      "Epoch: 23, Step: 2740, Loss: 0.0724447\n",
      "Epoch: 23, Step: 2750, Loss: 0.510731\n",
      "Model saved in file: ./save/model.ckpt\n"
     ]
    },
    {
     "name": "stderr",
     "output_type": "stream",
     "text": [
      "W0814 20:39:48.053530 139790696757120 saver.py:1134] *******************************************************\n",
      "W0814 20:39:48.054547 139790696757120 saver.py:1135] TensorFlow's V1 checkpoint format has been deprecated.\n",
      "W0814 20:39:48.055416 139790696757120 saver.py:1136] Consider switching to the more efficient V2 format:\n",
      "W0814 20:39:48.058115 139790696757120 saver.py:1137]    `tf.train.Saver(write_version=tf.train.SaverDef.V2)`\n",
      "W0814 20:39:48.059602 139790696757120 saver.py:1138] now on by default.\n",
      "W0814 20:39:48.062194 139790696757120 saver.py:1139] *******************************************************\n"
     ]
    },
    {
     "name": "stdout",
     "output_type": "stream",
     "text": [
      "Epoch: 24, Step: 2400, Loss: 0.2591\n",
      "Epoch: 24, Step: 2410, Loss: 0.690648\n",
      "Epoch: 24, Step: 2420, Loss: 0.596117\n",
      "Epoch: 24, Step: 2430, Loss: 0.093828\n",
      "Epoch: 24, Step: 2440, Loss: 0.121995\n",
      "Epoch: 24, Step: 2450, Loss: 0.0841575\n",
      "Epoch: 24, Step: 2460, Loss: 0.090893\n",
      "Epoch: 24, Step: 2470, Loss: 0.0847946\n",
      "Epoch: 24, Step: 2480, Loss: 0.190466\n",
      "Epoch: 24, Step: 2490, Loss: 0.169261\n"
     ]
    },
    {
     "name": "stderr",
     "output_type": "stream",
     "text": [
      "W0814 20:40:27.804955 139790696757120 saver.py:1134] *******************************************************\n",
      "W0814 20:40:27.806073 139790696757120 saver.py:1135] TensorFlow's V1 checkpoint format has been deprecated.\n",
      "W0814 20:40:27.806940 139790696757120 saver.py:1136] Consider switching to the more efficient V2 format:\n",
      "W0814 20:40:27.812699 139790696757120 saver.py:1137]    `tf.train.Saver(write_version=tf.train.SaverDef.V2)`\n",
      "W0814 20:40:27.813597 139790696757120 saver.py:1138] now on by default.\n",
      "W0814 20:40:27.814516 139790696757120 saver.py:1139] *******************************************************\n"
     ]
    },
    {
     "name": "stdout",
     "output_type": "stream",
     "text": [
      "Epoch: 24, Step: 2500, Loss: 0.55034\n",
      "Epoch: 24, Step: 2510, Loss: 0.616245\n",
      "Epoch: 24, Step: 2520, Loss: 1.32884\n",
      "Epoch: 24, Step: 2530, Loss: 0.35045\n",
      "Epoch: 24, Step: 2540, Loss: 0.411194\n",
      "Epoch: 24, Step: 2550, Loss: 0.0742032\n",
      "Epoch: 24, Step: 2560, Loss: 0.113012\n",
      "Epoch: 24, Step: 2570, Loss: 0.633023\n",
      "Epoch: 24, Step: 2580, Loss: 0.986685\n",
      "Epoch: 24, Step: 2590, Loss: 0.192965\n"
     ]
    },
    {
     "name": "stderr",
     "output_type": "stream",
     "text": [
      "W0814 20:41:08.231472 139790696757120 saver.py:1134] *******************************************************\n",
      "W0814 20:41:08.232683 139790696757120 saver.py:1135] TensorFlow's V1 checkpoint format has been deprecated.\n",
      "W0814 20:41:08.234327 139790696757120 saver.py:1136] Consider switching to the more efficient V2 format:\n",
      "W0814 20:41:08.237665 139790696757120 saver.py:1137]    `tf.train.Saver(write_version=tf.train.SaverDef.V2)`\n",
      "W0814 20:41:08.239929 139790696757120 saver.py:1138] now on by default.\n",
      "W0814 20:41:08.241615 139790696757120 saver.py:1139] *******************************************************\n"
     ]
    },
    {
     "name": "stdout",
     "output_type": "stream",
     "text": [
      "Epoch: 24, Step: 2600, Loss: 0.0938023\n",
      "Epoch: 24, Step: 2610, Loss: 0.0816685\n",
      "Epoch: 24, Step: 2620, Loss: 0.272976\n",
      "Epoch: 24, Step: 2630, Loss: 0.304724\n",
      "Epoch: 24, Step: 2640, Loss: 0.37644\n",
      "Epoch: 24, Step: 2650, Loss: 0.600224\n",
      "Epoch: 24, Step: 2660, Loss: 0.143874\n",
      "Epoch: 24, Step: 2670, Loss: 0.0691998\n",
      "Epoch: 24, Step: 2680, Loss: 0.0699961\n",
      "Epoch: 24, Step: 2690, Loss: 0.0704537\n"
     ]
    },
    {
     "name": "stderr",
     "output_type": "stream",
     "text": [
      "W0814 20:41:49.336123 139790696757120 saver.py:1134] *******************************************************\n",
      "W0814 20:41:49.337160 139790696757120 saver.py:1135] TensorFlow's V1 checkpoint format has been deprecated.\n",
      "W0814 20:41:49.342308 139790696757120 saver.py:1136] Consider switching to the more efficient V2 format:\n",
      "W0814 20:41:49.343988 139790696757120 saver.py:1137]    `tf.train.Saver(write_version=tf.train.SaverDef.V2)`\n",
      "W0814 20:41:49.345435 139790696757120 saver.py:1138] now on by default.\n",
      "W0814 20:41:49.347300 139790696757120 saver.py:1139] *******************************************************\n"
     ]
    },
    {
     "name": "stdout",
     "output_type": "stream",
     "text": [
      "Epoch: 24, Step: 2700, Loss: 0.0877368\n",
      "Epoch: 24, Step: 2710, Loss: 0.21835\n",
      "Epoch: 24, Step: 2720, Loss: 0.166078\n",
      "Epoch: 24, Step: 2730, Loss: 0.296161\n",
      "Epoch: 24, Step: 2740, Loss: 0.140069\n",
      "Epoch: 24, Step: 2750, Loss: 0.0779324\n",
      "Epoch: 24, Step: 2760, Loss: 0.0865333\n",
      "Epoch: 24, Step: 2770, Loss: 0.0814882\n",
      "Epoch: 24, Step: 2780, Loss: 0.0992708\n",
      "Epoch: 24, Step: 2790, Loss: 0.245497\n"
     ]
    },
    {
     "name": "stderr",
     "output_type": "stream",
     "text": [
      "W0814 20:42:28.964289 139790696757120 saver.py:1134] *******************************************************\n",
      "W0814 20:42:28.965343 139790696757120 saver.py:1135] TensorFlow's V1 checkpoint format has been deprecated.\n",
      "W0814 20:42:28.966434 139790696757120 saver.py:1136] Consider switching to the more efficient V2 format:\n",
      "W0814 20:42:28.967483 139790696757120 saver.py:1137]    `tf.train.Saver(write_version=tf.train.SaverDef.V2)`\n",
      "W0814 20:42:28.968882 139790696757120 saver.py:1138] now on by default.\n",
      "W0814 20:42:28.969801 139790696757120 saver.py:1139] *******************************************************\n"
     ]
    },
    {
     "name": "stdout",
     "output_type": "stream",
     "text": [
      "Epoch: 24, Step: 2800, Loss: 0.0981677\n",
      "Epoch: 24, Step: 2810, Loss: 0.106764\n",
      "Epoch: 24, Step: 2820, Loss: 0.107723\n",
      "Epoch: 24, Step: 2830, Loss: 0.0603011\n",
      "Epoch: 24, Step: 2840, Loss: 0.0706701\n",
      "Epoch: 24, Step: 2850, Loss: 0.072588\n",
      "Model saved in file: ./save/model.ckpt\n"
     ]
    },
    {
     "name": "stderr",
     "output_type": "stream",
     "text": [
      "W0814 20:42:51.261494 139790696757120 saver.py:1134] *******************************************************\n",
      "W0814 20:42:51.262504 139790696757120 saver.py:1135] TensorFlow's V1 checkpoint format has been deprecated.\n",
      "W0814 20:42:51.271445 139790696757120 saver.py:1136] Consider switching to the more efficient V2 format:\n",
      "W0814 20:42:51.274442 139790696757120 saver.py:1137]    `tf.train.Saver(write_version=tf.train.SaverDef.V2)`\n",
      "W0814 20:42:51.275180 139790696757120 saver.py:1138] now on by default.\n",
      "W0814 20:42:51.275866 139790696757120 saver.py:1139] *******************************************************\n"
     ]
    },
    {
     "name": "stdout",
     "output_type": "stream",
     "text": [
      "Epoch: 25, Step: 2500, Loss: 0.0662782\n",
      "Epoch: 25, Step: 2510, Loss: 0.0863848\n",
      "Epoch: 25, Step: 2520, Loss: 0.0766717\n",
      "Epoch: 25, Step: 2530, Loss: 0.0877333\n",
      "Epoch: 25, Step: 2540, Loss: 0.360785\n",
      "Epoch: 25, Step: 2550, Loss: 0.108647\n",
      "Epoch: 25, Step: 2560, Loss: 0.3544\n",
      "Epoch: 25, Step: 2570, Loss: 0.0751971\n",
      "Epoch: 25, Step: 2580, Loss: 0.0690193\n",
      "Epoch: 25, Step: 2590, Loss: 0.0681513\n"
     ]
    },
    {
     "name": "stderr",
     "output_type": "stream",
     "text": [
      "W0814 20:43:31.905668 139790696757120 saver.py:1134] *******************************************************\n",
      "W0814 20:43:31.906718 139790696757120 saver.py:1135] TensorFlow's V1 checkpoint format has been deprecated.\n",
      "W0814 20:43:31.907543 139790696757120 saver.py:1136] Consider switching to the more efficient V2 format:\n",
      "W0814 20:43:31.911797 139790696757120 saver.py:1137]    `tf.train.Saver(write_version=tf.train.SaverDef.V2)`\n",
      "W0814 20:43:31.914239 139790696757120 saver.py:1138] now on by default.\n",
      "W0814 20:43:31.915957 139790696757120 saver.py:1139] *******************************************************\n"
     ]
    },
    {
     "name": "stdout",
     "output_type": "stream",
     "text": [
      "Epoch: 25, Step: 2600, Loss: 0.0659771\n",
      "Epoch: 25, Step: 2610, Loss: 0.0733889\n",
      "Epoch: 25, Step: 2620, Loss: 5.37361\n",
      "Epoch: 25, Step: 2630, Loss: 1.27292\n",
      "Epoch: 25, Step: 2640, Loss: 0.284638\n",
      "Epoch: 25, Step: 2650, Loss: 0.0627523\n",
      "Epoch: 25, Step: 2660, Loss: 0.0617548\n",
      "Epoch: 25, Step: 2670, Loss: 0.0630785\n",
      "Epoch: 25, Step: 2680, Loss: 0.08879\n",
      "Epoch: 25, Step: 2690, Loss: 0.144481\n"
     ]
    },
    {
     "name": "stderr",
     "output_type": "stream",
     "text": [
      "W0814 20:44:12.325310 139790696757120 saver.py:1134] *******************************************************\n",
      "W0814 20:44:12.326299 139790696757120 saver.py:1135] TensorFlow's V1 checkpoint format has been deprecated.\n",
      "W0814 20:44:12.327018 139790696757120 saver.py:1136] Consider switching to the more efficient V2 format:\n",
      "W0814 20:44:12.331503 139790696757120 saver.py:1137]    `tf.train.Saver(write_version=tf.train.SaverDef.V2)`\n",
      "W0814 20:44:12.333439 139790696757120 saver.py:1138] now on by default.\n",
      "W0814 20:44:12.334210 139790696757120 saver.py:1139] *******************************************************\n"
     ]
    },
    {
     "name": "stdout",
     "output_type": "stream",
     "text": [
      "Epoch: 25, Step: 2700, Loss: 0.0754122\n",
      "Epoch: 25, Step: 2710, Loss: 0.0584034\n",
      "Epoch: 25, Step: 2720, Loss: 0.17561\n",
      "Epoch: 25, Step: 2730, Loss: 0.135414\n",
      "Epoch: 25, Step: 2740, Loss: 0.166096\n",
      "Epoch: 25, Step: 2750, Loss: 0.147106\n",
      "Epoch: 25, Step: 2760, Loss: 0.162186\n",
      "Epoch: 25, Step: 2770, Loss: 0.0759877\n",
      "Epoch: 25, Step: 2780, Loss: 0.0576356\n",
      "Epoch: 25, Step: 2790, Loss: 0.0583435\n"
     ]
    },
    {
     "name": "stderr",
     "output_type": "stream",
     "text": [
      "W0814 20:44:52.059282 139790696757120 saver.py:1134] *******************************************************\n",
      "W0814 20:44:52.060251 139790696757120 saver.py:1135] TensorFlow's V1 checkpoint format has been deprecated.\n",
      "W0814 20:44:52.061057 139790696757120 saver.py:1136] Consider switching to the more efficient V2 format:\n",
      "W0814 20:44:52.065610 139790696757120 saver.py:1137]    `tf.train.Saver(write_version=tf.train.SaverDef.V2)`\n",
      "W0814 20:44:52.067291 139790696757120 saver.py:1138] now on by default.\n",
      "W0814 20:44:52.068338 139790696757120 saver.py:1139] *******************************************************\n"
     ]
    },
    {
     "name": "stdout",
     "output_type": "stream",
     "text": [
      "Epoch: 25, Step: 2800, Loss: 0.0874231\n",
      "Epoch: 25, Step: 2810, Loss: 0.0647069\n",
      "Epoch: 25, Step: 2820, Loss: 0.0598729\n",
      "Epoch: 25, Step: 2830, Loss: 0.0586366\n",
      "Epoch: 25, Step: 2840, Loss: 0.0693479\n",
      "Epoch: 25, Step: 2850, Loss: 0.264622\n",
      "Epoch: 25, Step: 2860, Loss: 0.159464\n",
      "Epoch: 25, Step: 2870, Loss: 0.0772471\n",
      "Epoch: 25, Step: 2880, Loss: 0.0837549\n",
      "Epoch: 25, Step: 2890, Loss: 0.0895715\n"
     ]
    },
    {
     "name": "stderr",
     "output_type": "stream",
     "text": [
      "W0814 20:45:32.689228 139790696757120 saver.py:1134] *******************************************************\n",
      "W0814 20:45:32.690335 139790696757120 saver.py:1135] TensorFlow's V1 checkpoint format has been deprecated.\n",
      "W0814 20:45:32.693799 139790696757120 saver.py:1136] Consider switching to the more efficient V2 format:\n",
      "W0814 20:45:32.695986 139790696757120 saver.py:1137]    `tf.train.Saver(write_version=tf.train.SaverDef.V2)`\n",
      "W0814 20:45:32.698126 139790696757120 saver.py:1138] now on by default.\n",
      "W0814 20:45:32.704484 139790696757120 saver.py:1139] *******************************************************\n"
     ]
    },
    {
     "name": "stdout",
     "output_type": "stream",
     "text": [
      "Epoch: 25, Step: 2900, Loss: 0.065189\n",
      "Epoch: 25, Step: 2910, Loss: 0.0636974\n",
      "Epoch: 25, Step: 2920, Loss: 0.587561\n",
      "Epoch: 25, Step: 2930, Loss: 0.563886\n",
      "Epoch: 25, Step: 2940, Loss: 6.04186\n",
      "Epoch: 25, Step: 2950, Loss: 0.214708\n",
      "Model saved in file: ./save/model.ckpt\n"
     ]
    },
    {
     "name": "stderr",
     "output_type": "stream",
     "text": [
      "W0814 20:45:55.350870 139790696757120 saver.py:1134] *******************************************************\n",
      "W0814 20:45:55.351794 139790696757120 saver.py:1135] TensorFlow's V1 checkpoint format has been deprecated.\n",
      "W0814 20:45:55.352539 139790696757120 saver.py:1136] Consider switching to the more efficient V2 format:\n",
      "W0814 20:45:55.356352 139790696757120 saver.py:1137]    `tf.train.Saver(write_version=tf.train.SaverDef.V2)`\n",
      "W0814 20:45:55.358514 139790696757120 saver.py:1138] now on by default.\n",
      "W0814 20:45:55.360116 139790696757120 saver.py:1139] *******************************************************\n"
     ]
    },
    {
     "name": "stdout",
     "output_type": "stream",
     "text": [
      "Epoch: 26, Step: 2600, Loss: 0.303323\n",
      "Epoch: 26, Step: 2610, Loss: 0.0671903\n",
      "Epoch: 26, Step: 2620, Loss: 0.0700644\n",
      "Epoch: 26, Step: 2630, Loss: 0.0954758\n",
      "Epoch: 26, Step: 2640, Loss: 0.0599485\n",
      "Epoch: 26, Step: 2650, Loss: 0.169683\n",
      "Epoch: 26, Step: 2660, Loss: 0.0897985\n",
      "Epoch: 26, Step: 2670, Loss: 0.0730416\n",
      "Epoch: 26, Step: 2680, Loss: 0.0670022\n",
      "Epoch: 26, Step: 2690, Loss: 0.103781\n"
     ]
    },
    {
     "name": "stderr",
     "output_type": "stream",
     "text": [
      "W0814 20:46:34.846666 139790696757120 saver.py:1134] *******************************************************\n",
      "W0814 20:46:34.847737 139790696757120 saver.py:1135] TensorFlow's V1 checkpoint format has been deprecated.\n",
      "W0814 20:46:34.851948 139790696757120 saver.py:1136] Consider switching to the more efficient V2 format:\n",
      "W0814 20:46:34.855397 139790696757120 saver.py:1137]    `tf.train.Saver(write_version=tf.train.SaverDef.V2)`\n",
      "W0814 20:46:34.856225 139790696757120 saver.py:1138] now on by default.\n",
      "W0814 20:46:34.856931 139790696757120 saver.py:1139] *******************************************************\n"
     ]
    },
    {
     "name": "stdout",
     "output_type": "stream",
     "text": [
      "Epoch: 26, Step: 2700, Loss: 0.0839071\n",
      "Epoch: 26, Step: 2710, Loss: 0.283012\n",
      "Epoch: 26, Step: 2720, Loss: 0.369811\n",
      "Epoch: 26, Step: 2730, Loss: 0.116218\n",
      "Epoch: 26, Step: 2740, Loss: 0.162892\n",
      "Epoch: 26, Step: 2750, Loss: 0.0912847\n",
      "Epoch: 26, Step: 2760, Loss: 0.149552\n",
      "Epoch: 26, Step: 2770, Loss: 0.0706714\n",
      "Epoch: 26, Step: 2780, Loss: 0.0647802\n",
      "Epoch: 26, Step: 2790, Loss: 0.0659649\n"
     ]
    },
    {
     "name": "stderr",
     "output_type": "stream",
     "text": [
      "W0814 20:47:14.860603 139790696757120 saver.py:1134] *******************************************************\n",
      "W0814 20:47:14.861593 139790696757120 saver.py:1135] TensorFlow's V1 checkpoint format has been deprecated.\n",
      "W0814 20:47:14.862306 139790696757120 saver.py:1136] Consider switching to the more efficient V2 format:\n",
      "W0814 20:47:14.866760 139790696757120 saver.py:1137]    `tf.train.Saver(write_version=tf.train.SaverDef.V2)`\n",
      "W0814 20:47:14.868683 139790696757120 saver.py:1138] now on by default.\n",
      "W0814 20:47:14.870274 139790696757120 saver.py:1139] *******************************************************\n"
     ]
    },
    {
     "name": "stdout",
     "output_type": "stream",
     "text": [
      "Epoch: 26, Step: 2800, Loss: 0.110867\n",
      "Epoch: 26, Step: 2810, Loss: 0.0932345\n",
      "Epoch: 26, Step: 2820, Loss: 0.135135\n",
      "Epoch: 26, Step: 2830, Loss: 0.125335\n",
      "Epoch: 26, Step: 2840, Loss: 0.0721271\n",
      "Epoch: 26, Step: 2850, Loss: 0.126098\n",
      "Epoch: 26, Step: 2860, Loss: 0.0987495\n",
      "Epoch: 26, Step: 2870, Loss: 0.080533\n",
      "Epoch: 26, Step: 2880, Loss: 0.0607727\n",
      "Epoch: 26, Step: 2890, Loss: 0.351549\n"
     ]
    },
    {
     "name": "stderr",
     "output_type": "stream",
     "text": [
      "W0814 20:47:55.844269 139790696757120 saver.py:1134] *******************************************************\n",
      "W0814 20:47:55.845680 139790696757120 saver.py:1135] TensorFlow's V1 checkpoint format has been deprecated.\n",
      "W0814 20:47:55.847803 139790696757120 saver.py:1136] Consider switching to the more efficient V2 format:\n",
      "W0814 20:47:55.850122 139790696757120 saver.py:1137]    `tf.train.Saver(write_version=tf.train.SaverDef.V2)`\n",
      "W0814 20:47:55.851740 139790696757120 saver.py:1138] now on by default.\n",
      "W0814 20:47:55.854812 139790696757120 saver.py:1139] *******************************************************\n"
     ]
    },
    {
     "name": "stdout",
     "output_type": "stream",
     "text": [
      "Epoch: 26, Step: 2900, Loss: 0.540465\n",
      "Epoch: 26, Step: 2910, Loss: 0.0925938\n",
      "Epoch: 26, Step: 2920, Loss: 0.178912\n",
      "Epoch: 26, Step: 2930, Loss: 0.113888\n",
      "Epoch: 26, Step: 2940, Loss: 0.345281\n",
      "Epoch: 26, Step: 2950, Loss: 0.0884417\n",
      "Epoch: 26, Step: 2960, Loss: 0.109943\n",
      "Epoch: 26, Step: 2970, Loss: 0.0874348\n",
      "Epoch: 26, Step: 2980, Loss: 0.135686\n",
      "Epoch: 26, Step: 2990, Loss: 0.0925153\n"
     ]
    },
    {
     "name": "stderr",
     "output_type": "stream",
     "text": [
      "W0814 20:48:35.754674 139790696757120 saver.py:1134] *******************************************************\n",
      "W0814 20:48:35.755692 139790696757120 saver.py:1135] TensorFlow's V1 checkpoint format has been deprecated.\n",
      "W0814 20:48:35.758538 139790696757120 saver.py:1136] Consider switching to the more efficient V2 format:\n",
      "W0814 20:48:35.760090 139790696757120 saver.py:1137]    `tf.train.Saver(write_version=tf.train.SaverDef.V2)`\n",
      "W0814 20:48:35.761968 139790696757120 saver.py:1138] now on by default.\n",
      "W0814 20:48:35.763297 139790696757120 saver.py:1139] *******************************************************\n"
     ]
    },
    {
     "name": "stdout",
     "output_type": "stream",
     "text": [
      "Epoch: 26, Step: 3000, Loss: 0.0619376\n",
      "Epoch: 26, Step: 3010, Loss: 0.0617137\n",
      "Epoch: 26, Step: 3020, Loss: 0.154342\n",
      "Epoch: 26, Step: 3030, Loss: 0.242618\n",
      "Epoch: 26, Step: 3040, Loss: 0.222667\n",
      "Epoch: 26, Step: 3050, Loss: 0.475844\n",
      "Model saved in file: ./save/model.ckpt\n"
     ]
    },
    {
     "name": "stderr",
     "output_type": "stream",
     "text": [
      "W0814 20:48:57.585605 139790696757120 saver.py:1134] *******************************************************\n",
      "W0814 20:48:57.586497 139790696757120 saver.py:1135] TensorFlow's V1 checkpoint format has been deprecated.\n",
      "W0814 20:48:57.587217 139790696757120 saver.py:1136] Consider switching to the more efficient V2 format:\n",
      "W0814 20:48:57.591201 139790696757120 saver.py:1137]    `tf.train.Saver(write_version=tf.train.SaverDef.V2)`\n",
      "W0814 20:48:57.594218 139790696757120 saver.py:1138] now on by default.\n",
      "W0814 20:48:57.596104 139790696757120 saver.py:1139] *******************************************************\n"
     ]
    },
    {
     "name": "stdout",
     "output_type": "stream",
     "text": [
      "Epoch: 27, Step: 2700, Loss: 0.57264\n",
      "Epoch: 27, Step: 2710, Loss: 0.122455\n",
      "Epoch: 27, Step: 2720, Loss: 0.145157\n",
      "Epoch: 27, Step: 2730, Loss: 0.11383\n",
      "Epoch: 27, Step: 2740, Loss: 0.0594411\n",
      "Epoch: 27, Step: 2750, Loss: 0.0619796\n",
      "Epoch: 27, Step: 2760, Loss: 0.0856208\n",
      "Epoch: 27, Step: 2770, Loss: 0.221499\n",
      "Epoch: 27, Step: 2780, Loss: 0.166601\n",
      "Epoch: 27, Step: 2790, Loss: 0.110454\n"
     ]
    },
    {
     "name": "stderr",
     "output_type": "stream",
     "text": [
      "W0814 20:49:38.082589 139790696757120 saver.py:1134] *******************************************************\n",
      "W0814 20:49:38.083675 139790696757120 saver.py:1135] TensorFlow's V1 checkpoint format has been deprecated.\n",
      "W0814 20:49:38.084459 139790696757120 saver.py:1136] Consider switching to the more efficient V2 format:\n",
      "W0814 20:49:38.088585 139790696757120 saver.py:1137]    `tf.train.Saver(write_version=tf.train.SaverDef.V2)`\n",
      "W0814 20:49:38.093511 139790696757120 saver.py:1138] now on by default.\n",
      "W0814 20:49:38.094414 139790696757120 saver.py:1139] *******************************************************\n"
     ]
    },
    {
     "name": "stdout",
     "output_type": "stream",
     "text": [
      "Epoch: 27, Step: 2800, Loss: 1.71537\n",
      "Epoch: 27, Step: 2810, Loss: 0.220261\n",
      "Epoch: 27, Step: 2820, Loss: 0.576807\n",
      "Epoch: 27, Step: 2830, Loss: 0.0695558\n",
      "Epoch: 27, Step: 2840, Loss: 0.064502\n",
      "Epoch: 27, Step: 2850, Loss: 0.109925\n",
      "Epoch: 27, Step: 2860, Loss: 0.363048\n",
      "Epoch: 27, Step: 2870, Loss: 0.377944\n",
      "Epoch: 27, Step: 2880, Loss: 0.246228\n",
      "Epoch: 27, Step: 2890, Loss: 0.0607158\n"
     ]
    },
    {
     "name": "stderr",
     "output_type": "stream",
     "text": [
      "W0814 20:50:19.407063 139790696757120 saver.py:1134] *******************************************************\n",
      "W0814 20:50:19.407975 139790696757120 saver.py:1135] TensorFlow's V1 checkpoint format has been deprecated.\n",
      "W0814 20:50:19.408839 139790696757120 saver.py:1136] Consider switching to the more efficient V2 format:\n",
      "W0814 20:50:19.413761 139790696757120 saver.py:1137]    `tf.train.Saver(write_version=tf.train.SaverDef.V2)`\n",
      "W0814 20:50:19.415978 139790696757120 saver.py:1138] now on by default.\n",
      "W0814 20:50:19.417434 139790696757120 saver.py:1139] *******************************************************\n"
     ]
    },
    {
     "name": "stdout",
     "output_type": "stream",
     "text": [
      "Epoch: 27, Step: 2900, Loss: 0.182201\n",
      "Epoch: 27, Step: 2910, Loss: 0.359257\n",
      "Epoch: 27, Step: 2920, Loss: 0.307101\n",
      "Epoch: 27, Step: 2930, Loss: 0.265933\n",
      "Epoch: 27, Step: 2940, Loss: 0.19591\n",
      "Epoch: 27, Step: 2950, Loss: 0.0572109\n",
      "Epoch: 27, Step: 2960, Loss: 0.0577262\n",
      "Epoch: 27, Step: 2970, Loss: 0.071951\n",
      "Epoch: 27, Step: 2980, Loss: 0.0666821\n",
      "Epoch: 27, Step: 2990, Loss: 0.169172\n"
     ]
    },
    {
     "name": "stderr",
     "output_type": "stream",
     "text": [
      "W0814 20:50:59.148865 139790696757120 saver.py:1134] *******************************************************\n",
      "W0814 20:50:59.149877 139790696757120 saver.py:1135] TensorFlow's V1 checkpoint format has been deprecated.\n",
      "W0814 20:50:59.150727 139790696757120 saver.py:1136] Consider switching to the more efficient V2 format:\n",
      "W0814 20:50:59.155439 139790696757120 saver.py:1137]    `tf.train.Saver(write_version=tf.train.SaverDef.V2)`\n",
      "W0814 20:50:59.157472 139790696757120 saver.py:1138] now on by default.\n",
      "W0814 20:50:59.162296 139790696757120 saver.py:1139] *******************************************************\n"
     ]
    },
    {
     "name": "stdout",
     "output_type": "stream",
     "text": [
      "Epoch: 27, Step: 3000, Loss: 0.248298\n",
      "Epoch: 27, Step: 3010, Loss: 0.211842\n",
      "Epoch: 27, Step: 3020, Loss: 0.0803246\n",
      "Epoch: 27, Step: 3030, Loss: 0.0652655\n",
      "Epoch: 27, Step: 3040, Loss: 0.118637\n",
      "Epoch: 27, Step: 3050, Loss: 0.124059\n",
      "Epoch: 27, Step: 3060, Loss: 0.148329\n",
      "Epoch: 27, Step: 3070, Loss: 0.403381\n",
      "Epoch: 27, Step: 3080, Loss: 0.171496\n",
      "Epoch: 27, Step: 3090, Loss: 0.176529\n"
     ]
    },
    {
     "name": "stderr",
     "output_type": "stream",
     "text": [
      "W0814 20:51:39.873969 139790696757120 saver.py:1134] *******************************************************\n",
      "W0814 20:51:39.874993 139790696757120 saver.py:1135] TensorFlow's V1 checkpoint format has been deprecated.\n",
      "W0814 20:51:39.875796 139790696757120 saver.py:1136] Consider switching to the more efficient V2 format:\n",
      "W0814 20:51:39.880578 139790696757120 saver.py:1137]    `tf.train.Saver(write_version=tf.train.SaverDef.V2)`\n",
      "W0814 20:51:39.883047 139790696757120 saver.py:1138] now on by default.\n",
      "W0814 20:51:39.886723 139790696757120 saver.py:1139] *******************************************************\n"
     ]
    },
    {
     "name": "stdout",
     "output_type": "stream",
     "text": [
      "Epoch: 27, Step: 3100, Loss: 0.25339\n",
      "Epoch: 27, Step: 3110, Loss: 0.0866391\n",
      "Epoch: 27, Step: 3120, Loss: 0.0559014\n",
      "Epoch: 27, Step: 3130, Loss: 0.0794024\n",
      "Epoch: 27, Step: 3140, Loss: 0.0624722\n",
      "Epoch: 27, Step: 3150, Loss: 0.0680475\n",
      "Model saved in file: ./save/model.ckpt\n"
     ]
    },
    {
     "name": "stderr",
     "output_type": "stream",
     "text": [
      "W0814 20:52:02.289310 139790696757120 saver.py:1134] *******************************************************\n",
      "W0814 20:52:02.290347 139790696757120 saver.py:1135] TensorFlow's V1 checkpoint format has been deprecated.\n",
      "W0814 20:52:02.291103 139790696757120 saver.py:1136] Consider switching to the more efficient V2 format:\n",
      "W0814 20:52:02.294960 139790696757120 saver.py:1137]    `tf.train.Saver(write_version=tf.train.SaverDef.V2)`\n",
      "W0814 20:52:02.297731 139790696757120 saver.py:1138] now on by default.\n",
      "W0814 20:52:02.298858 139790696757120 saver.py:1139] *******************************************************\n"
     ]
    },
    {
     "name": "stdout",
     "output_type": "stream",
     "text": [
      "Epoch: 28, Step: 2800, Loss: 0.0733157\n",
      "Epoch: 28, Step: 2810, Loss: 0.207136\n",
      "Epoch: 28, Step: 2820, Loss: 0.475329\n",
      "Epoch: 28, Step: 2830, Loss: 0.133509\n",
      "Epoch: 28, Step: 2840, Loss: 0.25369\n",
      "Epoch: 28, Step: 2850, Loss: 0.0639141\n",
      "Epoch: 28, Step: 2860, Loss: 0.0720246\n",
      "Epoch: 28, Step: 2870, Loss: 0.0645533\n",
      "Epoch: 28, Step: 2880, Loss: 0.0639334\n",
      "Epoch: 28, Step: 2890, Loss: 0.0696535\n"
     ]
    },
    {
     "name": "stderr",
     "output_type": "stream",
     "text": [
      "W0814 20:52:43.247645 139790696757120 saver.py:1134] *******************************************************\n",
      "W0814 20:52:43.248792 139790696757120 saver.py:1135] TensorFlow's V1 checkpoint format has been deprecated.\n",
      "W0814 20:52:43.252942 139790696757120 saver.py:1136] Consider switching to the more efficient V2 format:\n",
      "W0814 20:52:43.256285 139790696757120 saver.py:1137]    `tf.train.Saver(write_version=tf.train.SaverDef.V2)`\n",
      "W0814 20:52:43.257938 139790696757120 saver.py:1138] now on by default.\n",
      "W0814 20:52:43.261082 139790696757120 saver.py:1139] *******************************************************\n"
     ]
    },
    {
     "name": "stdout",
     "output_type": "stream",
     "text": [
      "Epoch: 28, Step: 2900, Loss: 2.62238\n",
      "Epoch: 28, Step: 2910, Loss: 2.20303\n",
      "Epoch: 28, Step: 2920, Loss: 0.0746971\n",
      "Epoch: 28, Step: 2930, Loss: 0.0802242\n",
      "Epoch: 28, Step: 2940, Loss: 0.0964573\n",
      "Epoch: 28, Step: 2950, Loss: 0.119132\n",
      "Epoch: 28, Step: 2960, Loss: 0.0566454\n",
      "Epoch: 28, Step: 2970, Loss: 0.109795\n",
      "Epoch: 28, Step: 2980, Loss: 0.139183\n",
      "Epoch: 28, Step: 2990, Loss: 0.0869464\n"
     ]
    },
    {
     "name": "stderr",
     "output_type": "stream",
     "text": [
      "W0814 20:53:23.602355 139790696757120 saver.py:1134] *******************************************************\n",
      "W0814 20:53:23.603423 139790696757120 saver.py:1135] TensorFlow's V1 checkpoint format has been deprecated.\n",
      "W0814 20:53:23.604062 139790696757120 saver.py:1136] Consider switching to the more efficient V2 format:\n",
      "W0814 20:53:23.616928 139790696757120 saver.py:1137]    `tf.train.Saver(write_version=tf.train.SaverDef.V2)`\n",
      "W0814 20:53:23.617845 139790696757120 saver.py:1138] now on by default.\n",
      "W0814 20:53:23.618881 139790696757120 saver.py:1139] *******************************************************\n"
     ]
    },
    {
     "name": "stdout",
     "output_type": "stream",
     "text": [
      "Epoch: 28, Step: 3000, Loss: 0.11825\n",
      "Epoch: 28, Step: 3010, Loss: 0.0850691\n",
      "Epoch: 28, Step: 3020, Loss: 0.196543\n",
      "Epoch: 28, Step: 3030, Loss: 0.113058\n",
      "Epoch: 28, Step: 3040, Loss: 0.103467\n",
      "Epoch: 28, Step: 3050, Loss: 0.107672\n",
      "Epoch: 28, Step: 3060, Loss: 0.263668\n",
      "Epoch: 28, Step: 3070, Loss: 0.306798\n",
      "Epoch: 28, Step: 3080, Loss: 0.242682\n",
      "Epoch: 28, Step: 3090, Loss: 0.0877326\n"
     ]
    },
    {
     "name": "stderr",
     "output_type": "stream",
     "text": [
      "W0814 20:54:04.353812 139790696757120 saver.py:1134] *******************************************************\n",
      "W0814 20:54:04.354937 139790696757120 saver.py:1135] TensorFlow's V1 checkpoint format has been deprecated.\n",
      "W0814 20:54:04.358624 139790696757120 saver.py:1136] Consider switching to the more efficient V2 format:\n",
      "W0814 20:54:04.361188 139790696757120 saver.py:1137]    `tf.train.Saver(write_version=tf.train.SaverDef.V2)`\n",
      "W0814 20:54:04.365182 139790696757120 saver.py:1138] now on by default.\n",
      "W0814 20:54:04.366251 139790696757120 saver.py:1139] *******************************************************\n"
     ]
    },
    {
     "name": "stdout",
     "output_type": "stream",
     "text": [
      "Epoch: 28, Step: 3100, Loss: 0.0535188\n",
      "Epoch: 28, Step: 3110, Loss: 0.0684985\n",
      "Epoch: 28, Step: 3120, Loss: 0.0561058\n",
      "Epoch: 28, Step: 3130, Loss: 0.215483\n",
      "Epoch: 28, Step: 3140, Loss: 0.148442\n",
      "Epoch: 28, Step: 3150, Loss: 0.0642677\n",
      "Epoch: 28, Step: 3160, Loss: 0.0575044\n",
      "Epoch: 28, Step: 3170, Loss: 0.0590053\n",
      "Epoch: 28, Step: 3180, Loss: 0.0635313\n",
      "Epoch: 28, Step: 3190, Loss: 0.0536664\n"
     ]
    },
    {
     "name": "stderr",
     "output_type": "stream",
     "text": [
      "W0814 20:54:45.441819 139790696757120 saver.py:1134] *******************************************************\n",
      "W0814 20:54:45.442728 139790696757120 saver.py:1135] TensorFlow's V1 checkpoint format has been deprecated.\n",
      "W0814 20:54:45.444454 139790696757120 saver.py:1136] Consider switching to the more efficient V2 format:\n",
      "W0814 20:54:45.445384 139790696757120 saver.py:1137]    `tf.train.Saver(write_version=tf.train.SaverDef.V2)`\n",
      "W0814 20:54:45.446223 139790696757120 saver.py:1138] now on by default.\n",
      "W0814 20:54:45.447098 139790696757120 saver.py:1139] *******************************************************\n"
     ]
    },
    {
     "name": "stdout",
     "output_type": "stream",
     "text": [
      "Epoch: 28, Step: 3200, Loss: 0.142171\n",
      "Epoch: 28, Step: 3210, Loss: 0.0867817\n",
      "Epoch: 28, Step: 3220, Loss: 4.76047\n",
      "Epoch: 28, Step: 3230, Loss: 0.526508\n",
      "Epoch: 28, Step: 3240, Loss: 0.0764203\n",
      "Epoch: 28, Step: 3250, Loss: 0.0798067\n",
      "Model saved in file: ./save/model.ckpt\n"
     ]
    },
    {
     "name": "stderr",
     "output_type": "stream",
     "text": [
      "W0814 20:55:06.990500 139790696757120 saver.py:1134] *******************************************************\n",
      "W0814 20:55:06.991588 139790696757120 saver.py:1135] TensorFlow's V1 checkpoint format has been deprecated.\n",
      "W0814 20:55:06.992326 139790696757120 saver.py:1136] Consider switching to the more efficient V2 format:\n",
      "W0814 20:55:06.996212 139790696757120 saver.py:1137]    `tf.train.Saver(write_version=tf.train.SaverDef.V2)`\n",
      "W0814 20:55:06.998426 139790696757120 saver.py:1138] now on by default.\n",
      "W0814 20:55:06.999760 139790696757120 saver.py:1139] *******************************************************\n"
     ]
    },
    {
     "name": "stdout",
     "output_type": "stream",
     "text": [
      "Epoch: 29, Step: 2900, Loss: 0.0761434\n",
      "Epoch: 29, Step: 2910, Loss: 0.0951153\n",
      "Epoch: 29, Step: 2920, Loss: 0.264793\n",
      "Epoch: 29, Step: 2930, Loss: 0.0971527\n",
      "Epoch: 29, Step: 2940, Loss: 0.0758209\n",
      "Epoch: 29, Step: 2950, Loss: 0.0559155\n",
      "Epoch: 29, Step: 2960, Loss: 0.059985\n",
      "Epoch: 29, Step: 2970, Loss: 0.102603\n",
      "Epoch: 29, Step: 2980, Loss: 0.107866\n",
      "Epoch: 29, Step: 2990, Loss: 0.0810348\n"
     ]
    },
    {
     "name": "stderr",
     "output_type": "stream",
     "text": [
      "W0814 20:55:47.194608 139790696757120 saver.py:1134] *******************************************************\n",
      "W0814 20:55:47.195642 139790696757120 saver.py:1135] TensorFlow's V1 checkpoint format has been deprecated.\n",
      "W0814 20:55:47.200442 139790696757120 saver.py:1136] Consider switching to the more efficient V2 format:\n",
      "W0814 20:55:47.201566 139790696757120 saver.py:1137]    `tf.train.Saver(write_version=tf.train.SaverDef.V2)`\n",
      "W0814 20:55:47.202497 139790696757120 saver.py:1138] now on by default.\n",
      "W0814 20:55:47.204064 139790696757120 saver.py:1139] *******************************************************\n"
     ]
    },
    {
     "name": "stdout",
     "output_type": "stream",
     "text": [
      "Epoch: 29, Step: 3000, Loss: 0.0751163\n",
      "Epoch: 29, Step: 3010, Loss: 0.115012\n",
      "Epoch: 29, Step: 3020, Loss: 0.186621\n",
      "Epoch: 29, Step: 3030, Loss: 0.182147\n",
      "Epoch: 29, Step: 3040, Loss: 0.512571\n",
      "Epoch: 29, Step: 3050, Loss: 0.208113\n",
      "Epoch: 29, Step: 3060, Loss: 0.0701419\n",
      "Epoch: 29, Step: 3070, Loss: 0.11489\n",
      "Epoch: 29, Step: 3080, Loss: 0.136392\n",
      "Epoch: 29, Step: 3090, Loss: 0.100415\n"
     ]
    },
    {
     "name": "stderr",
     "output_type": "stream",
     "text": [
      "W0814 20:56:27.828334 139790696757120 saver.py:1134] *******************************************************\n",
      "W0814 20:56:27.829282 139790696757120 saver.py:1135] TensorFlow's V1 checkpoint format has been deprecated.\n",
      "W0814 20:56:27.830452 139790696757120 saver.py:1136] Consider switching to the more efficient V2 format:\n",
      "W0814 20:56:27.833612 139790696757120 saver.py:1137]    `tf.train.Saver(write_version=tf.train.SaverDef.V2)`\n",
      "W0814 20:56:27.834967 139790696757120 saver.py:1138] now on by default.\n",
      "W0814 20:56:27.835875 139790696757120 saver.py:1139] *******************************************************\n"
     ]
    },
    {
     "name": "stdout",
     "output_type": "stream",
     "text": [
      "Epoch: 29, Step: 3100, Loss: 0.286158\n",
      "Epoch: 29, Step: 3110, Loss: 0.151066\n",
      "Epoch: 29, Step: 3120, Loss: 0.069472\n",
      "Epoch: 29, Step: 3130, Loss: 0.109618\n",
      "Epoch: 29, Step: 3140, Loss: 0.0680567\n",
      "Epoch: 29, Step: 3150, Loss: 0.0672533\n",
      "Epoch: 29, Step: 3160, Loss: 0.101867\n",
      "Epoch: 29, Step: 3170, Loss: 0.0850564\n",
      "Epoch: 29, Step: 3180, Loss: 0.416104\n",
      "Epoch: 29, Step: 3190, Loss: 0.0549816\n"
     ]
    },
    {
     "name": "stderr",
     "output_type": "stream",
     "text": [
      "W0814 20:57:08.095653 139790696757120 saver.py:1134] *******************************************************\n",
      "W0814 20:57:08.096679 139790696757120 saver.py:1135] TensorFlow's V1 checkpoint format has been deprecated.\n",
      "W0814 20:57:08.097442 139790696757120 saver.py:1136] Consider switching to the more efficient V2 format:\n",
      "W0814 20:57:08.100753 139790696757120 saver.py:1137]    `tf.train.Saver(write_version=tf.train.SaverDef.V2)`\n",
      "W0814 20:57:08.103043 139790696757120 saver.py:1138] now on by default.\n",
      "W0814 20:57:08.105119 139790696757120 saver.py:1139] *******************************************************\n"
     ]
    },
    {
     "name": "stdout",
     "output_type": "stream",
     "text": [
      "Epoch: 29, Step: 3200, Loss: 0.0859954\n",
      "Epoch: 29, Step: 3210, Loss: 0.0873268\n",
      "Epoch: 29, Step: 3220, Loss: 0.131833\n",
      "Epoch: 29, Step: 3230, Loss: 0.394799\n",
      "Epoch: 29, Step: 3240, Loss: 0.0669598\n",
      "Epoch: 29, Step: 3250, Loss: 0.0792443\n",
      "Epoch: 29, Step: 3260, Loss: 0.171838\n",
      "Epoch: 29, Step: 3270, Loss: 0.0736655\n",
      "Epoch: 29, Step: 3280, Loss: 0.0766731\n",
      "Epoch: 29, Step: 3290, Loss: 0.057415\n"
     ]
    },
    {
     "name": "stderr",
     "output_type": "stream",
     "text": [
      "W0814 20:57:47.979535 139790696757120 saver.py:1134] *******************************************************\n",
      "W0814 20:57:47.980541 139790696757120 saver.py:1135] TensorFlow's V1 checkpoint format has been deprecated.\n",
      "W0814 20:57:47.981281 139790696757120 saver.py:1136] Consider switching to the more efficient V2 format:\n",
      "W0814 20:57:47.986128 139790696757120 saver.py:1137]    `tf.train.Saver(write_version=tf.train.SaverDef.V2)`\n",
      "W0814 20:57:47.988488 139790696757120 saver.py:1138] now on by default.\n",
      "W0814 20:57:47.990273 139790696757120 saver.py:1139] *******************************************************\n"
     ]
    },
    {
     "name": "stdout",
     "output_type": "stream",
     "text": [
      "Epoch: 29, Step: 3300, Loss: 0.0745666\n",
      "Epoch: 29, Step: 3310, Loss: 0.0937294\n",
      "Epoch: 29, Step: 3320, Loss: 0.483597\n",
      "Epoch: 29, Step: 3330, Loss: 0.424862\n",
      "Epoch: 29, Step: 3340, Loss: 0.449543\n",
      "Epoch: 29, Step: 3350, Loss: 0.179433\n",
      "Model saved in file: ./save/model.ckpt\n",
      "Run the command line:\n",
      "--> tensorboard --logdir=./logs \n",
      "Then open http://0.0.0.0:6006/ into your web browser\n"
     ]
    }
   ],
   "source": [
    "#Training the model with RMSPropOptimzer with 1e-4 learning rate\n",
    "import os\n",
    "import tensorflow as tf\n",
    "from tensorflow.core.protobuf import saver_pb2\n",
    "\n",
    "LOGDIR = './save'\n",
    "\n",
    "sess = tf.InteractiveSession()\n",
    "\n",
    "L2NormConst = 0.001\n",
    "\n",
    "train_vars = tf.trainable_variables()\n",
    "\n",
    "loss = tf.reduce_mean(tf.square(tf.subtract(y_, y))) + tf.add_n([tf.nn.l2_loss(v) for v in train_vars]) * L2NormConst\n",
    "train_step = tf.train.RMSPropOptimizer(1e-4).minimize(loss)\n",
    "sess.run(tf.initialize_all_variables())\n",
    "\n",
    "# create a summary to monitor cost tensor\n",
    "tf.summary.scalar(\"loss\", loss)\n",
    "# merge all summaries into a single op\n",
    "merged_summary_op =  tf.summary.merge_all()\n",
    "\n",
    "saver = tf.train.Saver(write_version = saver_pb2.SaverDef.V1)\n",
    "\n",
    "# op to write logs to Tensorboard\n",
    "logs_path = './logs'\n",
    "summary_writer = tf.summary.FileWriter(logs_path, graph=tf.get_default_graph())\n",
    "\n",
    "epochs = 30\n",
    "batch_size = 100\n",
    "\n",
    "# train over the dataset about 30 times\n",
    "for epoch in range(epochs):\n",
    "  for i in range(int(num_images/batch_size)):\n",
    "    xs, ys = LoadTrainBatch(batch_size)\n",
    "    train_step.run(feed_dict={x: xs, y_: ys, keep_prob: 0.7})\n",
    "    if i % 10 == 0:\n",
    "      xs, ys = LoadValBatch(batch_size)\n",
    "      loss_value = loss.eval(feed_dict={x:xs, y_: ys, keep_prob: 1.0})\n",
    "      print(\"Epoch: %d, Step: %d, Loss: %g\" % (epoch, epoch * batch_size + i, loss_value))\n",
    "\n",
    "    # write logs at every iteration\n",
    "    summary = merged_summary_op.eval(feed_dict={x:xs, y_: ys, keep_prob: 1.0})\n",
    "    summary_writer.add_summary(summary, epoch * num_images/batch_size + i)\n",
    "\n",
    "    if i % batch_size == 0:\n",
    "      if not os.path.exists(LOGDIR):\n",
    "        os.makedirs(LOGDIR)\n",
    "      checkpoint_path = os.path.join(LOGDIR, \"model.ckpt\")\n",
    "      filename = saver.save(sess, checkpoint_path)\n",
    "  print(\"Model saved in file: %s\" % filename)\n",
    "\n",
    "print(\"Run the command line:\\n\" \\\n",
    "          \"--> tensorboard --logdir=./logs \" \\\n",
    "          \"\\nThen open http://0.0.0.0:6006/ into your web browser\")\n"
   ]
  },
  {
   "cell_type": "code",
   "execution_count": 0,
   "metadata": {
    "colab": {},
    "colab_type": "code",
    "id": "VR9LRy8di5GS"
   },
   "outputs": [],
   "source": [
    "# Predicting Degrees\n",
    "\n",
    "degrees_predicted = []\n",
    "for i in range(len(val_xs)):\n",
    "    full_image = scipy.misc.imread(val_xs[i], mode=\"RGB\")\n",
    "    image = scipy.misc.imresize(full_image[-150:], [66, 200]) / 255.0\n",
    "    degrees = sess.run(y,feed_dict={x: [image], keep_prob: 0.7})[0][0] * 180.0 / scipy.pi\n",
    "    degrees_predicted.append(degrees)"
   ]
  },
  {
   "cell_type": "code",
   "execution_count": 15,
   "metadata": {
    "colab": {
     "base_uri": "https://localhost:8080/",
     "height": 1000
    },
    "colab_type": "code",
    "id": "ZUWneBzYi5Ch",
    "outputId": "65a3f3e5-dc68-4918-fd61-4d5c13b8d9b3"
   },
   "outputs": [
    {
     "data": {
      "text/html": [
       "<div>\n",
       "<style scoped>\n",
       "    .dataframe tbody tr th:only-of-type {\n",
       "        vertical-align: middle;\n",
       "    }\n",
       "\n",
       "    .dataframe tbody tr th {\n",
       "        vertical-align: top;\n",
       "    }\n",
       "\n",
       "    .dataframe thead th {\n",
       "        text-align: right;\n",
       "    }\n",
       "</style>\n",
       "<table border=\"1\" class=\"dataframe\">\n",
       "  <thead>\n",
       "    <tr style=\"text-align: right;\">\n",
       "      <th></th>\n",
       "      <th>degrees</th>\n",
       "      <th>original</th>\n",
       "    </tr>\n",
       "  </thead>\n",
       "  <tbody>\n",
       "    <tr>\n",
       "      <th>0</th>\n",
       "      <td>-26.775018</td>\n",
       "      <td>-28.34</td>\n",
       "    </tr>\n",
       "    <tr>\n",
       "      <th>1</th>\n",
       "      <td>-36.105442</td>\n",
       "      <td>-28.84</td>\n",
       "    </tr>\n",
       "    <tr>\n",
       "      <th>2</th>\n",
       "      <td>-29.432617</td>\n",
       "      <td>-29.75</td>\n",
       "    </tr>\n",
       "    <tr>\n",
       "      <th>3</th>\n",
       "      <td>-28.049645</td>\n",
       "      <td>-31.06</td>\n",
       "    </tr>\n",
       "    <tr>\n",
       "      <th>4</th>\n",
       "      <td>-23.372687</td>\n",
       "      <td>-32.27</td>\n",
       "    </tr>\n",
       "    <tr>\n",
       "      <th>5</th>\n",
       "      <td>-23.521481</td>\n",
       "      <td>-33.48</td>\n",
       "    </tr>\n",
       "    <tr>\n",
       "      <th>6</th>\n",
       "      <td>-20.196150</td>\n",
       "      <td>-34.39</td>\n",
       "    </tr>\n",
       "    <tr>\n",
       "      <th>7</th>\n",
       "      <td>-17.209048</td>\n",
       "      <td>-35.60</td>\n",
       "    </tr>\n",
       "    <tr>\n",
       "      <th>8</th>\n",
       "      <td>-11.020193</td>\n",
       "      <td>-36.50</td>\n",
       "    </tr>\n",
       "    <tr>\n",
       "      <th>9</th>\n",
       "      <td>-44.060072</td>\n",
       "      <td>-37.61</td>\n",
       "    </tr>\n",
       "    <tr>\n",
       "      <th>10</th>\n",
       "      <td>-36.848567</td>\n",
       "      <td>-38.62</td>\n",
       "    </tr>\n",
       "    <tr>\n",
       "      <th>11</th>\n",
       "      <td>-42.914622</td>\n",
       "      <td>-39.63</td>\n",
       "    </tr>\n",
       "    <tr>\n",
       "      <th>12</th>\n",
       "      <td>-45.059158</td>\n",
       "      <td>-39.93</td>\n",
       "    </tr>\n",
       "    <tr>\n",
       "      <th>13</th>\n",
       "      <td>-41.186915</td>\n",
       "      <td>-40.03</td>\n",
       "    </tr>\n",
       "    <tr>\n",
       "      <th>14</th>\n",
       "      <td>-25.674217</td>\n",
       "      <td>-40.03</td>\n",
       "    </tr>\n",
       "    <tr>\n",
       "      <th>15</th>\n",
       "      <td>-19.815530</td>\n",
       "      <td>-40.03</td>\n",
       "    </tr>\n",
       "    <tr>\n",
       "      <th>16</th>\n",
       "      <td>-33.744601</td>\n",
       "      <td>-40.03</td>\n",
       "    </tr>\n",
       "    <tr>\n",
       "      <th>17</th>\n",
       "      <td>-17.097053</td>\n",
       "      <td>-40.03</td>\n",
       "    </tr>\n",
       "    <tr>\n",
       "      <th>18</th>\n",
       "      <td>7.545039</td>\n",
       "      <td>-40.03</td>\n",
       "    </tr>\n",
       "    <tr>\n",
       "      <th>19</th>\n",
       "      <td>9.525646</td>\n",
       "      <td>-40.03</td>\n",
       "    </tr>\n",
       "    <tr>\n",
       "      <th>20</th>\n",
       "      <td>17.203933</td>\n",
       "      <td>-40.03</td>\n",
       "    </tr>\n",
       "    <tr>\n",
       "      <th>21</th>\n",
       "      <td>11.535597</td>\n",
       "      <td>-40.24</td>\n",
       "    </tr>\n",
       "    <tr>\n",
       "      <th>22</th>\n",
       "      <td>6.920322</td>\n",
       "      <td>-40.94</td>\n",
       "    </tr>\n",
       "    <tr>\n",
       "      <th>23</th>\n",
       "      <td>19.873622</td>\n",
       "      <td>-41.14</td>\n",
       "    </tr>\n",
       "    <tr>\n",
       "      <th>24</th>\n",
       "      <td>11.012854</td>\n",
       "      <td>-41.14</td>\n",
       "    </tr>\n",
       "    <tr>\n",
       "      <th>25</th>\n",
       "      <td>-22.269050</td>\n",
       "      <td>-41.14</td>\n",
       "    </tr>\n",
       "    <tr>\n",
       "      <th>26</th>\n",
       "      <td>-13.097631</td>\n",
       "      <td>-41.34</td>\n",
       "    </tr>\n",
       "    <tr>\n",
       "      <th>27</th>\n",
       "      <td>-6.253477</td>\n",
       "      <td>-41.45</td>\n",
       "    </tr>\n",
       "    <tr>\n",
       "      <th>28</th>\n",
       "      <td>-18.302590</td>\n",
       "      <td>-41.45</td>\n",
       "    </tr>\n",
       "    <tr>\n",
       "      <th>29</th>\n",
       "      <td>-22.129354</td>\n",
       "      <td>-41.45</td>\n",
       "    </tr>\n",
       "    <tr>\n",
       "      <th>...</th>\n",
       "      <td>...</td>\n",
       "      <td>...</td>\n",
       "    </tr>\n",
       "    <tr>\n",
       "      <th>13591</th>\n",
       "      <td>21.771544</td>\n",
       "      <td>1.51</td>\n",
       "    </tr>\n",
       "    <tr>\n",
       "      <th>13592</th>\n",
       "      <td>29.852008</td>\n",
       "      <td>1.51</td>\n",
       "    </tr>\n",
       "    <tr>\n",
       "      <th>13593</th>\n",
       "      <td>24.835924</td>\n",
       "      <td>1.51</td>\n",
       "    </tr>\n",
       "    <tr>\n",
       "      <th>13594</th>\n",
       "      <td>25.860715</td>\n",
       "      <td>1.51</td>\n",
       "    </tr>\n",
       "    <tr>\n",
       "      <th>13595</th>\n",
       "      <td>22.344781</td>\n",
       "      <td>1.51</td>\n",
       "    </tr>\n",
       "    <tr>\n",
       "      <th>13596</th>\n",
       "      <td>24.839042</td>\n",
       "      <td>1.61</td>\n",
       "    </tr>\n",
       "    <tr>\n",
       "      <th>13597</th>\n",
       "      <td>25.181644</td>\n",
       "      <td>1.61</td>\n",
       "    </tr>\n",
       "    <tr>\n",
       "      <th>13598</th>\n",
       "      <td>20.705462</td>\n",
       "      <td>1.61</td>\n",
       "    </tr>\n",
       "    <tr>\n",
       "      <th>13599</th>\n",
       "      <td>23.501214</td>\n",
       "      <td>1.51</td>\n",
       "    </tr>\n",
       "    <tr>\n",
       "      <th>13600</th>\n",
       "      <td>15.800007</td>\n",
       "      <td>1.51</td>\n",
       "    </tr>\n",
       "    <tr>\n",
       "      <th>13601</th>\n",
       "      <td>19.697554</td>\n",
       "      <td>1.31</td>\n",
       "    </tr>\n",
       "    <tr>\n",
       "      <th>13602</th>\n",
       "      <td>23.819011</td>\n",
       "      <td>1.21</td>\n",
       "    </tr>\n",
       "    <tr>\n",
       "      <th>13603</th>\n",
       "      <td>9.251898</td>\n",
       "      <td>1.21</td>\n",
       "    </tr>\n",
       "    <tr>\n",
       "      <th>13604</th>\n",
       "      <td>31.563158</td>\n",
       "      <td>1.21</td>\n",
       "    </tr>\n",
       "    <tr>\n",
       "      <th>13605</th>\n",
       "      <td>17.964183</td>\n",
       "      <td>1.21</td>\n",
       "    </tr>\n",
       "    <tr>\n",
       "      <th>13606</th>\n",
       "      <td>17.171193</td>\n",
       "      <td>1.21</td>\n",
       "    </tr>\n",
       "    <tr>\n",
       "      <th>13607</th>\n",
       "      <td>15.798706</td>\n",
       "      <td>1.21</td>\n",
       "    </tr>\n",
       "    <tr>\n",
       "      <th>13608</th>\n",
       "      <td>23.591376</td>\n",
       "      <td>1.21</td>\n",
       "    </tr>\n",
       "    <tr>\n",
       "      <th>13609</th>\n",
       "      <td>22.150695</td>\n",
       "      <td>1.21</td>\n",
       "    </tr>\n",
       "    <tr>\n",
       "      <th>13610</th>\n",
       "      <td>4.783757</td>\n",
       "      <td>1.21</td>\n",
       "    </tr>\n",
       "    <tr>\n",
       "      <th>13611</th>\n",
       "      <td>12.183466</td>\n",
       "      <td>1.21</td>\n",
       "    </tr>\n",
       "    <tr>\n",
       "      <th>13612</th>\n",
       "      <td>23.834124</td>\n",
       "      <td>1.82</td>\n",
       "    </tr>\n",
       "    <tr>\n",
       "      <th>13613</th>\n",
       "      <td>29.290874</td>\n",
       "      <td>2.22</td>\n",
       "    </tr>\n",
       "    <tr>\n",
       "      <th>13614</th>\n",
       "      <td>27.243307</td>\n",
       "      <td>2.22</td>\n",
       "    </tr>\n",
       "    <tr>\n",
       "      <th>13615</th>\n",
       "      <td>27.665285</td>\n",
       "      <td>2.22</td>\n",
       "    </tr>\n",
       "    <tr>\n",
       "      <th>13616</th>\n",
       "      <td>17.992187</td>\n",
       "      <td>2.22</td>\n",
       "    </tr>\n",
       "    <tr>\n",
       "      <th>13617</th>\n",
       "      <td>21.778586</td>\n",
       "      <td>2.22</td>\n",
       "    </tr>\n",
       "    <tr>\n",
       "      <th>13618</th>\n",
       "      <td>28.607966</td>\n",
       "      <td>2.22</td>\n",
       "    </tr>\n",
       "    <tr>\n",
       "      <th>13619</th>\n",
       "      <td>22.819245</td>\n",
       "      <td>2.22</td>\n",
       "    </tr>\n",
       "    <tr>\n",
       "      <th>13620</th>\n",
       "      <td>17.667456</td>\n",
       "      <td>0.00</td>\n",
       "    </tr>\n",
       "  </tbody>\n",
       "</table>\n",
       "<p>13621 rows × 2 columns</p>\n",
       "</div>"
      ],
      "text/plain": [
       "         degrees  original\n",
       "0     -26.775018    -28.34\n",
       "1     -36.105442    -28.84\n",
       "2     -29.432617    -29.75\n",
       "3     -28.049645    -31.06\n",
       "4     -23.372687    -32.27\n",
       "5     -23.521481    -33.48\n",
       "6     -20.196150    -34.39\n",
       "7     -17.209048    -35.60\n",
       "8     -11.020193    -36.50\n",
       "9     -44.060072    -37.61\n",
       "10    -36.848567    -38.62\n",
       "11    -42.914622    -39.63\n",
       "12    -45.059158    -39.93\n",
       "13    -41.186915    -40.03\n",
       "14    -25.674217    -40.03\n",
       "15    -19.815530    -40.03\n",
       "16    -33.744601    -40.03\n",
       "17    -17.097053    -40.03\n",
       "18      7.545039    -40.03\n",
       "19      9.525646    -40.03\n",
       "20     17.203933    -40.03\n",
       "21     11.535597    -40.24\n",
       "22      6.920322    -40.94\n",
       "23     19.873622    -41.14\n",
       "24     11.012854    -41.14\n",
       "25    -22.269050    -41.14\n",
       "26    -13.097631    -41.34\n",
       "27     -6.253477    -41.45\n",
       "28    -18.302590    -41.45\n",
       "29    -22.129354    -41.45\n",
       "...          ...       ...\n",
       "13591  21.771544      1.51\n",
       "13592  29.852008      1.51\n",
       "13593  24.835924      1.51\n",
       "13594  25.860715      1.51\n",
       "13595  22.344781      1.51\n",
       "13596  24.839042      1.61\n",
       "13597  25.181644      1.61\n",
       "13598  20.705462      1.61\n",
       "13599  23.501214      1.51\n",
       "13600  15.800007      1.51\n",
       "13601  19.697554      1.31\n",
       "13602  23.819011      1.21\n",
       "13603   9.251898      1.21\n",
       "13604  31.563158      1.21\n",
       "13605  17.964183      1.21\n",
       "13606  17.171193      1.21\n",
       "13607  15.798706      1.21\n",
       "13608  23.591376      1.21\n",
       "13609  22.150695      1.21\n",
       "13610   4.783757      1.21\n",
       "13611  12.183466      1.21\n",
       "13612  23.834124      1.82\n",
       "13613  29.290874      2.22\n",
       "13614  27.243307      2.22\n",
       "13615  27.665285      2.22\n",
       "13616  17.992187      2.22\n",
       "13617  21.778586      2.22\n",
       "13618  28.607966      2.22\n",
       "13619  22.819245      2.22\n",
       "13620  17.667456      0.00\n",
       "\n",
       "[13621 rows x 2 columns]"
      ]
     },
     "execution_count": 15,
     "metadata": {
      "tags": []
     },
     "output_type": "execute_result"
    }
   ],
   "source": [
    "import pandas as pd\n",
    "data = pd.DataFrame({\"degrees\":degrees_predicted,\"original\":[val_ys[i]*180/scipy.pi for i in range(len(val_ys))]})\n",
    "data"
   ]
  }
 ],
 "metadata": {
  "accelerator": "GPU",
  "colab": {
   "collapsed_sections": [],
   "name": "Self_Driving_Car.ipynb",
   "provenance": [],
   "version": "0.3.2"
  },
  "kernelspec": {
   "display_name": "Python 3",
   "language": "python",
   "name": "python3"
  },
  "language_info": {
   "codemirror_mode": {
    "name": "ipython",
    "version": 3
   },
   "file_extension": ".py",
   "mimetype": "text/x-python",
   "name": "python",
   "nbconvert_exporter": "python",
   "pygments_lexer": "ipython3",
   "version": "3.6.5"
  }
 },
 "nbformat": 4,
 "nbformat_minor": 1
}
